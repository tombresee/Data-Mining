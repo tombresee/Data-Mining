{
 "cells": [
  {
   "cell_type": "markdown",
   "metadata": {
    "toc": true
   },
   "source": [
    "<h1>Table of Contents<span class=\"tocSkip\"></span></h1>\n",
    "<div class=\"toc\"><ul class=\"toc-item\"><li><ul class=\"toc-item\"><li><span><a href=\"#Every-matrix-can-be-seen-as-a-linear-transformation\" data-toc-modified-id=\"Every-matrix-can-be-seen-as-a-linear-transformation-0.1\"><span class=\"toc-item-num\">0.1&nbsp;&nbsp;</span>Every matrix can be seen as a linear transformation</a></span></li><li><span><a href=\"#Example-1.\" data-toc-modified-id=\"Example-1.-0.2\"><span class=\"toc-item-num\">0.2&nbsp;&nbsp;</span>Example 1.</a></span></li><li><span><a href=\"#Example-2.\" data-toc-modified-id=\"Example-2.-0.3\"><span class=\"toc-item-num\">0.3&nbsp;&nbsp;</span>Example 2.</a></span></li><li><span><a href=\"#Example-3.\" data-toc-modified-id=\"Example-3.-0.4\"><span class=\"toc-item-num\">0.4&nbsp;&nbsp;</span>Example 3.</a></span></li><li><span><a href=\"#Example-4.-rotation-matrix\" data-toc-modified-id=\"Example-4.-rotation-matrix-0.5\"><span class=\"toc-item-num\">0.5&nbsp;&nbsp;</span>Example 4. rotation matrix</a></span></li><li><span><a href=\"#Summary\" data-toc-modified-id=\"Summary-0.6\"><span class=\"toc-item-num\">0.6&nbsp;&nbsp;</span>Summary</a></span></li></ul></li><li><span><a href=\"#The-left-singular-values\" data-toc-modified-id=\"The-left-singular-values-1\"><span class=\"toc-item-num\">1&nbsp;&nbsp;</span>The left-singular values</a></span><ul class=\"toc-item\"><li><span><a href=\"#Example-5.\" data-toc-modified-id=\"Example-5.-1.1\"><span class=\"toc-item-num\">1.1&nbsp;&nbsp;</span>Example 5.</a></span></li></ul></li><li><span><a href=\"#The-right-singular-values\" data-toc-modified-id=\"The-right-singular-values-2\"><span class=\"toc-item-num\">2&nbsp;&nbsp;</span>The right-singular values</a></span><ul class=\"toc-item\"><li><span><a href=\"#Example-6.\" data-toc-modified-id=\"Example-6.-2.1\"><span class=\"toc-item-num\">2.1&nbsp;&nbsp;</span>Example 6.</a></span></li></ul></li><li><span><a href=\"#The-nonzero-singular-values\" data-toc-modified-id=\"The-nonzero-singular-values-3\"><span class=\"toc-item-num\">3&nbsp;&nbsp;</span>The nonzero singular values</a></span><ul class=\"toc-item\"><li><span><a href=\"#Example-7.\" data-toc-modified-id=\"Example-7.-3.1\"><span class=\"toc-item-num\">3.1&nbsp;&nbsp;</span>Example 7.</a></span></li></ul></li><li><span><a href=\"#Drawing-a-circle-with-Matplotlib\" data-toc-modified-id=\"Drawing-a-circle-with-Matplotlib-4\"><span class=\"toc-item-num\">4&nbsp;&nbsp;</span>Drawing a circle with Matplotlib</a></span></li><li><span><a href=\"#Rotation-matrix\" data-toc-modified-id=\"Rotation-matrix-5\"><span class=\"toc-item-num\">5&nbsp;&nbsp;</span>Rotation matrix</a></span></li><li><span><a href=\"#Basis-vectors\" data-toc-modified-id=\"Basis-vectors-6\"><span class=\"toc-item-num\">6&nbsp;&nbsp;</span>Basis vectors</a></span></li><li><span><a href=\"#Linear-transformation\" data-toc-modified-id=\"Linear-transformation-7\"><span class=\"toc-item-num\">7&nbsp;&nbsp;</span>Linear transformation</a></span></li><li><span><a href=\"#SVD\" data-toc-modified-id=\"SVD-8\"><span class=\"toc-item-num\">8&nbsp;&nbsp;</span>SVD</a></span></li><li><span><a href=\"#Numpy\" data-toc-modified-id=\"Numpy-9\"><span class=\"toc-item-num\">9&nbsp;&nbsp;</span>Numpy</a></span></li><li><span><a href=\"#Image-processing\" data-toc-modified-id=\"Image-processing-10\"><span class=\"toc-item-num\">10&nbsp;&nbsp;</span>Image processing</a></span></li></ul></div>"
   ]
  },
  {
   "cell_type": "code",
   "execution_count": 26,
   "metadata": {
    "scrolled": false
   },
   "outputs": [],
   "source": [
    "import numpy as np\n",
    "import matplotlib.pyplot as plt\n",
    "import seaborn as sns"
   ]
  },
  {
   "cell_type": "code",
   "execution_count": 27,
   "metadata": {},
   "outputs": [
    {
     "name": "stdout",
     "output_type": "stream",
     "text": [
      "Populating the interactive namespace from numpy and matplotlib\n"
     ]
    }
   ],
   "source": [
    "# Plot style\n",
    "sns.set()\n",
    "%pylab inline\n",
    "pylab.rcParams['figure.figsize'] = (4, 4)\n",
    "# Avoid inaccurate floating values (for inverse matrices in dot product for instance)\n",
    "# See https://stackoverflow.com/questions/24537791/numpy-matrix-inversion-rounding-errors\n",
    "np.set_printoptions(suppress=True)"
   ]
  },
  {
   "cell_type": "code",
   "execution_count": 28,
   "metadata": {},
   "outputs": [
    {
     "data": {
      "text/html": [
       "<style>\n",
       ".pquote {\n",
       "  text-align: left;\n",
       "  margin: 40px 0 40px auto;\n",
       "  width: 70%;\n",
       "  font-size: 1.5em;\n",
       "  font-style: italic;\n",
       "  display: block;\n",
       "  line-height: 1.3em;\n",
       "  color: #5a75a7;\n",
       "  font-weight: 600;\n",
       "  border-left: 5px solid rgba(90, 117, 167, .1);\n",
       "  padding-left: 6px;\n",
       "}\n",
       ".notes {\n",
       "  font-style: italic;\n",
       "  display: block;\n",
       "  margin: 40px 10%;\n",
       "}\n",
       "img + em {\n",
       "  text-align: center;\n",
       "  display: block;\n",
       "  color: gray;\n",
       "  font-size: 0.9em;\n",
       "  font-weight: 600;\n",
       "}\n",
       "</style>\n"
      ],
      "text/plain": [
       "<IPython.core.display.HTML object>"
      ]
     },
     "metadata": {},
     "output_type": "display_data"
    }
   ],
   "source": [
    "%%html\n",
    "<style>\n",
    ".pquote {\n",
    "  text-align: left;\n",
    "  margin: 40px 0 40px auto;\n",
    "  width: 70%;\n",
    "  font-size: 1.5em;\n",
    "  font-style: italic;\n",
    "  display: block;\n",
    "  line-height: 1.3em;\n",
    "  color: #5a75a7;\n",
    "  font-weight: 600;\n",
    "  border-left: 5px solid rgba(90, 117, 167, .1);\n",
    "  padding-left: 6px;\n",
    "}\n",
    ".notes {\n",
    "  font-style: italic;\n",
    "  display: block;\n",
    "  margin: 40px 10%;\n",
    "}\n",
    "img + em {\n",
    "  text-align: center;\n",
    "  display: block;\n",
    "  color: gray;\n",
    "  font-size: 0.9em;\n",
    "  font-weight: 600;\n",
    "}\n",
    "</style>"
   ]
  },
  {
   "cell_type": "code",
   "execution_count": 29,
   "metadata": {},
   "outputs": [
    {
     "data": {
      "application/javascript": [
       "IPython.OutputArea.prototype._should_scroll = function(lines) {\n",
       "    return false;\n",
       "}\n"
      ],
      "text/plain": [
       "<IPython.core.display.Javascript object>"
      ]
     },
     "metadata": {},
     "output_type": "display_data"
    }
   ],
   "source": [
    "%%javascript\n",
    "IPython.OutputArea.prototype._should_scroll = function(lines) {\n",
    "    return false;\n",
    "}"
   ]
  },
  {
   "cell_type": "code",
   "execution_count": 30,
   "metadata": {},
   "outputs": [],
   "source": [
    "def plotVectors(vecs, cols, alpha=1):\n",
    "    \"\"\"\n",
    "    Plot set of vectors.\n",
    "\n",
    "    Parameters\n",
    "    ----------\n",
    "    vecs : array-like\n",
    "        Coordinates of the vectors to plot. Each vectors is in an array. For\n",
    "        instance: [[1, 3], [2, 2]] can be used to plot 2 vectors.\n",
    "    cols : array-like\n",
    "        Colors of the vectors. For instance: ['red', 'blue'] will display the\n",
    "        first vector in red and the second in blue.\n",
    "    alpha : float\n",
    "        Opacity of vectors\n",
    "\n",
    "    Returns:\n",
    "\n",
    "    fig : instance of matplotlib.figure.Figure\n",
    "        The figure of the vectors\n",
    "    \"\"\"\n",
    "    plt.axvline(x=0, color='#A9A9A9', zorder=0)\n",
    "    plt.axhline(y=0, color='#A9A9A9', zorder=0)\n",
    "\n",
    "    for i in range(len(vecs)):\n",
    "        if (isinstance(alpha, list)):\n",
    "            alpha_i = alpha[i]\n",
    "        else:\n",
    "            alpha_i = alpha\n",
    "        x = np.concatenate([[0,0],vecs[i]])\n",
    "        plt.quiver([x[0]],\n",
    "                   [x[1]],\n",
    "                   [x[2]],\n",
    "                   [x[3]],\n",
    "                   angles='xy', scale_units='xy', scale=1, color=cols[i],\n",
    "                  alpha=alpha_i)"
   ]
  },
  {
   "cell_type": "markdown",
   "metadata": {},
   "source": [
    "$$\n",
    "\\newcommand\\bs[1]{\\boldsymbol{#1}}\n",
    "$$"
   ]
  },
  {
   "cell_type": "markdown",
   "metadata": {},
   "source": [
    "<span class='notes'>\n",
    "    This content is part of a series following the chapter 2 on linear algebra from the [Deep Learning Book](http://www.deeplearningbook.org/) by Goodfellow, I., Bengio, Y., and Courville, A. (2016). It aims to provide intuitions/drawings/python code on mathematical theories and is constructed as my understanding of these concepts. You can check the syllabus in the [introduction post](https://hadrienj.github.io/posts/Deep-Learning-Book-Series-Introduction/).\n",
    "</span>"
   ]
  },
  {
   "cell_type": "markdown",
   "metadata": {},
   "source": [
    "# Introduction\n",
    "\n",
    "The last chapter was a lot of fun! This one will be a bit less heavy. We will see another way to decompose matrices: the Singular Value Decomposition or SVD. Since the beginning of this series, I emphasized the fact that you can see matrices as linear transformation in space. With the SVD, you decompose a matrix in three other matrices. You can see these new matrices as *sub-transformations* of the space. Instead of doing the transformation in one movement, we decompose it in three movements. As a bonus, we will apply the SVD to image processing. We will see the effect of SVD on an image of Lucy the goose (it is just a goose named Lucy...) so keep on reading!"
   ]
  },
  {
   "cell_type": "markdown",
   "metadata": {
    "hideCode": false,
    "hidePrompt": false
   },
   "source": [
    "# 2.8 Singular Value Decomposition"
   ]
  },
  {
   "cell_type": "markdown",
   "metadata": {
    "hideCode": false,
    "hidePrompt": false
   },
   "source": [
    "<img src=\"images/unit-circle-transformation1.png\" width=\"400\" alt=\"Plot of the unit circle and its transformation\" title=\"Transformation of the unit circle\">\n",
    "<em>The unit circle and its transformation by a matrix.</em>\n",
    "\n",
    "We saw in [2.7](https://hadrienj.github.io/posts/Deep-Learning-Book-Series-2.7-Eigendecomposition/) that the eigendecomposition can be done only for square matrices. The way to go to decompose other types of matrices that can't be decomposed with eigendecomposition is to use **Singular Value Decomposition** (SVD).\n",
    "\n",
    "We will decompose $\\bs{A}$ into 3 matrices (instead of two with eigendecomposition):\n",
    "\n",
    "<img src=\"images/singular-value-decomposition.png\" width=\"300\" alt=\"Illustration of the singular value decomposition\" title=\"The singular value decomposition\">\n",
    "<em>The singular value decomposition</em>\n",
    "\n",
    "The matrices $\\bs{U}$, $\\bs{D}$, and $\\bs{V}$ have the following properties:\n",
    "\n",
    "- $\\bs{U}$ and $\\bs{V}$ are orthogonal matrices ($\\bs{U}^\\text{T}=\\bs{U}^{-1}$ and $\\bs{V}^\\text{T}=\\bs{V}^{-1}$; see [2.6](https://hadrienj.github.io/posts/Deep-Learning-Book-Series-2.6-Special-Kinds-of-Matrices-and-Vectors/) for more details about orthogonal matrices)\n",
    "\n",
    "- $\\bs{D}$ is a diagonal matrix (all 0 except the diagonal ; see [2.6](https://hadrienj.github.io/posts/Deep-Learning-Book-Series-2.6-Special-Kinds-of-Matrices-and-Vectors/)). However $\\bs{D}$ is not necessarily square.\n",
    "\n",
    "The columns of $\\bs{U}$ are called the left-singular vectors of $\\bs{A}$ while the columns of $\\bs{V}$ are the right-singular vectors of $\\bs{A}$. The values along the diagonal of $\\bs{D}$ are the singular values of $\\bs{A}$."
   ]
  },
  {
   "cell_type": "markdown",
   "metadata": {
    "hideCode": false,
    "hidePrompt": false
   },
   "source": [
    "Here are the dimensions of the factorization:\n",
    "\n",
    "<img src=\"images/singular-value-decomposition-understanding-dimensions.png\" width=\"300\" alt=\"Dimensions of the singular value decomposition (SVD)\" title=\"The dimensions of the singular value decomposition (SVD)\">\n",
    "<em>The dimensions of the singular value decomposition</em>\n"
   ]
  },
  {
   "cell_type": "markdown",
   "metadata": {},
   "source": [
    "The diagonal matrix of singular values is not square but have the shape of $\\bs{A}$. Look at the example provided in the [Numpy doc](https://docs.scipy.org/doc/numpy/reference/generated/numpy.linalg.svd.html) to see that they create a matrix of zeros with the same shape as $\\bs{A}$ and fill it with the singular values:\n",
    "\n",
    "```python\n",
    "smat = np.zeros((9, 6), dtype=complex)\n",
    "smat[:6, :6] = np.diag(s)\n",
    "```"
   ]
  },
  {
   "cell_type": "markdown",
   "metadata": {
    "hideCode": false,
    "hidePrompt": false
   },
   "source": [
    "# Intuition\n",
    "\n",
    "I think that the intuition behind the singular value decomposition needs some explanations about the idea of matrix transformation. For that reason, here are several examples showing how the space can be transformed by 2D square matrices. Hopefully, this will lead to a better understanding of this statement: $\\bs{A}$ is a matrix that can be seen as a linear transformation. This transformation can be decomposed in three sub-transformations: 1. rotation, 2. re-scaling, 3. rotation. These three steps correspond to the three matrices $\\bs{U}$, $\\bs{D}$, and $\\bs{V}$.\n",
    "\n",
    "<span class='pquote'>\n",
    "    $\\bs{A}$ is a matrix that can be seen as a linear transformation. This transformation can be decomposed in three sub-transformations: 1. rotation, 2. re-scaling, 3. rotation. These three steps correspond to the three matrices $\\bs{U}$, $\\bs{D}$, and $\\bs{V}$.\n",
    "</span>\n",
    "\n",
    "You can look at [this animation](https://en.wikipedia.org/wiki/Singular-value_decomposition) from the Wikipedia article on the SVD. If you scroll down the page you will see each step.\n",
    "\n",
    "### Every matrix can be seen as a linear transformation\n",
    "\n",
    "You can see a matrix as a specific linear transformation. When you *apply* this matrix to a vector or to another matrix you will apply this linear transformation to it.\n",
    "\n",
    "### Example 1.\n",
    "\n",
    "We will modify the vector:\n",
    "\n",
    "$$\n",
    "\\bs{v}=\\begin{bmatrix}\n",
    "    x\\\\\\\\\n",
    "    y\n",
    "\\end{bmatrix}\n",
    "$$\n",
    "\n",
    "by applying the matrix:\n",
    "\n",
    "$$\n",
    "\\begin{bmatrix}\n",
    "    2 & 0\\\\\\\\\n",
    "    0 & 2\n",
    "\\end{bmatrix}\n",
    "$$\n",
    "\n",
    "We will have:\n",
    "\n",
    "$$\n",
    "\\begin{bmatrix}\n",
    "    x'\\\\\\\\\n",
    "    y'\n",
    "\\end{bmatrix}=\\begin{bmatrix}\n",
    "    2 & 0\\\\\\\\\n",
    "    0 & 2\n",
    "\\end{bmatrix}\n",
    "\\begin{bmatrix}\n",
    "    x\\\\\\\\\n",
    "    y\n",
    "\\end{bmatrix}=\n",
    "\\begin{bmatrix}\n",
    "    2x + 0y\\\\\\\\\n",
    "    0x + 2y\n",
    "\\end{bmatrix}=\n",
    "\\begin{bmatrix}\n",
    "    2x\\\\\\\\\n",
    "    2y\n",
    "\\end{bmatrix}\n",
    "$$\n",
    "\n",
    "We see that applying the matrix:\n",
    "\n",
    "$$\n",
    "\\begin{bmatrix}\n",
    "    2 & 0\\\\\\\\\n",
    "    0 & 2\n",
    "\\end{bmatrix}\n",
    "$$\n",
    "\n",
    "just doubled each coordinate of our vector. Here are the graphical representation of $\\bs{v}$ and its transformation $\\bs{w}$:\n",
    "\n",
    "<img src=\"images/transformation-vector-by-matrix.png\" width=\"400\" alt=\"Plot of a vector and its transformation\" title=\"The matrix increased both coordinates of the vector\">\n",
    "<em>Applying the matrix on the vector multiplied each coordinate by two</em>\n",
    "\n",
    "You can look at other examples of simple transformations on vectors and unit circle in [this video](https://www.youtube.com/watch?v=kJIUbtSowRg).\n"
   ]
  },
  {
   "cell_type": "markdown",
   "metadata": {
    "hideCode": false,
    "hidePrompt": false
   },
   "source": [
    "### Example 2.\n",
    "\n",
    "To represent the linear transformation associated with matrices we can also draw the unit circle and see how a matrix can transform it (see the BONUS in [2.7](https://hadrienj.github.io/posts/Deep-Learning-Book-Series-2.7-Eigendecomposition/)). The unit circle represents the coordinates of every unit vectors (vector of length 1, see [2.6](https://hadrienj.github.io/posts/Deep-Learning-Book-Series-2.6-Special-Kinds-of-Matrices-and-Vectors/)).\n",
    "\n",
    "<img src=\"images/unit-circle.png\" width=\"200\" alt=\"Representation of the unit circle\" title=\"The unit circle\">\n",
    "<em>The unit circle</em>\n",
    "\n",
    "It is then possible to apply a matrix to all these unit vectors to see the kind of deformation it will produce.\n",
    "\n",
    "Again, let's apply the matrix:\n",
    "\n",
    "$$\n",
    "\\begin{bmatrix}\n",
    "    2 & 0\\\\\\\\\n",
    "    0 & 2\n",
    "\\end{bmatrix}\n",
    "$$\n",
    "\n",
    "to the unit circle:\n",
    "\n",
    "$$\n",
    "\\begin{bmatrix}\n",
    "    x'\\\\\\\\\n",
    "    y'\n",
    "\\end{bmatrix}=\n",
    "\\begin{bmatrix}\n",
    "    2 & 0\\\\\\\\\n",
    "    0 & 2\n",
    "\\end{bmatrix}\n",
    "\\begin{bmatrix}\n",
    "    x\\\\\\\\\n",
    "    y\n",
    "\\end{bmatrix}=\n",
    "\\begin{bmatrix}\n",
    "    2x\\\\\\\\\n",
    "    2y\n",
    "\\end{bmatrix}\n",
    "$$\n",
    "\n",
    "<img src=\"images/unit-circle-transformation.png\" width=\"400\" alt=\"Representation of the unit circle and its transformation\" title=\"The unit circle and its transformation\">\n",
    "<em>Another representation of the effect of the matrix: each coordinate of the unit circle was multiplied by two</em>\n",
    "\n",
    "We can see that the matrix doubled the size of the circle. But in some transformations, the change applied to the $x$ coordinate is different from the change applied to the $y$ coordinate. Let's see what it means graphically."
   ]
  },
  {
   "cell_type": "markdown",
   "metadata": {
    "hideCode": false,
    "hidePrompt": false
   },
   "source": [
    "### Example 3.\n",
    "\n",
    "We will apply the matrix:\n",
    "\n",
    "$$\n",
    "\\begin{bmatrix}\n",
    "    3 & 0\\\\\\\\\n",
    "    0 & 2\n",
    "\\end{bmatrix}\n",
    "$$\n",
    "\n",
    "to the unit circle:\n",
    "\n",
    "$$\n",
    "\\begin{bmatrix}\n",
    "    x'\\\\\\\\\n",
    "    y'\n",
    "\\end{bmatrix}=\n",
    "\\begin{bmatrix}\n",
    "    3 & 0\\\\\\\\\n",
    "    0 & 2\n",
    "\\end{bmatrix}\\cdot\n",
    "\\begin{bmatrix}\n",
    "    x\\\\\\\\\n",
    "    y\n",
    "\\end{bmatrix}=\n",
    "\\begin{bmatrix}\n",
    "    3x\\\\\\\\\n",
    "    2y\n",
    "\\end{bmatrix}\n",
    "$$\n",
    "\n",
    "This gives the following new circle:\n",
    "\n",
    "<img src=\"images/unit-circle-transformation1.png\" width=\"400\" alt=\"Representation of the unit circle and its transformation\" title=\"The unit circle and its transformation\">\n",
    "<em>This time the matrix didn't rescale each coordinate with the same weight</em>\n",
    "\n",
    "We can check that with the equations associated with this matrix transformation. Let's say that the coordinates of the new circle (after transformation) are $x'$ and $y'$. The relation between the old coordinates ($x$, $y$) and the new coordinates ($x'$, $y'$) is:\n",
    "\n",
    "$$\n",
    "\\begin{bmatrix}\n",
    "    x'\\\\\\\\\n",
    "    y'\n",
    "\\end{bmatrix}=\n",
    "\\begin{bmatrix}\n",
    "    3x\\\\\\\\\n",
    "    2y\n",
    "\\end{bmatrix}\n",
    "\\Leftrightarrow\n",
    "\\begin{cases}\n",
    "x=\\frac{x'}{3}\\\\\\\\\n",
    "y=\\frac{y'}{2}\n",
    "\\end{cases}\n",
    "$$\n",
    "\n",
    "We also know that the equation of the unit circle is $x^2+y^2=1$ (the norm of the unit vectors is 1, see [2.5](https://hadrienj.github.io/posts/Deep-Learning-Book-Series-2.5-Norms/)). By replacement we end up with:\n",
    "\n",
    "$$\n",
    "\\begin{align*}\n",
    "\\left(\\frac{x'}{3}\\right)^2 + \\left(\\frac{y'}{2}\\right)^2 = 1\\\\\\\\\n",
    "\\left(\\frac{y'}{2}\\right)^2 = 1 - \\left(\\frac{x'}{3}\\right)^2\\\\\\\\\n",
    "\\frac{y'}{2} = \\sqrt{1 - \\left(\\frac{x'}{3}\\right)^2}\\\\\\\\\n",
    "y' = 2\\sqrt{1 - \\left(\\frac{x'}{3}\\right)^2}\n",
    "\\end{align*}\n",
    "$$\n",
    "\n",
    "We can check that this equation corresponds to our transformed circle. Let's start by drawing the old circle. Its equation is:\n",
    "\n",
    "$$\n",
    "\\begin{align*}\n",
    "x^2+y^2=1\\\\\\\\\n",
    "y^2=1-x^2\\\\\\\\\n",
    "y=\\sqrt{1-x^2}\n",
    "\\end{align*}\n",
    "$$"
   ]
  },
  {
   "cell_type": "code",
   "execution_count": 31,
   "metadata": {
    "hideCode": false,
    "hidePrompt": false
   },
   "outputs": [
    {
     "data": {
      "image/png": "[encoded data removed]",
      "text/plain": [
       "<Figure size 288x288 with 1 Axes>"
      ]
     },
     "metadata": {
      "needs_background": "light"
     },
     "output_type": "display_data"
    }
   ],
   "source": [
    "x = np.linspace(-1, 1, 100000)\n",
    "y = np.sqrt(1-(x**2))\n",
    "plt.plot(x, y, sns.color_palette().as_hex()[0])\n",
    "plt.plot(x, -y, sns.color_palette().as_hex()[0])\n",
    "plt.xlim(-1.5, 1.5)\n",
    "plt.ylim(-1.5, 1.5)\n",
    "plt.show()"
   ]
  },
  {
   "cell_type": "markdown",
   "metadata": {
    "hideCode": false,
    "hidePrompt": false
   },
   "source": [
    "So far so good!\n",
    "\n",
    "*Coding tip*: You can see the trick to plot a circle here: you create the $x$ variable, then $y$ is defined from $x$. This means that for each $x$, the corresponding $y$ value is calculated (and thus $y$ has the same shape as $x$). Since the result of the square root can be negative or positive (for instance, 4 can be the result of $2^2$ but also of $(-2)^2$) we need to plot both solutions ($y$ and $-y$ in `plt.plot`). Note also that a lot of values are needed if we want the connection between the two demi-spheres. See also some discussion [here](https://stackoverflow.com/questions/32092899/plot-equation-showing-a-circle).\n",
    "\n",
    "\n",
    "Now let's add the circle obtained after matrix transformation. We saw that it is defined with\n",
    "\n",
    "$$\n",
    "y = 2\\sqrt{1 - \\left(\\frac{x}{3}\\right)^2}\n",
    "$$"
   ]
  },
  {
   "cell_type": "code",
   "execution_count": 32,
   "metadata": {
    "hideCode": false,
    "hidePrompt": false
   },
   "outputs": [
    {
     "data": {
      "image/png": "[encoded data removed]",
      "text/plain": [
       "<Figure size 288x288 with 1 Axes>"
      ]
     },
     "metadata": {
      "needs_background": "light"
     },
     "output_type": "display_data"
    }
   ],
   "source": [
    "x1 = np.linspace(-3, 3, 100000)\n",
    "y1 = 2*np.sqrt(1-((x1/3)**2))\n",
    "plt.plot(x, y, sns.color_palette().as_hex()[0])\n",
    "plt.plot(x, -y, sns.color_palette().as_hex()[0])\n",
    "plt.plot(x1, y1, sns.color_palette().as_hex()[1])\n",
    "plt.plot(x1, -y1, sns.color_palette().as_hex()[1])\n",
    "plt.xlim(-4, 4)\n",
    "plt.ylim(-4, 4)\n",
    "plt.show()"
   ]
  },
  {
   "cell_type": "markdown",
   "metadata": {
    "hideCode": false,
    "hidePrompt": false
   },
   "source": [
    "This shows that our transformation was correct.\n",
    "\n",
    "Note that these examples used **diagonal matrices** (all zeros except the diagonal). The general rule is that the transformation associated with diagonal matrices imply only a rescaling of each coordinate **without rotation**. This is a first element to understand the SVD. Look again at the decomposition\n",
    "\n",
    "<img src=\"images/singular-value-decomposition.png\" width=\"300\">\n",
    "\n",
    "<span class='pquote'>\n",
    "    The transformation associated with diagonal matrices imply only a rescaling of each coordinate **without rotation**\n",
    "</span>\n",
    "\n",
    "We saw that the matrix $\\bs{D}$ is a diagonal matrix. And we saw also that it corresponds to a rescaling without rotation."
   ]
  },
  {
   "cell_type": "markdown",
   "metadata": {
    "hideCode": false,
    "hidePrompt": false
   },
   "source": [
    "### Example 4. rotation matrix\n",
    "\n",
    "Matrices that are not diagonal can produce a rotation (see more details [here](https://en.wikipedia.org/wiki/Rotation_matrix)). Since it is easier to think about angles when we talk about rotation, we will use a matrix of the form\n",
    "\n",
    "$$\n",
    "R=\n",
    "\\begin{bmatrix}\n",
    "    cos(\\theta) & -sin(\\theta)\\\\\\\\\n",
    "    sin(\\theta) & cos(\\theta)\n",
    "\\end{bmatrix}\n",
    "$$\n",
    "\n",
    "This matrix will rotate our vectors or matrices counterclockwise through an angle $\\theta$. Our new coordinates will be\n",
    "\n",
    "$$\n",
    "\\begin{bmatrix}\n",
    "    x'\\\\\\\\\n",
    "    y'\n",
    "\\end{bmatrix}=\n",
    "\\begin{bmatrix}\n",
    "    cos(\\theta) & -sin(\\theta)\\\\\\\\\n",
    "    sin(\\theta) & cos(\\theta)\n",
    "\\end{bmatrix}\n",
    "\\begin{bmatrix}\n",
    "    x\\\\\\\\\n",
    "    y\n",
    "\\end{bmatrix}=\n",
    "\\begin{bmatrix}\n",
    "    xcos(\\theta) - ysin(\\theta)\\\\\\\\\n",
    "    xsin(\\theta) + ycos(\\theta)\n",
    "\\end{bmatrix}\n",
    "$$\n",
    "\n",
    "Let's rotate some vectors through an angle of $\\theta = 45^\\circ$.\n",
    "\n",
    "Let's start with the vector $\\bs{u}$ of coordinates $x=0$ and $y=1$ and the vector $\\bs{v}$ of coordinates $x=1$ and $y=0$. The vectors $\\bs{u'}$ $\\bs{v'}$ are the rotated vectors.\n",
    "\n",
    "<img src=\"images/unit-vectors-rotation.png\" width=\"200\" alt=\"Rotation of the unit vectors through matrix operation\" title=\"Rotation of the unit vectors\">\n",
    "<em>Counter clockwise rotation of the unit vectors with $\\theta = 45^\\circ$</em>\n",
    "\n",
    "First, let's plot $\\bs{u}$ and $\\bs{v}$."
   ]
  },
  {
   "cell_type": "code",
   "execution_count": 33,
   "metadata": {
    "hideCode": false,
    "hidePrompt": false
   },
   "outputs": [
    {
     "data": {
      "image/png": "[encoded data removed]",
      "text/plain": [
       "<Figure size 288x288 with 1 Axes>"
      ]
     },
     "metadata": {
      "needs_background": "light"
     },
     "output_type": "display_data"
    }
   ],
   "source": [
    "orange = '#FF9A13'\n",
    "blue = '#1190FF'\n",
    "    \n",
    "u = [1,0]\n",
    "v = [0,1]\n",
    "\n",
    "plotVectors([u, v], cols=[blue, blue])\n",
    "\n",
    "plt.xlim(-1.5, 1.5)\n",
    "plt.ylim(-1.5, 1.5)\n",
    "\n",
    "plt.text(-0.25, 0.2, r'$\\vec{u}$', color=blue, size=18)\n",
    "plt.text(0.4, -0.25, r'$\\vec{v}$', color=blue, size=18)\n",
    "plt.show()"
   ]
  },
  {
   "cell_type": "markdown",
   "metadata": {
    "hideCode": false,
    "hidePrompt": false
   },
   "source": [
    "They are the <a href=\"https://en.wikipedia.org/wiki/Basis_(linear_algebra)\">basis vectors</a> of our space. We will calculate the transformation of these vectors:\n",
    "\n",
    "$$\n",
    "\\begin{cases}\n",
    "u_x = 0\\cdot cos(45) - 1\\cdot sin(45)\\\\\\\\\n",
    "u_y = 0\\cdot sin(45) + 1\\cdot cos(45)\n",
    "\\end{cases}\n",
    "\\Leftrightarrow\n",
    "\\begin{cases}\n",
    "u_x = -sin(45)\\\\\\\\\n",
    "u_y = cos(45)\n",
    "\\end{cases}\n",
    "$$\n",
    "\n",
    "$$\n",
    "\\begin{cases}\n",
    "v_x = 1\\cdot cos(45) - 0\\cdot sin(45)\\\\\\\\\n",
    "v_y = 1\\cdot sin(45) + 0\\cdot cos(45)\n",
    "\\end{cases}\n",
    "\\Leftrightarrow\n",
    "\\begin{cases}\n",
    "v_x = cos(45)\\\\\\\\\n",
    "v_y = sin(45)\n",
    "\\end{cases}\n",
    "$$\n",
    "\n",
    "We will now plot these new vectors to check that they are well our basis vectors rotated through an angle of $45^\\circ$."
   ]
  },
  {
   "cell_type": "code",
   "execution_count": 34,
   "metadata": {},
   "outputs": [
    {
     "data": {
      "image/png": "[encoded data removed]",
      "text/plain": [
       "<Figure size 288x288 with 1 Axes>"
      ]
     },
     "metadata": {
      "needs_background": "light"
     },
     "output_type": "display_data"
    }
   ],
   "source": [
    "u1 = [-np.sin(np.radians(45)), np.cos(np.radians(45))]\n",
    "v1 = [np.cos(np.radians(45)), np.sin(np.radians(45))]\n",
    "\n",
    "plotVectors([u1, v1], cols=[orange, orange])\n",
    "plt.xlim(-1.5, 1.5)\n",
    "plt.ylim(-1.5, 1.5)\n",
    "\n",
    "plt.text(-0.7, 0.1, r\"$\\vec{u'}$\", color=orange, size=18)\n",
    "plt.text(0.4, 0.1, r\"$\\vec{v'}$\", color=orange, size=18)\n",
    "plt.show()"
   ]
  },
  {
   "cell_type": "markdown",
   "metadata": {
    "hideCode": false,
    "hidePrompt": false
   },
   "source": [
    "*Coding tip:* the numpy functions `sin` and `cos` take input in radians. We can convert our angle from degrees to radians with the function `np.radians()`.\n",
    "\n",
    "We can also transform a circle. We will take a rescaled circle (the one from the example 3.) to be able to see the effect of the rotation.\n",
    "\n",
    "<img src=\"images/rescaled-circle-rotated.png\" width=\"300\" alt=\"A rescaled circle (not the same hight and width) rotated\" title=\"Rescaled circle rotated\">\n",
    "<em>The effect of a rotation matrix on a rescaled circle</em>"
   ]
  },
  {
   "cell_type": "code",
   "execution_count": 35,
   "metadata": {
    "hideCode": false,
    "hidePrompt": false
   },
   "outputs": [
    {
     "data": {
      "image/png": "[encoded data removed]",
      "text/plain": [
       "<Figure size 288x288 with 1 Axes>"
      ]
     },
     "metadata": {
      "needs_background": "light"
     },
     "output_type": "display_data"
    }
   ],
   "source": [
    "x = np.linspace(-3, 3, 100000)\n",
    "y = 2*np.sqrt(1-((x/3)**2))\n",
    "\n",
    "x1 = x*np.cos(np.radians(45)) - y*np.sin(np.radians(45))\n",
    "y1 = x*np.sin(np.radians(45)) + y*np.cos(np.radians(45))\n",
    "\n",
    "x1_neg = x*np.cos(np.radians(45)) - -y*np.sin(np.radians(45))\n",
    "y1_neg = x*np.sin(np.radians(45)) + -y*np.cos(np.radians(45))\n",
    "\n",
    "u1 = [-2*np.sin(np.radians(45)), 2*np.cos(np.radians(45))]\n",
    "v1 = [3*np.cos(np.radians(45)), 3*np.sin(np.radians(45))]\n",
    "\n",
    "plotVectors([u1, v1], cols=['#FF9A13', '#FF9A13'])\n",
    "\n",
    "plt.plot(x, y, '#1190FF')\n",
    "plt.plot(x, -y, '#1190FF')\n",
    "\n",
    "plt.plot(x1, y1, '#FF9A13')\n",
    "plt.plot(x1_neg, y1_neg, '#FF9A13')\n",
    "\n",
    "plt.xlim(-4, 4)\n",
    "plt.ylim(-4, 4)\n",
    "plt.show()"
   ]
  },
  {
   "cell_type": "markdown",
   "metadata": {
    "hideCode": false,
    "hidePrompt": false
   },
   "source": [
    "We can see that the circle has been rotated by an angle of $45^\\circ$. We have chosen the length of the vectors from the rescaling weight from example 3 (factor 3 and 2) to match the circle.\n",
    "\n",
    "### Summary\n",
    "\n",
    "I hope that you got how vectors and matrices can be transformed by rotating or scaling matrices. The SVD can be seen as the decomposition of one complex transformation in 3 simpler transformations (a rotation, a scaling and another rotation).\n",
    "\n",
    "Note that we took only square matrices. The SVD can be done even with non square matrices but it is harder to represent transformation associated with non square matrices. For instance, a 3 by 2 matrix will map a 2D space to a 3D space.\n",
    "\n",
    "<img src=\"images/non-square-matrix-change-dimensions.png\" width=\"250\" alt=\"A non square matrix change the number of dimensions of the input\" title=\"Example of a change of dimensions\">\n",
    "<em>A non square matrix change the number of dimensions of the input</em>"
   ]
  },
  {
   "cell_type": "markdown",
   "metadata": {},
   "source": [
    "# The three transformations\n",
    "\n",
    "Now that the link between matrices and linear transformation is clearer we can check that a transformation associated with a matrix can be decomposed with the help of the SVD.\n",
    "\n",
    "But first let's create a function that takes a 2D matrix as an input and draw the unit circle transformation when we apply this matrix to it. It will be useful to visualize the transformations."
   ]
  },
  {
   "cell_type": "code",
   "execution_count": 36,
   "metadata": {
    "hideCode": false,
    "hidePrompt": false
   },
   "outputs": [],
   "source": [
    "def matrixToPlot(matrix, vectorsCol=['#FF9A13', '#1190FF']):\n",
    "    \"\"\"\n",
    "    Modify the unit circle and basis vector by applying a matrix.\n",
    "    Visualize the effect of the matrix in 2D.\n",
    "\n",
    "    Parameters\n",
    "    ----------\n",
    "    matrix : array-like\n",
    "        2D matrix to apply to the unit circle.\n",
    "    vectorsCol : HEX color code\n",
    "        Color of the basis vectors\n",
    "\n",
    "    Returns:\n",
    "\n",
    "    fig : instance of matplotlib.figure.Figure\n",
    "        The figure containing modified unit circle and basis vectors.\n",
    "    \"\"\"\n",
    "    # Unit circle\n",
    "    x = np.linspace(-1, 1, 100000)\n",
    "    y = np.sqrt(1-(x**2))\n",
    "    \n",
    "    # Modified unit circle (separate negative and positive parts)\n",
    "    x1 = matrix[0,0]*x + matrix[0,1]*y\n",
    "    y1 = matrix[1,0]*x + matrix[1,1]*y\n",
    "    x1_neg = matrix[0,0]*x - matrix[0,1]*y\n",
    "    y1_neg = matrix[1,0]*x - matrix[1,1]*y\n",
    "    \n",
    "    # Vectors\n",
    "    u1 = [matrix[0,0],matrix[1,0]]\n",
    "    v1 = [matrix[0,1],matrix[1,1]]\n",
    "    \n",
    "    plotVectors([u1, v1], cols=[vectorsCol[0], vectorsCol[1]])\n",
    "\n",
    "    plt.plot(x1, y1, 'g', alpha=0.5)\n",
    "    plt.plot(x1_neg, y1_neg, 'g', alpha=0.5)"
   ]
  },
  {
   "cell_type": "markdown",
   "metadata": {},
   "source": [
    "We can use it to check that the three transformations given by the SVD are equivalent to the transformation done with the original matrix. We will also draw each step of the SVD to see the independant effect of the first rotation, the scaling and the second rotation.\n",
    "\n",
    "We will use the matrix:\n",
    "\n",
    "$$\n",
    "\\bs{A}=\\begin{bmatrix}\n",
    "    3 & 7\\\\\\\\\n",
    "    5 & 2\n",
    "\\end{bmatrix}\n",
    "$$\n",
    "\n",
    "and plot the unit circle and its transformation by $\\bs{A}$:"
   ]
  },
  {
   "cell_type": "code",
   "execution_count": 37,
   "metadata": {
    "scrolled": true
   },
   "outputs": [
    {
     "ename": "SyntaxError",
     "evalue": "Missing parentheses in call to 'print' (<ipython-input-37-02fb34d80674>, line 3)",
     "output_type": "error",
     "traceback": [
      "\u001b[1;36m  File \u001b[1;32m\"<ipython-input-37-02fb34d80674>\"\u001b[1;36m, line \u001b[1;32m3\u001b[0m\n\u001b[1;33m    print 'Unit circle:'\u001b[0m\n\u001b[1;37m                       ^\u001b[0m\n\u001b[1;31mSyntaxError\u001b[0m\u001b[1;31m:\u001b[0m Missing parentheses in call to 'print'\n"
     ]
    }
   ],
   "source": [
    "A = np.array([[3, 7], [5, 2]])\n",
    "\n",
    "print 'Unit circle:'\n",
    "matrixToPlot(np.array([[1, 0], [0, 1]]))\n",
    "plt.xlim(-1.5, 1.5)\n",
    "plt.ylim(-1.5, 1.5)\n",
    "plt.show()\n",
    "\n",
    "print 'Unit circle transformed by A:'\n",
    "matrixToPlot(A)\n",
    "plt.xlim(-8, 8)\n",
    "plt.ylim(-8, 8)\n",
    "plt.show()"
   ]
  },
  {
   "cell_type": "markdown",
   "metadata": {},
   "source": [
    "This is what we get when we apply the matrix $\\bs{A}$ to the unit circle and the basis vectors. We can see that the two base vectors are not necessarily rotated the same way. This is related to the sign of the determinant of the matrix (see [2.11](https://hadrienj.github.io/posts/Deep-Learning-Book-Series-2.11-The-determinant/)).\n",
    "\n",
    "Let's now compute the SVD of $\\bs{A}$:"
   ]
  },
  {
   "cell_type": "code",
   "execution_count": 38,
   "metadata": {
    "scrolled": true
   },
   "outputs": [
    {
     "ename": "NameError",
     "evalue": "name 'A' is not defined",
     "output_type": "error",
     "traceback": [
      "\u001b[1;31m---------------------------------------------------------------------------\u001b[0m",
      "\u001b[1;31mNameError\u001b[0m                                 Traceback (most recent call last)",
      "\u001b[1;32m<ipython-input-38-75922b558e5e>\u001b[0m in \u001b[0;36m<module>\u001b[1;34m\u001b[0m\n\u001b[1;32m----> 1\u001b[1;33m \u001b[0mU\u001b[0m\u001b[1;33m,\u001b[0m \u001b[0mD\u001b[0m\u001b[1;33m,\u001b[0m \u001b[0mV\u001b[0m \u001b[1;33m=\u001b[0m \u001b[0mnp\u001b[0m\u001b[1;33m.\u001b[0m\u001b[0mlinalg\u001b[0m\u001b[1;33m.\u001b[0m\u001b[0msvd\u001b[0m\u001b[1;33m(\u001b[0m\u001b[0mA\u001b[0m\u001b[1;33m)\u001b[0m\u001b[1;33m\u001b[0m\u001b[0m\n\u001b[0m\u001b[0;32m      2\u001b[0m \u001b[0mU\u001b[0m\u001b[1;33m\u001b[0m\u001b[0m\n",
      "\u001b[1;31mNameError\u001b[0m: name 'A' is not defined"
     ]
    }
   ],
   "source": [
    "U, D, V = np.linalg.svd(A)\n",
    "U"
   ]
  },
  {
   "cell_type": "code",
   "execution_count": null,
   "metadata": {},
   "outputs": [],
   "source": [
    "D"
   ]
  },
  {
   "cell_type": "code",
   "execution_count": null,
   "metadata": {},
   "outputs": [],
   "source": [
    "V"
   ]
  },
  {
   "cell_type": "markdown",
   "metadata": {},
   "source": [
    "We can now look at the sub-transformations by looking at the effect of the matrices $\\bs{U}$, $\\bs{D}$ and $\\bs{V}$ in the reverse order. Note that it returns the right singular vector **already transposed** (see the [doc](https://docs.scipy.org/doc/numpy-1.13.0/reference/generated/numpy.linalg.svd.html))."
   ]
  },
  {
   "cell_type": "code",
   "execution_count": 39,
   "metadata": {
    "hideCode": false,
    "hidePrompt": false,
    "scrolled": true
   },
   "outputs": [
    {
     "ename": "SyntaxError",
     "evalue": "Missing parentheses in call to 'print' (<ipython-input-39-42854f1d4111>, line 2)",
     "output_type": "error",
     "traceback": [
      "\u001b[1;36m  File \u001b[1;32m\"<ipython-input-39-42854f1d4111>\"\u001b[1;36m, line \u001b[1;32m2\u001b[0m\n\u001b[1;33m    print 'Unit circle:'\u001b[0m\n\u001b[1;37m                       ^\u001b[0m\n\u001b[1;31mSyntaxError\u001b[0m\u001b[1;31m:\u001b[0m Missing parentheses in call to 'print'\n"
     ]
    }
   ],
   "source": [
    "# Unit circle\n",
    "print 'Unit circle:'\n",
    "matrixToPlot(np.array([[1, 0], [0, 1]]))\n",
    "plt.xlim(-1.5, 1.5)\n",
    "plt.ylim(-1.5, 1.5)\n",
    "plt.show()\n",
    "\n",
    "print 'First rotation:'\n",
    "matrixToPlot(V)\n",
    "plt.xlim(-1.5, 1.5)\n",
    "plt.ylim(-1.5, 1.5)\n",
    "plt.show()\n",
    "\n",
    "print 'Scaling:'\n",
    "matrixToPlot(np.diag(D).dot(V))\n",
    "plt.xlim(-9, 9)\n",
    "plt.ylim(-9, 9)\n",
    "plt.show()\n",
    "\n",
    "print 'Second rotation:'\n",
    "matrixToPlot(U.dot(np.diag(D)).dot(V))\n",
    "plt.xlim(-8, 8)\n",
    "plt.ylim(-8, 8)\n",
    "plt.show()"
   ]
  },
  {
   "cell_type": "markdown",
   "metadata": {},
   "source": [
    "Just to be sure, you can compare this last step with the transformation by $\\bs{A}$. Fortunately, you will see that the result is the same:"
   ]
  },
  {
   "cell_type": "code",
   "execution_count": 40,
   "metadata": {
    "hideCode": false,
    "hidePrompt": false,
    "scrolled": false
   },
   "outputs": [
    {
     "ename": "NameError",
     "evalue": "name 'A' is not defined",
     "output_type": "error",
     "traceback": [
      "\u001b[1;31m---------------------------------------------------------------------------\u001b[0m",
      "\u001b[1;31mNameError\u001b[0m                                 Traceback (most recent call last)",
      "\u001b[1;32m<ipython-input-40-18a7de75f2f6>\u001b[0m in \u001b[0;36m<module>\u001b[1;34m\u001b[0m\n\u001b[1;32m----> 1\u001b[1;33m \u001b[0mmatrixToPlot\u001b[0m\u001b[1;33m(\u001b[0m\u001b[0mA\u001b[0m\u001b[1;33m)\u001b[0m\u001b[1;33m\u001b[0m\u001b[0m\n\u001b[0m\u001b[0;32m      2\u001b[0m \u001b[0mplt\u001b[0m\u001b[1;33m.\u001b[0m\u001b[0mxlim\u001b[0m\u001b[1;33m(\u001b[0m\u001b[1;33m-\u001b[0m\u001b[1;36m8\u001b[0m\u001b[1;33m,\u001b[0m \u001b[1;36m8\u001b[0m\u001b[1;33m)\u001b[0m\u001b[1;33m\u001b[0m\u001b[0m\n\u001b[0;32m      3\u001b[0m \u001b[0mplt\u001b[0m\u001b[1;33m.\u001b[0m\u001b[0mylim\u001b[0m\u001b[1;33m(\u001b[0m\u001b[1;33m-\u001b[0m\u001b[1;36m8\u001b[0m\u001b[1;33m,\u001b[0m \u001b[1;36m8\u001b[0m\u001b[1;33m)\u001b[0m\u001b[1;33m\u001b[0m\u001b[0m\n\u001b[0;32m      4\u001b[0m \u001b[0mplt\u001b[0m\u001b[1;33m.\u001b[0m\u001b[0mshow\u001b[0m\u001b[1;33m(\u001b[0m\u001b[1;33m)\u001b[0m\u001b[1;33m\u001b[0m\u001b[0m\n",
      "\u001b[1;31mNameError\u001b[0m: name 'A' is not defined"
     ]
    }
   ],
   "source": [
    "matrixToPlot(A)\n",
    "plt.xlim(-8, 8)\n",
    "plt.ylim(-8, 8)\n",
    "plt.show()"
   ]
  },
  {
   "cell_type": "markdown",
   "metadata": {},
   "source": [
    "# Singular values interpretation\n",
    "\n",
    "The singular values are ordered by descending order. They correspond to a new set of features (that are a linear combination of the original features) with the first feature explaining most of the variance. For instance from the last example we can visualize these new features. The major axis of the elipse will be the first left singular vector ($u_1$) and its norm will be the first singular value ($\\sigma_1$)."
   ]
  },
  {
   "cell_type": "code",
   "execution_count": 41,
   "metadata": {},
   "outputs": [
    {
     "ename": "NameError",
     "evalue": "name 'D' is not defined",
     "output_type": "error",
     "traceback": [
      "\u001b[1;31m---------------------------------------------------------------------------\u001b[0m",
      "\u001b[1;31mNameError\u001b[0m                                 Traceback (most recent call last)",
      "\u001b[1;32m<ipython-input-41-b155d7a04320>\u001b[0m in \u001b[0;36m<module>\u001b[1;34m\u001b[0m\n\u001b[1;32m----> 1\u001b[1;33m \u001b[0mu1\u001b[0m \u001b[1;33m=\u001b[0m \u001b[1;33m[\u001b[0m\u001b[0mD\u001b[0m\u001b[1;33m[\u001b[0m\u001b[1;36m0\u001b[0m\u001b[1;33m]\u001b[0m\u001b[1;33m*\u001b[0m\u001b[0mU\u001b[0m\u001b[1;33m[\u001b[0m\u001b[1;36m0\u001b[0m\u001b[1;33m,\u001b[0m\u001b[1;36m0\u001b[0m\u001b[1;33m]\u001b[0m\u001b[1;33m,\u001b[0m \u001b[0mD\u001b[0m\u001b[1;33m[\u001b[0m\u001b[1;36m0\u001b[0m\u001b[1;33m]\u001b[0m\u001b[1;33m*\u001b[0m\u001b[0mU\u001b[0m\u001b[1;33m[\u001b[0m\u001b[1;36m0\u001b[0m\u001b[1;33m,\u001b[0m\u001b[1;36m1\u001b[0m\u001b[1;33m]\u001b[0m\u001b[1;33m]\u001b[0m\u001b[1;33m\u001b[0m\u001b[0m\n\u001b[0m\u001b[0;32m      2\u001b[0m \u001b[0mv1\u001b[0m \u001b[1;33m=\u001b[0m \u001b[1;33m[\u001b[0m\u001b[0mD\u001b[0m\u001b[1;33m[\u001b[0m\u001b[1;36m1\u001b[0m\u001b[1;33m]\u001b[0m\u001b[1;33m*\u001b[0m\u001b[0mU\u001b[0m\u001b[1;33m[\u001b[0m\u001b[1;36m1\u001b[0m\u001b[1;33m,\u001b[0m\u001b[1;36m0\u001b[0m\u001b[1;33m]\u001b[0m\u001b[1;33m,\u001b[0m \u001b[0mD\u001b[0m\u001b[1;33m[\u001b[0m\u001b[1;36m1\u001b[0m\u001b[1;33m]\u001b[0m\u001b[1;33m*\u001b[0m\u001b[0mU\u001b[0m\u001b[1;33m[\u001b[0m\u001b[1;36m1\u001b[0m\u001b[1;33m,\u001b[0m\u001b[1;36m1\u001b[0m\u001b[1;33m]\u001b[0m\u001b[1;33m]\u001b[0m\u001b[1;33m\u001b[0m\u001b[0m\n\u001b[0;32m      3\u001b[0m \u001b[1;33m\u001b[0m\u001b[0m\n\u001b[0;32m      4\u001b[0m \u001b[0mplotVectors\u001b[0m\u001b[1;33m(\u001b[0m\u001b[1;33m[\u001b[0m\u001b[0mu1\u001b[0m\u001b[1;33m,\u001b[0m \u001b[0mv1\u001b[0m\u001b[1;33m]\u001b[0m\u001b[1;33m,\u001b[0m \u001b[0mcols\u001b[0m\u001b[1;33m=\u001b[0m\u001b[1;33m[\u001b[0m\u001b[1;34m'black'\u001b[0m\u001b[1;33m,\u001b[0m \u001b[1;34m'black'\u001b[0m\u001b[1;33m]\u001b[0m\u001b[1;33m)\u001b[0m\u001b[1;33m\u001b[0m\u001b[0m\n\u001b[0;32m      5\u001b[0m \u001b[1;33m\u001b[0m\u001b[0m\n",
      "\u001b[1;31mNameError\u001b[0m: name 'D' is not defined"
     ]
    }
   ],
   "source": [
    "u1 = [D[0]*U[0,0], D[0]*U[0,1]]\n",
    "v1 = [D[1]*U[1,0], D[1]*U[1,1]]\n",
    "\n",
    "plotVectors([u1, v1], cols=['black', 'black'])\n",
    "\n",
    "matrixToPlot(A)\n",
    "\n",
    "plt.text(-5, -4, r\"$\\sigma_1u_1$\", size=18)\n",
    "plt.text(-4, 1, r\"$\\sigma_2u_2$\", size=18)\n",
    "\n",
    "plt.xlim(-8, 8)\n",
    "plt.ylim(-8, 8)\n",
    "plt.show()"
   ]
  },
  {
   "cell_type": "markdown",
   "metadata": {},
   "source": [
    "They are the major ($\\sigma_1u_1$) and minor ($\\sigma_2u_2$) axes of the elipse. We can see that the feature corresponding to this major axis is associated with more variance (the range of value on this axis is bigger than the other). See [2.12](https://hadrienj.github.io/posts/Deep-Learning-Book-Series-2.12-Example-Principal-Components-Analysis/) for more details about the variance explained."
   ]
  },
  {
   "cell_type": "markdown",
   "metadata": {
    "hideCode": false,
    "hidePrompt": false
   },
   "source": [
    "# SVD and eigendecomposition\n",
    "\n",
    "Now that we understand the kind of decomposition done with the SVD, we want to know how the sub-transformations are found.\n",
    "\n",
    "The matrices $\\bs{U}$, $\\bs{D}$ and $\\bs{V}$ can be found by transforming $\\bs{A}$ in a square matrix and by computing the eigenvectors of this square matrix. The square matrix can be obtain by multiplying the matrix $\\bs{A}$ by its transpose in one way or the other:\n",
    "\n",
    "- $\\bs{U}$ corresponds to the eigenvectors of $\\bs{AA}^\\text{T}$\n",
    "- $\\bs{V}$ corresponds to the eigenvectors of $\\bs{A^\\text{T}A}$\n",
    "- $\\bs{D}$ corresponds to the eigenvalues $\\bs{AA}^\\text{T}$ or $\\bs{A^\\text{T}A}$ which are the same.\n",
    "\n",
    "Let's take an example of a non square matrix:\n",
    "\n",
    "$$\n",
    "\\bs{A}=\\begin{bmatrix}\n",
    "    7 & 2\\\\\\\\\n",
    "    3 & 4\\\\\\\\\n",
    "    5 & 3\n",
    "\\end{bmatrix}\n",
    "$$\n",
    "\n",
    "The singular value decomposition can be done with the `linalg.svd()` function from Numpy (note that `np.linalg.eig(A)` works only on square matrices and will give an error for `A`)."
   ]
  },
  {
   "cell_type": "code",
   "execution_count": 42,
   "metadata": {
    "hideCode": false,
    "hidePrompt": false
   },
   "outputs": [
    {
     "data": {
      "text/plain": [
       "array([[-0.69366543,  0.59343205, -0.40824829],\n",
       "       [-0.4427092 , -0.79833696, -0.40824829],\n",
       "       [-0.56818732, -0.10245245,  0.81649658]])"
      ]
     },
     "execution_count": 42,
     "metadata": {},
     "output_type": "execute_result"
    }
   ],
   "source": [
    "A = np.array([[7, 2], [3, 4], [5, 3]])\n",
    "U, D, V = np.linalg.svd(A)\n",
    "U"
   ]
  },
  {
   "cell_type": "code",
   "execution_count": 43,
   "metadata": {
    "hideCode": false,
    "hidePrompt": false
   },
   "outputs": [
    {
     "data": {
      "text/plain": [
       "array([10.25142677,  2.62835484])"
      ]
     },
     "execution_count": 43,
     "metadata": {},
     "output_type": "execute_result"
    }
   ],
   "source": [
    "D"
   ]
  },
  {
   "cell_type": "code",
   "execution_count": 44,
   "metadata": {},
   "outputs": [
    {
     "data": {
      "text/plain": [
       "array([[-0.88033817, -0.47434662],\n",
       "       [ 0.47434662, -0.88033817]])"
      ]
     },
     "execution_count": 44,
     "metadata": {},
     "output_type": "execute_result"
    }
   ],
   "source": [
    "V"
   ]
  },
  {
   "cell_type": "markdown",
   "metadata": {
    "hideCode": false,
    "hidePrompt": false
   },
   "source": [
    "## The left-singular values\n",
    "\n",
    "The left-singular values of $\\bs{A}$ correspond to the eigenvectors of $\\bs{AA}^\\text{T}$.\n",
    "\n",
    "### Example 5.\n",
    "\n",
    "Note that the sign difference comes from the fact that eigenvectors are not unique. The `linalg` functions from Numpy return the normalized eigenvectors. Scaling by `-1` doesn't change their direction or the fact that they are unit vectors."
   ]
  },
  {
   "cell_type": "code",
   "execution_count": 45,
   "metadata": {
    "hideCode": false,
    "hidePrompt": false
   },
   "outputs": [],
   "source": [
    "U, D, V = np.linalg.svd(A)"
   ]
  },
  {
   "cell_type": "markdown",
   "metadata": {},
   "source": [
    "Left singular vectors of A:"
   ]
  },
  {
   "cell_type": "code",
   "execution_count": 46,
   "metadata": {},
   "outputs": [
    {
     "data": {
      "text/plain": [
       "array([[-0.69366543,  0.59343205, -0.40824829],\n",
       "       [-0.4427092 , -0.79833696, -0.40824829],\n",
       "       [-0.56818732, -0.10245245,  0.81649658]])"
      ]
     },
     "execution_count": 46,
     "metadata": {},
     "output_type": "execute_result"
    }
   ],
   "source": [
    "U"
   ]
  },
  {
   "cell_type": "markdown",
   "metadata": {},
   "source": [
    "Eigenvectors of AA_transpose:"
   ]
  },
  {
   "cell_type": "code",
   "execution_count": 47,
   "metadata": {},
   "outputs": [
    {
     "data": {
      "text/plain": [
       "array([[-0.69366543, -0.59343205, -0.40824829],\n",
       "       [-0.4427092 ,  0.79833696, -0.40824829],\n",
       "       [-0.56818732,  0.10245245,  0.81649658]])"
      ]
     },
     "execution_count": 47,
     "metadata": {},
     "output_type": "execute_result"
    }
   ],
   "source": [
    "np.linalg.eig(A.dot(A.T))[1]"
   ]
  },
  {
   "cell_type": "markdown",
   "metadata": {
    "hideCode": false,
    "hidePrompt": false
   },
   "source": [
    "## The right-singular values\n",
    "\n",
    "The right-singular values of $\\bs{A}$ correspond to the eigenvectors of $\\bs{A}^\\text{T}\\bs{A}$.\n",
    "\n",
    "### Example 6."
   ]
  },
  {
   "cell_type": "code",
   "execution_count": 48,
   "metadata": {
    "hideCode": false,
    "hidePrompt": false
   },
   "outputs": [],
   "source": [
    "U, D, V = np.linalg.svd(A)"
   ]
  },
  {
   "cell_type": "markdown",
   "metadata": {},
   "source": [
    "Right singular vectors of A:"
   ]
  },
  {
   "cell_type": "code",
   "execution_count": 49,
   "metadata": {},
   "outputs": [
    {
     "data": {
      "text/plain": [
       "array([[-0.88033817, -0.47434662],\n",
       "       [ 0.47434662, -0.88033817]])"
      ]
     },
     "execution_count": 49,
     "metadata": {},
     "output_type": "execute_result"
    }
   ],
   "source": [
    "V"
   ]
  },
  {
   "cell_type": "markdown",
   "metadata": {},
   "source": [
    "Eigenvectors of A_transposeA:"
   ]
  },
  {
   "cell_type": "code",
   "execution_count": 50,
   "metadata": {},
   "outputs": [
    {
     "data": {
      "text/plain": [
       "array([[ 0.88033817, -0.47434662],\n",
       "       [ 0.47434662,  0.88033817]])"
      ]
     },
     "execution_count": 50,
     "metadata": {},
     "output_type": "execute_result"
    }
   ],
   "source": [
    "np.linalg.eig(A.T.dot(A))[1]"
   ]
  },
  {
   "cell_type": "markdown",
   "metadata": {
    "hideCode": false,
    "hidePrompt": false
   },
   "source": [
    "## The nonzero singular values\n",
    "\n",
    "The nonzero singular values of $\\bs{A}$ are the square roots of the eigenvalues of $\\bs{A}^\\text{T}\\bs{A}$ and $\\bs{AA}^\\text{T}$.\n",
    "\n",
    "### Example 7."
   ]
  },
  {
   "cell_type": "code",
   "execution_count": 51,
   "metadata": {
    "hideCode": false,
    "hidePrompt": false
   },
   "outputs": [
    {
     "data": {
      "text/plain": [
       "array([10.25142677,  2.62835484])"
      ]
     },
     "execution_count": 51,
     "metadata": {},
     "output_type": "execute_result"
    }
   ],
   "source": [
    "U, D, V = np.linalg.svd(A)\n",
    "D"
   ]
  },
  {
   "cell_type": "markdown",
   "metadata": {},
   "source": [
    "Eigenvalues of A_transposeA:"
   ]
  },
  {
   "cell_type": "code",
   "execution_count": 52,
   "metadata": {},
   "outputs": [
    {
     "data": {
      "text/plain": [
       "array([105.09175083,   6.90824917])"
      ]
     },
     "execution_count": 52,
     "metadata": {},
     "output_type": "execute_result"
    }
   ],
   "source": [
    "np.linalg.eig(A.T.dot(A))[0]"
   ]
  },
  {
   "cell_type": "markdown",
   "metadata": {},
   "source": [
    "Eigenvalues of AA_transpose:"
   ]
  },
  {
   "cell_type": "code",
   "execution_count": 53,
   "metadata": {},
   "outputs": [
    {
     "data": {
      "text/plain": [
       "array([105.09175083,   6.90824917,   0.        ])"
      ]
     },
     "execution_count": 53,
     "metadata": {},
     "output_type": "execute_result"
    }
   ],
   "source": [
    "np.linalg.eig(A.dot(A.T))[0]"
   ]
  },
  {
   "cell_type": "markdown",
   "metadata": {},
   "source": [
    "Square root of the eigenvalues:"
   ]
  },
  {
   "cell_type": "code",
   "execution_count": 54,
   "metadata": {},
   "outputs": [
    {
     "data": {
      "text/plain": [
       "array([10.25142677,  2.62835484])"
      ]
     },
     "execution_count": 54,
     "metadata": {},
     "output_type": "execute_result"
    }
   ],
   "source": [
    "np.sqrt(np.linalg.eig(A.T.dot(A))[0])"
   ]
  },
  {
   "cell_type": "markdown",
   "metadata": {},
   "source": [
    "# BONUS: Apply the SVD on images\n",
    "\n",
    "In this example, we will use the SVD to extract the more important features from the image. It is nice to see the effect of the SVD on something very visual. The code is inspired/taken from [this blog post](https://www.frankcleary.com/svdimage/).\n",
    "\n",
    "Let's start by loading an image in python and convert it to a Numpy array. We will convert it to grayscale to have one dimension per pixel. The shape of the matrix corresponds to the dimension of the image filled with intensity values: 1 cell per pixel."
   ]
  },
  {
   "cell_type": "code",
   "execution_count": 55,
   "metadata": {},
   "outputs": [
    {
     "ename": "FileNotFoundError",
     "evalue": "[Errno 2] No such file or directory: 'test_svd.jpg'",
     "output_type": "error",
     "traceback": [
      "\u001b[1;31m---------------------------------------------------------------------------\u001b[0m",
      "\u001b[1;31mFileNotFoundError\u001b[0m                         Traceback (most recent call last)",
      "\u001b[1;32m<ipython-input-55-33bf2ae81e4f>\u001b[0m in \u001b[0;36m<module>\u001b[1;34m\u001b[0m\n\u001b[0;32m      2\u001b[0m \u001b[1;33m\u001b[0m\u001b[0m\n\u001b[0;32m      3\u001b[0m \u001b[0mplt\u001b[0m\u001b[1;33m.\u001b[0m\u001b[0mstyle\u001b[0m\u001b[1;33m.\u001b[0m\u001b[0muse\u001b[0m\u001b[1;33m(\u001b[0m\u001b[1;34m'classic'\u001b[0m\u001b[1;33m)\u001b[0m\u001b[1;33m\u001b[0m\u001b[0m\n\u001b[1;32m----> 4\u001b[1;33m \u001b[0mimg\u001b[0m \u001b[1;33m=\u001b[0m \u001b[0mImage\u001b[0m\u001b[1;33m.\u001b[0m\u001b[0mopen\u001b[0m\u001b[1;33m(\u001b[0m\u001b[1;34m'test_svd.jpg'\u001b[0m\u001b[1;33m)\u001b[0m\u001b[1;33m\u001b[0m\u001b[0m\n\u001b[0m\u001b[0;32m      5\u001b[0m \u001b[1;31m# convert image to grayscale\u001b[0m\u001b[1;33m\u001b[0m\u001b[1;33m\u001b[0m\u001b[0m\n\u001b[0;32m      6\u001b[0m \u001b[0mimggray\u001b[0m \u001b[1;33m=\u001b[0m \u001b[0mimg\u001b[0m\u001b[1;33m.\u001b[0m\u001b[0mconvert\u001b[0m\u001b[1;33m(\u001b[0m\u001b[1;34m'LA'\u001b[0m\u001b[1;33m)\u001b[0m\u001b[1;33m\u001b[0m\u001b[0m\n",
      "\u001b[1;32m~\\AppData\\Local\\Continuum\\anaconda3\\lib\\site-packages\\PIL\\Image.py\u001b[0m in \u001b[0;36mopen\u001b[1;34m(fp, mode)\u001b[0m\n\u001b[0;32m   2607\u001b[0m \u001b[1;33m\u001b[0m\u001b[0m\n\u001b[0;32m   2608\u001b[0m     \u001b[1;32mif\u001b[0m \u001b[0mfilename\u001b[0m\u001b[1;33m:\u001b[0m\u001b[1;33m\u001b[0m\u001b[0m\n\u001b[1;32m-> 2609\u001b[1;33m         \u001b[0mfp\u001b[0m \u001b[1;33m=\u001b[0m \u001b[0mbuiltins\u001b[0m\u001b[1;33m.\u001b[0m\u001b[0mopen\u001b[0m\u001b[1;33m(\u001b[0m\u001b[0mfilename\u001b[0m\u001b[1;33m,\u001b[0m \u001b[1;34m\"rb\"\u001b[0m\u001b[1;33m)\u001b[0m\u001b[1;33m\u001b[0m\u001b[0m\n\u001b[0m\u001b[0;32m   2610\u001b[0m         \u001b[0mexclusive_fp\u001b[0m \u001b[1;33m=\u001b[0m \u001b[1;32mTrue\u001b[0m\u001b[1;33m\u001b[0m\u001b[0m\n\u001b[0;32m   2611\u001b[0m \u001b[1;33m\u001b[0m\u001b[0m\n",
      "\u001b[1;31mFileNotFoundError\u001b[0m: [Errno 2] No such file or directory: 'test_svd.jpg'"
     ]
    }
   ],
   "source": [
    "from PIL import Image\n",
    "\n",
    "plt.style.use('classic')\n",
    "img = Image.open('test_svd.jpg')\n",
    "# convert image to grayscale\n",
    "imggray = img.convert('LA')\n",
    "# convert to numpy array\n",
    "imgmat = np.array(list(imggray.getdata(band=0)), float)\n",
    "# Reshape according to orginal image dimensions\n",
    "imgmat.shape = (imggray.size[1], imggray.size[0])\n",
    "\n",
    "plt.figure(figsize=(9, 6))\n",
    "plt.imshow(imgmat, cmap='gray')\n",
    "plt.show()"
   ]
  },
  {
   "cell_type": "markdown",
   "metadata": {},
   "source": [
    "We will see how to test the effect of SVD on **Lucy the goose**! Let's start to extract the left singular vectors, the singular values and the right singular vectors:"
   ]
  },
  {
   "cell_type": "code",
   "execution_count": 56,
   "metadata": {},
   "outputs": [
    {
     "ename": "NameError",
     "evalue": "name 'imgmat' is not defined",
     "output_type": "error",
     "traceback": [
      "\u001b[1;31m---------------------------------------------------------------------------\u001b[0m",
      "\u001b[1;31mNameError\u001b[0m                                 Traceback (most recent call last)",
      "\u001b[1;32m<ipython-input-56-803eb689079d>\u001b[0m in \u001b[0;36m<module>\u001b[1;34m\u001b[0m\n\u001b[1;32m----> 1\u001b[1;33m \u001b[0mU\u001b[0m\u001b[1;33m,\u001b[0m \u001b[0mD\u001b[0m\u001b[1;33m,\u001b[0m \u001b[0mV\u001b[0m \u001b[1;33m=\u001b[0m \u001b[0mnp\u001b[0m\u001b[1;33m.\u001b[0m\u001b[0mlinalg\u001b[0m\u001b[1;33m.\u001b[0m\u001b[0msvd\u001b[0m\u001b[1;33m(\u001b[0m\u001b[0mimgmat\u001b[0m\u001b[1;33m)\u001b[0m\u001b[1;33m\u001b[0m\u001b[0m\n\u001b[0m",
      "\u001b[1;31mNameError\u001b[0m: name 'imgmat' is not defined"
     ]
    }
   ],
   "source": [
    "U, D, V = np.linalg.svd(imgmat)"
   ]
  },
  {
   "cell_type": "markdown",
   "metadata": {},
   "source": [
    "Let's check the shapes of our matrices:"
   ]
  },
  {
   "cell_type": "code",
   "execution_count": 57,
   "metadata": {},
   "outputs": [
    {
     "ename": "NameError",
     "evalue": "name 'imgmat' is not defined",
     "output_type": "error",
     "traceback": [
      "\u001b[1;31m---------------------------------------------------------------------------\u001b[0m",
      "\u001b[1;31mNameError\u001b[0m                                 Traceback (most recent call last)",
      "\u001b[1;32m<ipython-input-57-f058df3e929c>\u001b[0m in \u001b[0;36m<module>\u001b[1;34m\u001b[0m\n\u001b[1;32m----> 1\u001b[1;33m \u001b[0mimgmat\u001b[0m\u001b[1;33m.\u001b[0m\u001b[0mshape\u001b[0m\u001b[1;33m\u001b[0m\u001b[0m\n\u001b[0m",
      "\u001b[1;31mNameError\u001b[0m: name 'imgmat' is not defined"
     ]
    }
   ],
   "source": [
    "imgmat.shape"
   ]
  },
  {
   "cell_type": "code",
   "execution_count": null,
   "metadata": {},
   "outputs": [],
   "source": [
    "U.shape"
   ]
  },
  {
   "cell_type": "code",
   "execution_count": null,
   "metadata": {},
   "outputs": [],
   "source": [
    "D.shape"
   ]
  },
  {
   "cell_type": "code",
   "execution_count": null,
   "metadata": {},
   "outputs": [],
   "source": [
    "V.shape"
   ]
  },
  {
   "cell_type": "markdown",
   "metadata": {},
   "source": [
    "Remember that $\\bs{D}$ are the singular values that need to be put into a diagonal matrix. Also, $\\bs{V}$ doesn't need to be transposed (see above).\n",
    "\n",
    "The singular vectors and singular values are ordered with the first ones corresponding to the more variance explained. For this reason, using just the first few singular vectors and singular values will provide the reconstruction of the principal elements of the image.\n",
    "\n",
    "We can reconstruct an image from a certain number of singular values. For instance for 2 singular values we will have:\n",
    "\n",
    "<img src=\"images/dimensions-reconstruction-image-singular-value-decomposition.png\" width=\"400\" alt=\"The dimensions of singular value decomposition to reconstruct image from few components\" title=\"Image reconstruction dimensions\">\n",
    "<em>We can reconstruct the image from few components</em>\n",
    "\n",
    "In this example, we have reconstructed the 669px by 1000px image from two singular values. "
   ]
  },
  {
   "cell_type": "code",
   "execution_count": 58,
   "metadata": {},
   "outputs": [
    {
     "data": {
      "image/png": "[encoded data removed]",
      "text/plain": [
       "<Figure size 640x480 with 1 Axes>"
      ]
     },
     "metadata": {},
     "output_type": "display_data"
    }
   ],
   "source": [
    "reconstimg = np.matrix(U[:, :2]) * np.diag(D[:2]) * np.matrix(V[:2, :])\n",
    "plt.imshow(reconstimg, cmap='gray')\n",
    "plt.show()"
   ]
  },
  {
   "cell_type": "markdown",
   "metadata": {},
   "source": [
    "It is hard to see Lucy with only two singular values and singular vectors. But we already see something!\n",
    "\n",
    "We will now draw the reconstruction using different number of singular values."
   ]
  },
  {
   "cell_type": "code",
   "execution_count": 59,
   "metadata": {
    "scrolled": true
   },
   "outputs": [
    {
     "ename": "ValueError",
     "evalue": "shapes (3,3) and (2,2) not aligned: 3 (dim 1) != 2 (dim 0)",
     "output_type": "error",
     "traceback": [
      "\u001b[1;31m---------------------------------------------------------------------------\u001b[0m",
      "\u001b[1;31mValueError\u001b[0m                                Traceback (most recent call last)",
      "\u001b[1;32m<ipython-input-59-f0723adef741>\u001b[0m in \u001b[0;36m<module>\u001b[1;34m\u001b[0m\n\u001b[0;32m      1\u001b[0m \u001b[1;32mfor\u001b[0m \u001b[0mi\u001b[0m \u001b[1;32min\u001b[0m \u001b[1;33m[\u001b[0m\u001b[1;36m5\u001b[0m\u001b[1;33m,\u001b[0m \u001b[1;36m10\u001b[0m\u001b[1;33m,\u001b[0m \u001b[1;36m15\u001b[0m\u001b[1;33m,\u001b[0m \u001b[1;36m20\u001b[0m\u001b[1;33m,\u001b[0m \u001b[1;36m30\u001b[0m\u001b[1;33m,\u001b[0m \u001b[1;36m50\u001b[0m\u001b[1;33m]\u001b[0m\u001b[1;33m:\u001b[0m\u001b[1;33m\u001b[0m\u001b[0m\n\u001b[1;32m----> 2\u001b[1;33m     \u001b[0mreconstimg\u001b[0m \u001b[1;33m=\u001b[0m \u001b[0mnp\u001b[0m\u001b[1;33m.\u001b[0m\u001b[0mmatrix\u001b[0m\u001b[1;33m(\u001b[0m\u001b[0mU\u001b[0m\u001b[1;33m[\u001b[0m\u001b[1;33m:\u001b[0m\u001b[1;33m,\u001b[0m \u001b[1;33m:\u001b[0m\u001b[0mi\u001b[0m\u001b[1;33m]\u001b[0m\u001b[1;33m)\u001b[0m \u001b[1;33m*\u001b[0m \u001b[0mnp\u001b[0m\u001b[1;33m.\u001b[0m\u001b[0mdiag\u001b[0m\u001b[1;33m(\u001b[0m\u001b[0mD\u001b[0m\u001b[1;33m[\u001b[0m\u001b[1;33m:\u001b[0m\u001b[0mi\u001b[0m\u001b[1;33m]\u001b[0m\u001b[1;33m)\u001b[0m \u001b[1;33m*\u001b[0m \u001b[0mnp\u001b[0m\u001b[1;33m.\u001b[0m\u001b[0mmatrix\u001b[0m\u001b[1;33m(\u001b[0m\u001b[0mV\u001b[0m\u001b[1;33m[\u001b[0m\u001b[1;33m:\u001b[0m\u001b[0mi\u001b[0m\u001b[1;33m,\u001b[0m \u001b[1;33m:\u001b[0m\u001b[1;33m]\u001b[0m\u001b[1;33m)\u001b[0m\u001b[1;33m\u001b[0m\u001b[0m\n\u001b[0m\u001b[0;32m      3\u001b[0m     \u001b[0mplt\u001b[0m\u001b[1;33m.\u001b[0m\u001b[0mimshow\u001b[0m\u001b[1;33m(\u001b[0m\u001b[0mreconstimg\u001b[0m\u001b[1;33m,\u001b[0m \u001b[0mcmap\u001b[0m\u001b[1;33m=\u001b[0m\u001b[1;34m'gray'\u001b[0m\u001b[1;33m)\u001b[0m\u001b[1;33m\u001b[0m\u001b[0m\n\u001b[0;32m      4\u001b[0m     \u001b[0mtitle\u001b[0m \u001b[1;33m=\u001b[0m \u001b[1;34m\"n = %s\"\u001b[0m \u001b[1;33m%\u001b[0m \u001b[0mi\u001b[0m\u001b[1;33m\u001b[0m\u001b[0m\n\u001b[0;32m      5\u001b[0m     \u001b[0mplt\u001b[0m\u001b[1;33m.\u001b[0m\u001b[0mtitle\u001b[0m\u001b[1;33m(\u001b[0m\u001b[0mtitle\u001b[0m\u001b[1;33m)\u001b[0m\u001b[1;33m\u001b[0m\u001b[0m\n",
      "\u001b[1;32m~\\AppData\\Local\\Continuum\\anaconda3\\lib\\site-packages\\numpy\\matrixlib\\defmatrix.py\u001b[0m in \u001b[0;36m__mul__\u001b[1;34m(self, other)\u001b[0m\n\u001b[0;32m    213\u001b[0m         \u001b[1;32mif\u001b[0m \u001b[0misinstance\u001b[0m\u001b[1;33m(\u001b[0m\u001b[0mother\u001b[0m\u001b[1;33m,\u001b[0m \u001b[1;33m(\u001b[0m\u001b[0mN\u001b[0m\u001b[1;33m.\u001b[0m\u001b[0mndarray\u001b[0m\u001b[1;33m,\u001b[0m \u001b[0mlist\u001b[0m\u001b[1;33m,\u001b[0m \u001b[0mtuple\u001b[0m\u001b[1;33m)\u001b[0m\u001b[1;33m)\u001b[0m \u001b[1;33m:\u001b[0m\u001b[1;33m\u001b[0m\u001b[0m\n\u001b[0;32m    214\u001b[0m             \u001b[1;31m# This promotes 1-D vectors to row vectors\u001b[0m\u001b[1;33m\u001b[0m\u001b[1;33m\u001b[0m\u001b[0m\n\u001b[1;32m--> 215\u001b[1;33m             \u001b[1;32mreturn\u001b[0m \u001b[0mN\u001b[0m\u001b[1;33m.\u001b[0m\u001b[0mdot\u001b[0m\u001b[1;33m(\u001b[0m\u001b[0mself\u001b[0m\u001b[1;33m,\u001b[0m \u001b[0masmatrix\u001b[0m\u001b[1;33m(\u001b[0m\u001b[0mother\u001b[0m\u001b[1;33m)\u001b[0m\u001b[1;33m)\u001b[0m\u001b[1;33m\u001b[0m\u001b[0m\n\u001b[0m\u001b[0;32m    216\u001b[0m         \u001b[1;32mif\u001b[0m \u001b[0misscalar\u001b[0m\u001b[1;33m(\u001b[0m\u001b[0mother\u001b[0m\u001b[1;33m)\u001b[0m \u001b[1;32mor\u001b[0m \u001b[1;32mnot\u001b[0m \u001b[0mhasattr\u001b[0m\u001b[1;33m(\u001b[0m\u001b[0mother\u001b[0m\u001b[1;33m,\u001b[0m \u001b[1;34m'__rmul__'\u001b[0m\u001b[1;33m)\u001b[0m \u001b[1;33m:\u001b[0m\u001b[1;33m\u001b[0m\u001b[0m\n\u001b[0;32m    217\u001b[0m             \u001b[1;32mreturn\u001b[0m \u001b[0mN\u001b[0m\u001b[1;33m.\u001b[0m\u001b[0mdot\u001b[0m\u001b[1;33m(\u001b[0m\u001b[0mself\u001b[0m\u001b[1;33m,\u001b[0m \u001b[0mother\u001b[0m\u001b[1;33m)\u001b[0m\u001b[1;33m\u001b[0m\u001b[0m\n",
      "\u001b[1;31mValueError\u001b[0m: shapes (3,3) and (2,2) not aligned: 3 (dim 1) != 2 (dim 0)"
     ]
    }
   ],
   "source": [
    "for i in [5, 10, 15, 20, 30, 50]:\n",
    "    reconstimg = np.matrix(U[:, :i]) * np.diag(D[:i]) * np.matrix(V[:i, :])\n",
    "    plt.imshow(reconstimg, cmap='gray')\n",
    "    title = \"n = %s\" % i\n",
    "    plt.title(title)\n",
    "    plt.show()"
   ]
  },
  {
   "cell_type": "markdown",
   "metadata": {},
   "source": [
    "Whaou! Even with 50 components, the quality of the image is not bad!\n",
    "\n",
    "# Conclusion\n",
    "\n",
    "I like this chapter on the SVD because it uses what we have learned so far in a concrete application. The next chapter on the pseudo-inverse is quite cool as well so keep on reading! We will see how to find a near-solution of a system of equation that minimizes the error and at the end we will see an example that uses the pseudo-inverse to find the best fit line of a set of data points."
   ]
  },
  {
   "cell_type": "markdown",
   "metadata": {},
   "source": [
    "<span class='notes'>\n",
    "    Feel free to drop me an email or a comment. The syllabus of this series can be found [in the introduction post](https://hadrienj.github.io/posts/Deep-Learning-Book-Series-Introduction/). All the notebooks can be found on [Github](https://github.com/hadrienj/deepLearningBook-Notes).\n",
    "</span>"
   ]
  },
  {
   "cell_type": "markdown",
   "metadata": {
    "hideCode": false,
    "hidePrompt": false
   },
   "source": [
    "# References\n",
    "\n",
    "## Drawing a circle with Matplotlib\n",
    "\n",
    "- https://stackoverflow.com/questions/32092899/plot-equation-showing-a-circle\n",
    "\n",
    "## Rotation matrix\n",
    "\n",
    "- https://en.wikipedia.org/wiki/Rotation_matrix)\n",
    "\n",
    "## Basis vectors\n",
    "\n",
    "- https://en.wikipedia.org/wiki/Basis_(linear_algebra)\n",
    "\n",
    "## Linear transformation\n",
    "\n",
    "- [Aran Glancy - Linear transformation and matrices](https://www.youtube.com/watch?v=kJIUbtSowRg)\n",
    "\n",
    "## SVD\n",
    "\n",
    "- [Singular Value Decomposition - Wikipedia](https://en.wikipedia.org/wiki/Singular-value_decomposition)\n",
    "\n",
    "- [Professor-svd](https://fr.mathworks.com/company/newsletters/articles/professor-svd.html)\n",
    "\n",
    "- [Intoli - PCA and SVD](https://intoli.com/blog/pca-and-svd/)\n",
    "\n",
    "## Numpy\n",
    "\n",
    "- [Numpy SVD doc](https://docs.scipy.org/doc/numpy-1.13.0/reference/generated/numpy.linalg.svd.html)\n",
    "\n",
    "## Image processing\n",
    "\n",
    "- [Frank Cleary - SVD of an image](https://www.frankcleary.com/svdimage/)"
   ]
  },
  {
   "cell_type": "code",
   "execution_count": 60,
   "metadata": {},
   "outputs": [
    {
     "data": {
      "text/plain": [
       "(0, 10)"
      ]
     },
     "execution_count": 60,
     "metadata": {},
     "output_type": "execute_result"
    },
    {
     "data": {
      "image/png": "[encoded data removed]",
      "text/plain": [
       "<Figure size 640x480 with 1 Axes>"
      ]
     },
     "metadata": {},
     "output_type": "display_data"
    }
   ],
   "source": [
    "u = [0,0,1,6]\n",
    "v = [0,0,4,2]\n",
    "u_bis = [u[2], u[3], v[2],v[3]]\n",
    "w = [u[0]+v[0], u[1]+v[1], u[2]+v[2], u[3]+v[3]]\n",
    "\n",
    "plotVectors([u, u_bis, w], ['red', 'green', 'blue'])\n",
    "plt.xlim(0, 10)\n",
    "plt.ylim(0, 10)"
   ]
  },
  {
   "cell_type": "code",
   "execution_count": null,
   "metadata": {},
   "outputs": [],
   "source": []
  }
 ],
 "metadata": {
  "hide_code_all_hidden": false,
  "kernelspec": {
   "display_name": "Python 3",
   "language": "python",
   "name": "python3"
  },
  "language_info": {
   "codemirror_mode": {
    "name": "ipython",
    "version": 3
   },
   "file_extension": ".py",
   "mimetype": "text/x-python",
   "name": "python",
   "nbconvert_exporter": "python",
   "pygments_lexer": "ipython3",
   "version": "3.5.5"
  },
  "toc": {
   "base_numbering": 1,
   "nav_menu": {},
   "number_sections": true,
   "sideBar": true,
   "skip_h1_title": true,
   "title_cell": "Table of Contents",
   "title_sidebar": "Contents",
   "toc_cell": true,
   "toc_position": {},
   "toc_section_display": true,
   "toc_window_display": false
  },
  "varInspector": {
   "cols": {
    "lenName": 16,
    "lenType": 16,
    "lenVar": 40
   },
   "kernels_config": {
    "python": {
     "delete_cmd_postfix": "",
     "delete_cmd_prefix": "del ",
     "library": "var_list.py",
     "varRefreshCmd": "print(var_dic_list())"
    },
    "r": {
     "delete_cmd_postfix": ") ",
     "delete_cmd_prefix": "rm(",
     "library": "var_list.r",
     "varRefreshCmd": "cat(var_dic_list()) "
    }
   },
   "types_to_exclude": [
    "module",
    "function",
    "builtin_function_or_method",
    "instance",
    "_Feature"
   ],
   "window_display": false
  }
 },
 "nbformat": 4,
 "nbformat_minor": 2
}
