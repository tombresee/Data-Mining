{
 "cells": [
  {
   "cell_type": "markdown",
   "metadata": {
    "toc": true
   },
   "source": [
    "<h1>Table of Contents<span class=\"tocSkip\"></span></h1>\n",
    "<div class=\"toc\"><ul class=\"toc-item\"><li><span><a href=\"#ASSOCIATION-ANALYSIS:\" data-toc-modified-id=\"ASSOCIATION-ANALYSIS:-1\"><span class=\"toc-item-num\">1&nbsp;&nbsp;</span>ASSOCIATION ANALYSIS:</a></span></li><li><span><a href=\"#FINDING-FREQUENT-ITEMSETS:\" data-toc-modified-id=\"FINDING-FREQUENT-ITEMSETS:-2\"><span class=\"toc-item-num\">2&nbsp;&nbsp;</span>FINDING FREQUENT ITEMSETS:</a></span></li><li><span><a href=\"#SIDEWORK:\" data-toc-modified-id=\"SIDEWORK:-3\"><span class=\"toc-item-num\">3&nbsp;&nbsp;</span>SIDEWORK:</a></span></li><li><span><a href=\"#SETS-INTRODUCTION:\" data-toc-modified-id=\"SETS-INTRODUCTION:-4\"><span class=\"toc-item-num\">4&nbsp;&nbsp;</span>SETS INTRODUCTION:</a></span></li><li><span><a href=\"#CONTINUING:\" data-toc-modified-id=\"CONTINUING:-5\"><span class=\"toc-item-num\">5&nbsp;&nbsp;</span>CONTINUING:</a></span></li><li><span><a href=\"#C1-CONTAINS-A-LIST-OF-ALL-THE-ITEMS-IN-FROZENSET:\" data-toc-modified-id=\"C1-CONTAINS-A-LIST-OF-ALL-THE-ITEMS-IN-FROZENSET:-6\"><span class=\"toc-item-num\">6&nbsp;&nbsp;</span>C1 CONTAINS A LIST OF ALL THE ITEMS IN FROZENSET:</a></span></li><li><span><a href=\"#Pseudo-code-for-the-whole-Apriori-algorithm:\" data-toc-modified-id=\"Pseudo-code-for-the-whole-Apriori-algorithm:-7\"><span class=\"toc-item-num\">7&nbsp;&nbsp;</span>Pseudo-code for the whole Apriori algorithm:</a></span></li><li><span><a href=\"#Mining-association-rules-from-frequent-item-sets\" data-toc-modified-id=\"Mining-association-rules-from-frequent-item-sets-8\"><span class=\"toc-item-num\">8&nbsp;&nbsp;</span>Mining association rules from frequent item sets</a></span></li><li><span><a href=\"#END:\" data-toc-modified-id=\"END:-9\"><span class=\"toc-item-num\">9&nbsp;&nbsp;</span>END:</a></span></li></ul></div>"
   ]
  },
  {
   "cell_type": "markdown",
   "metadata": {},
   "source": [
    "```\n",
    "\n",
    "\n",
    "This is the source of all of this code:  \n",
    "    \n",
    "    https://adataanalyst.com/machine-learning/apriori-algorithm-python-3-0/\n",
    "        \n",
    "        \n",
    "     ```   "
   ]
  },
  {
   "cell_type": "markdown",
   "metadata": {},
   "source": [
    "* https://adataanalyst.com/machine-learning/apriori-algorithm-python-3-0/"
   ]
  },
  {
   "cell_type": "markdown",
   "metadata": {},
   "source": [
    "```\n",
    "\n",
    "| is union in python ! ! ! \n",
    "\n",
    "```"
   ]
  },
  {
   "cell_type": "markdown",
   "metadata": {},
   "source": [
    "```\n",
    "\n",
    "The Apriori algorithm principle says that if an itemset is frequent, then all of its subsets are frequent.this means that if {0,1} is frequent, then {0} and {1} have to be frequent.\n",
    "\n",
    "The rule turned around says that if an itemset is infrequent, then its supersets are also infrequent.\n",
    "\n",
    "We first need to find the frequent itemsets, and then we can find association rules.\n",
    "\n",
    "Pros: Easy to code up\n",
    "\n",
    "Cons: May be slow on large datasets\n",
    "\n",
    "Works with: Numeric values, nominal values\n",
    "    \n",
    "    \n",
    "    \n",
    "    ```"
   ]
  },
  {
   "cell_type": "markdown",
   "metadata": {},
   "source": [
    "### ASSOCIATION ANALYSIS:"
   ]
  },
  {
   "cell_type": "markdown",
   "metadata": {},
   "source": [
    "```\n",
    "\n",
    "\n",
    "Looking for hidden relationships in large datasets is known as association analysis or association rule learning. The problem is, finding different combinations of items can be a time-consuming task and prohibitively expensive in terms of computing power.\n",
    "\n",
    "These interesting relationships can take two forms: frequent item sets or association rules. Frequent item sets are a collection of items that frequently occur together. The second way to view interesting relationships is association rules. Association rules suggest that a strong relationship exists between two items.\n",
    "\n",
    "With the frequent item sets and association rules, retailers have a much better understanding of their customers. Another example is search terms from a search engine.\n",
    "\n",
    "The support and confidence are ways we can quantify the success of our association analysis.\n",
    "\n",
    "The support of an itemset is defined as the percentage of the dataset that contains this itemset.\n",
    "\n",
    "The confidence for a rule P ➞ H is defined as support(P | H)/ support(P). Remember, in Python, the | symbol is the set union; the mathematical symbol is U. P | H means all the items in set P or in set H.\n",
    "\n",
    "\n",
    "```"
   ]
  },
  {
   "cell_type": "markdown",
   "metadata": {},
   "source": [
    "```\n",
    "\n",
    "General approach to the Apriori algorithm\n",
    "\n",
    "\n",
    "Collect: Any method.\n",
    "Prepare: Any data type will work as we’re storing sets.\n",
    "Analyze: Any method.\n",
    "Train: Use the Apriori algorithm to find frequent itemsets.\n",
    "Test: Doesn’t apply.\n",
    "Use: This will be used to find frequent itemsets and association rules between items.\n",
    "    \n",
    "    \n",
    "    \n",
    "   ``` \n",
    "    "
   ]
  },
  {
   "cell_type": "markdown",
   "metadata": {},
   "source": [
    "### FINDING FREQUENT ITEMSETS:"
   ]
  },
  {
   "cell_type": "markdown",
   "metadata": {},
   "source": [
    "```\n",
    "\n",
    "\n",
    "\n",
    "The way to find frequent itemsets is the Apriori algorithm. The Apriori algorithm needs a minimum support level as an input and a data set. The algorithm will generate a list of all candidate itemsets with one item. The transaction data set will then be scanned to see which sets meet the minimum support level. Sets that don’t meet the minimum support level will get tossed out. The remaining sets will then be combined to make itemsets with two elements. Again, the transaction dataset will be scanned and itemsets not meeting the minimum support level will get tossed. This procedure will be repeated until all sets are tossed out.\n",
    "\n",
    "\n",
    "\n",
    "```"
   ]
  },
  {
   "cell_type": "markdown",
   "metadata": {},
   "source": [
    "```\n",
    "\n",
    "*Scanning the dataset*\n",
    "\n",
    "For each transaction (tran) in the dataset:\n",
    "\n",
    "For each candidate itemset, can:\n",
    "    \n",
    "    Check to see if can is a subset of tran\n",
    "\n",
    "    If so increment the count of can\n",
    "    \n",
    "\n",
    "For each candidate itemset:\n",
    "\n",
    "    If the support meets the minimum, keep this item\n",
    "\n",
    "    Return list of frequent itemsets\n",
    "    \n",
    "    \n",
    "\n",
    "```\n"
   ]
  },
  {
   "cell_type": "code",
   "execution_count": 422,
   "metadata": {},
   "outputs": [],
   "source": [
    "from numpy import *"
   ]
  },
  {
   "cell_type": "code",
   "execution_count": 423,
   "metadata": {},
   "outputs": [],
   "source": [
    "#Create a simple dataset for testing\n",
    "\n",
    "def loadDataSet():\n",
    "    return [[1, 3, 4], [2, 3, 5], [1, 2, 3, 5], [2, 5]]"
   ]
  },
  {
   "cell_type": "code",
   "execution_count": 424,
   "metadata": {},
   "outputs": [
    {
     "data": {
      "text/plain": [
       "[[1, 3, 4], [2, 3, 5], [1, 2, 3, 5], [2, 5]]"
      ]
     },
     "execution_count": 424,
     "metadata": {},
     "output_type": "execute_result"
    }
   ],
   "source": [
    "loadDataSet()"
   ]
  },
  {
   "cell_type": "code",
   "execution_count": 425,
   "metadata": {},
   "outputs": [],
   "source": [
    "# but this is not a 'set', its raw values in lists..."
   ]
  },
  {
   "cell_type": "code",
   "execution_count": 426,
   "metadata": {},
   "outputs": [
    {
     "name": "stdout",
     "output_type": "stream",
     "text": [
      "<class 'list'>\n"
     ]
    }
   ],
   "source": [
    "print(type(loadDataSet()))\n",
    "\n",
    "#technically a list of lists..."
   ]
  },
  {
   "cell_type": "markdown",
   "metadata": {},
   "source": [
    "```\n",
    "\n",
    "It creates C1.\n",
    "\n",
    "C1 is a candidate itemset of size one. \n",
    "\n",
    "In the Apriori algorithm, we create C1, and then we’ll scan the dataset to see if these one itemsets meet our minimum support requirements. \n",
    "\n",
    "The itemsets that do meet our minimum requirements become L1. \n",
    "\n",
    "L1 then gets combined to become C2 and C2 will get filtered to become L2.\n",
    "\n",
    "Frozensets are sets that are frozen, which means they’re immutable; you can’t change them.\n",
    "\n",
    "You need to use the type frozenset instead of set because you’ll later use these sets as the key in a dictionary.\n",
    "\n",
    "You can’t create a set of just one integer in Python. \n",
    "\n",
    "It needs to be a list (try it out). \n",
    "\n",
    "That’s why you create a list of single-item lists. \n",
    "\n",
    "Finally, you sort the list and then map every item in the list to frozenset() and return this list of frozensets\n",
    "\n",
    "\n",
    "```"
   ]
  },
  {
   "cell_type": "markdown",
   "metadata": {},
   "source": [
    "### SIDEWORK:"
   ]
  },
  {
   "cell_type": "code",
   "execution_count": 427,
   "metadata": {},
   "outputs": [
    {
     "name": "stdout",
     "output_type": "stream",
     "text": [
      "[2, 4, 6, 8]\n",
      "[['s', 'a', 't'], ['b', 'a', 't'], ['c', 'a', 't'], ['m', 'a', 't']]\n"
     ]
    }
   ],
   "source": [
    "# --- side note: --- \n",
    "def addition(n): \n",
    "    return n + n \n",
    "  \n",
    "# We double all numbers using map() \n",
    "\n",
    "numbers = (1, 2, 3, 4) # this is a tuple...\n",
    "\n",
    "result = map(addition, numbers) \n",
    "\n",
    "print(list(result)) \n",
    "\n",
    "# see how it is a list ???\n",
    "\n",
    "\n",
    "\n",
    "\n",
    "# --- ---\n",
    "\n",
    "\n",
    "\n",
    "\n",
    "# List of strings \n",
    "l = ['sat', 'bat', 'cat', 'mat'] \n",
    "  \n",
    "# map() can listify the list of strings individually \n",
    "test = list(map(list, l)) \n",
    "print(test)"
   ]
  },
  {
   "cell_type": "code",
   "execution_count": 428,
   "metadata": {},
   "outputs": [
    {
     "name": "stdout",
     "output_type": "stream",
     "text": [
      "The frozen set is: frozenset({'a', 'u', 'o', 'i', 'e'})\n",
      "The empty frozen set is: frozenset()\n",
      "<class 'frozenset'>\n"
     ]
    }
   ],
   "source": [
    "\n",
    "# The frozenset() method returns an immutable frozenset object initialized with elements from the given iterable.\n",
    "\n",
    "\n",
    "# Due to this, frozen sets can be used as key in Dictionary or as element of another set. But like sets, it is not ordered (the elements can be set at any index).\n",
    "# frozenset([iterable])\n",
    "\n",
    "# The frozenset() method returns an immutable frozenset initialized with elements from the given iterable.\n",
    "\n",
    "\n",
    "\n",
    "# tuple of vowels\n",
    "vowels = ('a', 'e', 'i', 'o', 'u')\n",
    "\n",
    "fSet = frozenset(vowels)\n",
    "\n",
    "print('The frozen set is:', fSet)\n",
    "\n",
    "print('The empty frozen set is:', frozenset())\n",
    "\n",
    "print(type(frozenset()))\n",
    "\n"
   ]
  },
  {
   "cell_type": "code",
   "execution_count": 429,
   "metadata": {},
   "outputs": [
    {
     "name": "stdout",
     "output_type": "stream",
     "text": [
      "The frozen set is: frozenset({'sex', 'age', 'name'})\n"
     ]
    }
   ],
   "source": [
    "#frozenset() for Dictionary: \n",
    "\n",
    "# When you use dictionary as an iterable for a frozen set. \n",
    "# It only takes key of the dictionary to create the set.\n",
    "\n",
    "# random dictionary\n",
    "person = {\"name\": \"John\", \"age\": 23, \"sex\": \"male\"}\n",
    "\n",
    "fSet = frozenset(person)\n",
    "print('The frozen set is:', fSet)\n",
    "\n",
    "# The frozenset() is an inbuilt function is Python which takes an iterable object as input and makes them immutable. \n",
    "# Simply it freezes the iterable objects and makes them unchangeable.\n",
    "\n",
    "# In Python, frozenset is same as set except its elements are immutable. \n",
    "# This function takes input as any iterable object and converts them into immutable object. \n",
    "# The order of element is not guaranteed to be preserved.\n",
    "\n"
   ]
  },
  {
   "cell_type": "code",
   "execution_count": 430,
   "metadata": {},
   "outputs": [
    {
     "name": "stdout",
     "output_type": "stream",
     "text": [
      "frozenset Object is :  frozenset({1, 2, 3, 4, 5, 6, 7, 8, 9})\n"
     ]
    }
   ],
   "source": [
    "# Python program to understand frozenset() function \n",
    "  \n",
    "# tuple of numbers \n",
    "nu = (1, 2, 3, 4, 5, 6, 7, 8, 9) \n",
    "  \n",
    "# converting tuple to frozenset \n",
    "fnum = frozenset(nu) \n",
    "  \n",
    "# printing details \n",
    "print(\"frozenset Object is : \", fnum)"
   ]
  },
  {
   "cell_type": "code",
   "execution_count": 431,
   "metadata": {},
   "outputs": [
    {
     "name": "stdout",
     "output_type": "stream",
     "text": [
      "Student definition dictionary is: \n",
      " {'college': 'MNNIT Allahabad', 'sex': 'Male', 'age': 21, 'address': 'Allahabad', 'name': 'Ankit'}\n",
      "\n",
      "The frozen set is: frozenset({'name', 'sex', 'age', 'address', 'college'})\n"
     ]
    }
   ],
   "source": [
    "# Python program to understand use \n",
    "# of frozenset function \n",
    "  \n",
    "# creating a dictionary  \n",
    "Student = {\"name\": \"Ankit\", \"age\": 21, \"sex\": \"Male\",  \n",
    "           \"college\": \"MNNIT Allahabad\", \"address\": \"Allahabad\"} \n",
    "\n",
    "print(\"Student definition dictionary is: \\n\",Student)\n",
    "print(\"\")    \n",
    "    \n",
    "    \n",
    "# making keys of dictionary as frozenset \n",
    "key = frozenset(Student) \n",
    "  \n",
    "# printing keys details \n",
    "print('The frozen set is:', key) \n",
    "\n",
    "# IF YOU TAKE THE FROZENSET OF A DICT, YOU GET THE KEYTS IT APPEARS....\n"
   ]
  },
  {
   "cell_type": "code",
   "execution_count": 432,
   "metadata": {},
   "outputs": [
    {
     "name": "stdout",
     "output_type": "stream",
     "text": [
      "frozenset({1, 2, 3})\n"
     ]
    },
    {
     "data": {
      "text/plain": [
       "{frozenset({1, 2, 3}): 2}"
      ]
     },
     "execution_count": 432,
     "metadata": {},
     "output_type": "execute_result"
    }
   ],
   "source": [
    "\n",
    "a = frozenset([1,1,1,1,2,3])\n",
    "\n",
    "b = frozenset([3,3,3,3,2,1])\n",
    "\n",
    "print(a)\n",
    "{a:1, b:2}\n",
    "\n",
    "#Is it safe to use a frozenset as a dict key? Yes.\n"
   ]
  },
  {
   "cell_type": "code",
   "execution_count": 433,
   "metadata": {},
   "outputs": [
    {
     "data": {
      "text/plain": [
       "True"
      ]
     },
     "execution_count": 433,
     "metadata": {},
     "output_type": "execute_result"
    }
   ],
   "source": [
    "frozenset([1,2,2,3,3]) == frozenset([3,2,1,1,1])"
   ]
  },
  {
   "cell_type": "markdown",
   "metadata": {},
   "source": [
    "### SETS INTRODUCTION:"
   ]
  },
  {
   "cell_type": "code",
   "execution_count": 434,
   "metadata": {},
   "outputs": [
    {
     "name": "stdout",
     "output_type": "stream",
     "text": [
      "{'cherry', 'apple', 'banana'}\n"
     ]
    }
   ],
   "source": [
    "thisset = {\"apple\", \"banana\", \"cherry\"}\n",
    "print(thisset)"
   ]
  },
  {
   "cell_type": "code",
   "execution_count": 435,
   "metadata": {},
   "outputs": [
    {
     "name": "stdout",
     "output_type": "stream",
     "text": [
      "cherry\n",
      "apple\n",
      "banana\n"
     ]
    }
   ],
   "source": [
    "# You cannot access items in a set by referring to an index, since sets are unordered the items has no index.\n",
    "\n",
    "# But you can loop through the set items using a for loop, or ask if a specified value is present in a set, by using the in keyword.\n",
    "\n",
    "thisset = {\"apple\", \"banana\", \"cherry\"}\n",
    "\n",
    "for x in thisset:\n",
    "  print(x)\n"
   ]
  },
  {
   "cell_type": "code",
   "execution_count": 436,
   "metadata": {},
   "outputs": [
    {
     "name": "stdout",
     "output_type": "stream",
     "text": [
      "True\n"
     ]
    }
   ],
   "source": [
    "thisset = {\"apple\", \"banana\", \"cherry\"}\n",
    "\n",
    "print(\"banana\" in thisset)"
   ]
  },
  {
   "cell_type": "code",
   "execution_count": 437,
   "metadata": {},
   "outputs": [
    {
     "name": "stdout",
     "output_type": "stream",
     "text": [
      "{'orange', 'cherry', 'apple', 'banana'}\n"
     ]
    }
   ],
   "source": [
    "# To add one item to a set use the add() method.\n",
    "\n",
    "# To add more than one item to a set use the update() method.\n",
    "\n",
    "thisset = {\"apple\", \"banana\", \"cherry\"}\n",
    "\n",
    "thisset.add(\"orange\")\n",
    "\n",
    "print(thisset)"
   ]
  },
  {
   "cell_type": "code",
   "execution_count": 438,
   "metadata": {},
   "outputs": [
    {
     "name": "stdout",
     "output_type": "stream",
     "text": [
      "{'banana', 'mango', 'apple', 'orange', 'cherry', 'grapes'}\n"
     ]
    }
   ],
   "source": [
    "\n",
    "#Add multiple items to a set, using the update() method:\n",
    "\n",
    "thisset = {\"apple\", \"banana\", \"cherry\"}\n",
    "\n",
    "thisset.update([\"orange\", \"mango\", \"grapes\"])\n",
    "# and when you do it, its a LIST of elements you will add ...\n",
    "\n",
    "print(thisset)\n",
    "\n",
    "    "
   ]
  },
  {
   "cell_type": "code",
   "execution_count": 439,
   "metadata": {},
   "outputs": [
    {
     "name": "stdout",
     "output_type": "stream",
     "text": [
      "3\n"
     ]
    }
   ],
   "source": [
    "thisset = {\"apple\", \"banana\", \"cherry\"}\n",
    "\n",
    "print(len(thisset))"
   ]
  },
  {
   "cell_type": "code",
   "execution_count": 440,
   "metadata": {},
   "outputs": [
    {
     "name": "stdout",
     "output_type": "stream",
     "text": [
      "{'cherry', 'apple'}\n"
     ]
    }
   ],
   "source": [
    "\n",
    "#To remove an item in a set, use the remove(), or the discard() method.\n",
    "\n",
    "thisset = {\"apple\", \"banana\", \"cherry\"}\n",
    "\n",
    "thisset.remove(\"banana\")\n",
    "\n",
    "print(thisset)\n",
    "\n",
    "#Note: If the item to remove does not exist, remove() will raise an error.\n",
    "\n"
   ]
  },
  {
   "cell_type": "code",
   "execution_count": 441,
   "metadata": {},
   "outputs": [
    {
     "name": "stdout",
     "output_type": "stream",
     "text": [
      "{'cherry', 'apple'}\n"
     ]
    }
   ],
   "source": [
    "\n",
    "#Remove \"banana\" by using the discard() method:\n",
    "\n",
    "thisset = {\"apple\", \"banana\", \"cherry\"}\n",
    "\n",
    "thisset.discard(\"banana\")  #different method to do the same thing...\n",
    "\n",
    "print(thisset)\n",
    "\n",
    "\n",
    "#Note: If the item to remove does not exist, discard() will NOT raise an error.\n",
    "\n"
   ]
  },
  {
   "cell_type": "code",
   "execution_count": 442,
   "metadata": {},
   "outputs": [
    {
     "name": "stdout",
     "output_type": "stream",
     "text": [
      "set()\n"
     ]
    }
   ],
   "source": [
    "\n",
    "#The clear() method empties the set:\n",
    "\n",
    "thisset = {\"apple\", \"banana\", \"cherry\"}\n",
    "\n",
    "thisset.clear()\n",
    "\n",
    "print(thisset)\n",
    "\n"
   ]
  },
  {
   "cell_type": "code",
   "execution_count": 443,
   "metadata": {},
   "outputs": [
    {
     "name": "stdout",
     "output_type": "stream",
     "text": [
      "{'cherry', 'apple', 'banana'}\n"
     ]
    }
   ],
   "source": [
    "\n",
    "# The del keyword will delete the set completely:\n",
    "\n",
    "thisset = {\"apple\", \"banana\", \"cherry\"}\n",
    "\n",
    "print(thisset)\n",
    "    \n",
    "del thisset\n",
    "\n",
    "# if you do this, you will see that NameError 'name thisset is not defined:\n",
    "# print(thisset)\n",
    "\n"
   ]
  },
  {
   "cell_type": "code",
   "execution_count": 444,
   "metadata": {},
   "outputs": [
    {
     "name": "stdout",
     "output_type": "stream",
     "text": [
      "{1, 2, 3, 'a', 'c', 'b'}\n"
     ]
    }
   ],
   "source": [
    "# Joining:\n",
    "\n",
    "#You can use the union() method that returns a new set containing all items from both sets, \n",
    "#or the update() method that inserts all the items from one set into another:\n",
    "    \n",
    "# define two sets:\n",
    "set1 = {\"a\", \"b\" , \"c\"}\n",
    "set2 = {1, 2, 3}\n",
    "\n",
    "# union: \n",
    "set3 = set1.union(set2)\n",
    "print(set3)\n"
   ]
  },
  {
   "cell_type": "code",
   "execution_count": 445,
   "metadata": {},
   "outputs": [
    {
     "name": "stdout",
     "output_type": "stream",
     "text": [
      "{1, 2, 3, 'a', 'c', 'b'}\n"
     ]
    }
   ],
   "source": [
    "\n",
    "#The update() method inserts the items in set2 into set1:\n",
    "\n",
    "set1 = {\"a\", \"b\" , \"c\"}\n",
    "set2 = {1, 2, 3}\n",
    "\n",
    "set1.update(set2)\n",
    "print(set1)\n",
    "\n",
    "#Note: Both union() and update() will exclude any duplicate items.\n",
    "\n"
   ]
  },
  {
   "cell_type": "code",
   "execution_count": 446,
   "metadata": {},
   "outputs": [
    {
     "name": "stdout",
     "output_type": "stream",
     "text": [
      "{'cherry', 'apple', 'banana'}\n"
     ]
    }
   ],
   "source": [
    "\n",
    "#It is also possible to use the set() constructor to make a set.\n",
    "\n",
    "thisset = set((\"apple\", \"banana\", \"cherry\")) # note the double round-brackets\n",
    "print(thisset)\n"
   ]
  },
  {
   "cell_type": "markdown",
   "metadata": {},
   "source": [
    "\n",
    "```\n",
    "\n",
    "\n",
    "Method           Description\n",
    "add()            Adds an element to the set\n",
    "clear()          Removes all the elements from the set\n",
    "copy()           Returns a copy of the set\n",
    "difference()\tReturns a set containing the difference between two or more sets\n",
    "difference_update()\tRemoves the items in this set that are also included in another, specified set\n",
    "discard()\t    Remove the specified item\n",
    "intersection()\tReturns a set, that is the intersection of two other sets\n",
    "intersection_update()\tRemoves the items in this set that are not present in other, specified set(s)\n",
    "isdisjoint()\tReturns whether two sets have a intersection or not\n",
    "issubset()\t    Returns whether another set contains this set or not\n",
    "issuperset()\tReturns whether this set contains another set or not\n",
    "pop()\t        Removes an element from the set\n",
    "remove()\t    Removes the specified element\n",
    "symmetric_difference()\tReturns a set with the symmetric differences of two sets\n",
    "symmetric_difference_update()\tinserts the symmetric differences from this set and another\n",
    "union()\t        Return a set containing the union of sets\n",
    "update()\t    Update the set with the union of this set and others\n",
    "\n",
    "\n",
    "```\n",
    "\n"
   ]
  },
  {
   "cell_type": "markdown",
   "metadata": {},
   "source": [
    "```\n",
    "\n",
    "```"
   ]
  },
  {
   "cell_type": "markdown",
   "metadata": {},
   "source": [
    "### CONTINUING:"
   ]
  },
  {
   "cell_type": "code",
   "execution_count": 447,
   "metadata": {},
   "outputs": [
    {
     "name": "stdout",
     "output_type": "stream",
     "text": [
      "[[1, 3, 4], [2, 3, 5], [1, 2, 3, 5], [2, 5]]\n"
     ]
    }
   ],
   "source": [
    "print(dataSet)"
   ]
  },
  {
   "cell_type": "markdown",
   "metadata": {},
   "source": [
    "```\n",
    "\n",
    "Let's creates C1.\n",
    "\n",
    "C1 is a candidate itemset of size one. \n",
    "\n",
    "In the Apriori algorithm, we create C1, and then we’ll scan the dataset to see if these one itemsets meet our minimum support requirements. \n",
    "\n",
    "The itemsets that do meet our minimum requirements become L1. \n",
    "\n",
    "L1 then gets combined to become C2 and C2 will get filtered to become L2.\n",
    "\n",
    "Frozensets are sets that are frozen, which means they’re immutable; you can’t change them.\n",
    "\n",
    "You need to use the type frozenset instead of set because you’ll later use these sets as the key in a dictionary.\n",
    "\n",
    "You can’t create a set of just one integer in Python. \n",
    "\n",
    "It needs to be a list (try it out). \n",
    "\n",
    "That’s why you create a list of single-item lists. \n",
    "\n",
    "Finally, you sort the list and then map every item in the list to frozenset() and return this list of frozensets\n",
    "\n",
    "\n",
    "```"
   ]
  },
  {
   "cell_type": "code",
   "execution_count": 448,
   "metadata": {},
   "outputs": [
    {
     "name": "stdout",
     "output_type": "stream",
     "text": [
      "[1, 3, 4]\n",
      "1\n",
      "a.  this individual item is not currently in C1\n",
      "b.  now adding this individual item to C1\n",
      "c.  and thus now C1 is:  [[1]] \n",
      "\n",
      "3\n",
      "a.  this individual item is not currently in C1\n",
      "b.  now adding this individual item to C1\n",
      "c.  and thus now C1 is:  [[1], [3]] \n",
      "\n",
      "4\n",
      "a.  this individual item is not currently in C1\n",
      "b.  now adding this individual item to C1\n",
      "c.  and thus now C1 is:  [[1], [3], [4]] \n",
      "\n",
      "[2, 3, 5]\n",
      "2\n",
      "a.  this individual item is not currently in C1\n",
      "b.  now adding this individual item to C1\n",
      "c.  and thus now C1 is:  [[1], [3], [4], [2]] \n",
      "\n",
      "3\n",
      "WARNING:  item already present \n",
      "5\n",
      "a.  this individual item is not currently in C1\n",
      "b.  now adding this individual item to C1\n",
      "c.  and thus now C1 is:  [[1], [3], [4], [2], [5]] \n",
      "\n",
      "[1, 2, 3, 5]\n",
      "1\n",
      "WARNING:  item already present \n",
      "2\n",
      "WARNING:  item already present \n",
      "3\n",
      "WARNING:  item already present \n",
      "5\n",
      "WARNING:  item already present \n",
      "[2, 5]\n",
      "2\n",
      "WARNING:  item already present \n",
      "5\n",
      "WARNING:  item already present \n",
      "\n",
      "C1 has been sorted, and is now: \n",
      " [[1], [2], [3], [4], [5]]\n",
      "\n",
      "Our list of frozenset entities is\n"
     ]
    },
    {
     "data": {
      "text/plain": [
       "[frozenset({1}),\n",
       " frozenset({2}),\n",
       " frozenset({3}),\n",
       " frozenset({4}),\n",
       " frozenset({5})]"
      ]
     },
     "execution_count": 448,
     "metadata": {},
     "output_type": "execute_result"
    }
   ],
   "source": [
    "\n",
    "# temp messing around:\n",
    "\n",
    "#      [   [1, 3, 4],    [2, 3, 5],    [1, 2, 3, 5],    [2, 5]]\n",
    "\n",
    "\n",
    "def tempcreateC1(dataSet):\n",
    "    \n",
    "    C1 = []  #empty list\n",
    "    \n",
    "    for transaction in dataSet:\n",
    "        print(transaction)\n",
    "        for item in transaction:  #for each ITEM in the TRANSACTION\n",
    "            print(item)\n",
    "            if not [item] in C1:   # you could remove this bracket notation if you wanted \n",
    "                print('a.  this individual item is not currently in C1')\n",
    "                C1.append([item])\n",
    "                print('b.  now adding this individual item to C1')\n",
    "                print('c.  and thus now C1 is: ', C1, \"\\n\")\n",
    "            else:\n",
    "                print(\"WARNING:  item already present \")\n",
    "             \n",
    "    C1.sort()   ### why does it have to be sorted ????\n",
    "    print('\\nC1 has been sorted, and is now: \\n',C1)\n",
    "    \n",
    "    print(\"\\nOur list of frozenset entities is\")\n",
    "    return list(map(frozenset, C1))  #use frozen set so we can use it as a key in a dict   \n",
    "    #  map() function returns a list of the results after applying the given function \n",
    "    #  to each item of a given iterable (list, tuple etc.)\n",
    "\n",
    "    \n",
    "    \n",
    "tempcreateC1(dataSet)\n",
    "\n",
    "\n",
    "    "
   ]
  },
  {
   "cell_type": "code",
   "execution_count": 449,
   "metadata": {},
   "outputs": [],
   "source": [
    "\n",
    "# official definition that we will use, keep this clean !  \n",
    "\n",
    "# iterate thru a dataset and grab individual entries to make ONLY unique list of frozensets...\n",
    "\n",
    "def createC1(dataSet):\n",
    "    \n",
    "    C1 = []  #empty list\n",
    "    \n",
    "    for transaction in dataSet:\n",
    "        for item in transaction:\n",
    "            if not [item] in C1:\n",
    "                C1.append([item])\n",
    "             \n",
    "    C1.sort()   ### why does it have to be sorted ????\n",
    "    \n",
    "    return list(map(frozenset, C1))#use frozen set so we can use it as a key in a dict   \n",
    "    #  map() function returns a list of the results after applying the given function \n",
    "    #  to each item of a given iterable (list, tuple etc.)\n",
    "    \n",
    "    "
   ]
  },
  {
   "cell_type": "markdown",
   "metadata": {},
   "source": [
    "```\n",
    "\n",
    "\n",
    "This below function takes three arguments: \n",
    "     D (a dataset), Ck (a list of candidate sets), and minSupport (which is the minimum support you’re interested in) \n",
    "        \n",
    "        \n",
    "This is the function you’ll use to generate L1 from C1. \n",
    "\n",
    "\n",
    "Additionally, this function returns a dictionary with support values.\n",
    "\n",
    "\n",
    "    \n",
    "    ```"
   ]
  },
  {
   "cell_type": "code",
   "execution_count": 450,
   "metadata": {},
   "outputs": [],
   "source": [
    "\n",
    "\n",
    "def scanD(D, Ck, minSupport):\n",
    "    \n",
    "    print(\"Your inputs:\")\n",
    "    print(\"D:\", D)\n",
    "    print(\"C_k: \", Ck)\n",
    "    print(\"minSupport:  \", minSupport)\n",
    "    # a) create empty set called ssCnt\n",
    "    \n",
    "    ssCnt = {}\n",
    "    print(\"The Empty set beginning ssCnt: \", ssCnt)\n",
    "    \n",
    "    for tid in D:   # for transaction id in D: \n",
    "        print(\"\\n\\ntid items: \", tid)\n",
    "        for can in Ck:   # for can in C_k\n",
    "            print(\"can in C_k: \", can)\n",
    "            if can.issubset(tid):\n",
    "                print(\"can is a subset of tid !\")\n",
    "                if not can in ssCnt: \n",
    "                    ssCnt[can]=1\n",
    "                    print('can  is not in ssCnt')\n",
    "                else: \n",
    "                    ssCnt[can] += 1\n",
    "                    print('can is in ssCnt')\n",
    "                print(\"ssCnt: \", ssCnt)\n",
    "                \n",
    "    numItems = float(len(D))\n",
    "    print(\"numItems, i.e. len of D: \", len(D))\n",
    "    \n",
    "    retList = []\n",
    "    \n",
    "    supportData = {}\n",
    "    \n",
    "    print(\"\\nnext form loop:\\n\")\n",
    "    \n",
    "    for key in ssCnt:\n",
    "        print(\"for key \", key, \"in ssCnt\")\n",
    "        #print(\"key in ssCnt:\", key)\n",
    "        \n",
    "        support = ssCnt[key]/numItems\n",
    "        print(\"support:  \", support)\n",
    "        \n",
    "        if support >= minSupport:\n",
    "            print(\"support is greater than minSupport\")\n",
    "            retList.insert(0,key)\n",
    "            print(\"retList: \", retList)\n",
    "            \n",
    "        supportData[key] = support\n",
    "        \n",
    "    return retList, supportData\n",
    "\n",
    "\n"
   ]
  },
  {
   "cell_type": "code",
   "execution_count": 451,
   "metadata": {},
   "outputs": [
    {
     "data": {
      "text/plain": [
       "[[1, 3, 4], [2, 3, 5], [1, 2, 3, 5], [2, 5]]"
      ]
     },
     "execution_count": 451,
     "metadata": {},
     "output_type": "execute_result"
    }
   ],
   "source": [
    "dataSet = loadDataSet()\n",
    "dataSet"
   ]
  },
  {
   "cell_type": "code",
   "execution_count": 452,
   "metadata": {},
   "outputs": [],
   "source": [
    "\n",
    "C1 = createC1(dataSet)\n"
   ]
  },
  {
   "cell_type": "code",
   "execution_count": 453,
   "metadata": {},
   "outputs": [
    {
     "data": {
      "text/plain": [
       "[frozenset({1}),\n",
       " frozenset({2}),\n",
       " frozenset({3}),\n",
       " frozenset({4}),\n",
       " frozenset({5})]"
      ]
     },
     "execution_count": 453,
     "metadata": {},
     "output_type": "execute_result"
    }
   ],
   "source": [
    "C1"
   ]
  },
  {
   "cell_type": "markdown",
   "metadata": {},
   "source": [
    "### C1 CONTAINS A LIST OF ALL THE ITEMS IN FROZENSET: "
   ]
  },
  {
   "cell_type": "markdown",
   "metadata": {},
   "source": [
    "- I think when you use map, it outputs but you have to iterate via list..."
   ]
  },
  {
   "cell_type": "code",
   "execution_count": 454,
   "metadata": {},
   "outputs": [],
   "source": [
    "#D is a dataset in the setform.\n",
    "\n",
    "D = list(map(set,dataSet))"
   ]
  },
  {
   "cell_type": "code",
   "execution_count": 455,
   "metadata": {},
   "outputs": [
    {
     "data": {
      "text/plain": [
       "[{1, 3, 4}, {2, 3, 5}, {1, 2, 3, 5}, {2, 5}]"
      ]
     },
     "execution_count": 455,
     "metadata": {},
     "output_type": "execute_result"
    }
   ],
   "source": [
    "D"
   ]
  },
  {
   "cell_type": "code",
   "execution_count": 456,
   "metadata": {},
   "outputs": [
    {
     "name": "stdout",
     "output_type": "stream",
     "text": [
      "<class 'list'>\n"
     ]
    }
   ],
   "source": [
    "print(type(D))"
   ]
  },
  {
   "cell_type": "code",
   "execution_count": 457,
   "metadata": {},
   "outputs": [
    {
     "name": "stdout",
     "output_type": "stream",
     "text": [
      "<class 'set'>\n"
     ]
    }
   ],
   "source": [
    "print(type(D[0]))\n",
    "\n",
    "# I don't think this is a frozenset, its a set..."
   ]
  },
  {
   "cell_type": "markdown",
   "metadata": {},
   "source": [
    "Now that you have everything in set form, you can remove items that don’t meet our minimum support."
   ]
  },
  {
   "cell_type": "code",
   "execution_count": 458,
   "metadata": {},
   "outputs": [
    {
     "name": "stdout",
     "output_type": "stream",
     "text": [
      "Your inputs:\n",
      "D: [{1, 3, 4}, {2, 3, 5}, {1, 2, 3, 5}, {2, 5}]\n",
      "C_k:  [frozenset({1}), frozenset({2}), frozenset({3}), frozenset({4}), frozenset({5})]\n",
      "minSupport:   0.5\n",
      "The Empty set beginning ssCnt:  {}\n",
      "\n",
      "\n",
      "tid items:  {1, 3, 4}\n",
      "can in C_k:  frozenset({1})\n",
      "can is a subset of tid !\n",
      "can  is not in ssCnt\n",
      "ssCnt:  {frozenset({1}): 1}\n",
      "can in C_k:  frozenset({2})\n",
      "can in C_k:  frozenset({3})\n",
      "can is a subset of tid !\n",
      "can  is not in ssCnt\n",
      "ssCnt:  {frozenset({3}): 1, frozenset({1}): 1}\n",
      "can in C_k:  frozenset({4})\n",
      "can is a subset of tid !\n",
      "can  is not in ssCnt\n",
      "ssCnt:  {frozenset({4}): 1, frozenset({3}): 1, frozenset({1}): 1}\n",
      "can in C_k:  frozenset({5})\n",
      "\n",
      "\n",
      "tid items:  {2, 3, 5}\n",
      "can in C_k:  frozenset({1})\n",
      "can in C_k:  frozenset({2})\n",
      "can is a subset of tid !\n",
      "can  is not in ssCnt\n",
      "ssCnt:  {frozenset({4}): 1, frozenset({2}): 1, frozenset({3}): 1, frozenset({1}): 1}\n",
      "can in C_k:  frozenset({3})\n",
      "can is a subset of tid !\n",
      "can is in ssCnt\n",
      "ssCnt:  {frozenset({4}): 1, frozenset({2}): 1, frozenset({3}): 2, frozenset({1}): 1}\n",
      "can in C_k:  frozenset({4})\n",
      "can in C_k:  frozenset({5})\n",
      "can is a subset of tid !\n",
      "can  is not in ssCnt\n",
      "ssCnt:  {frozenset({4}): 1, frozenset({5}): 1, frozenset({2}): 1, frozenset({3}): 2, frozenset({1}): 1}\n",
      "\n",
      "\n",
      "tid items:  {1, 2, 3, 5}\n",
      "can in C_k:  frozenset({1})\n",
      "can is a subset of tid !\n",
      "can is in ssCnt\n",
      "ssCnt:  {frozenset({4}): 1, frozenset({5}): 1, frozenset({2}): 1, frozenset({3}): 2, frozenset({1}): 2}\n",
      "can in C_k:  frozenset({2})\n",
      "can is a subset of tid !\n",
      "can is in ssCnt\n",
      "ssCnt:  {frozenset({4}): 1, frozenset({5}): 1, frozenset({2}): 2, frozenset({3}): 2, frozenset({1}): 2}\n",
      "can in C_k:  frozenset({3})\n",
      "can is a subset of tid !\n",
      "can is in ssCnt\n",
      "ssCnt:  {frozenset({4}): 1, frozenset({5}): 1, frozenset({2}): 2, frozenset({3}): 3, frozenset({1}): 2}\n",
      "can in C_k:  frozenset({4})\n",
      "can in C_k:  frozenset({5})\n",
      "can is a subset of tid !\n",
      "can is in ssCnt\n",
      "ssCnt:  {frozenset({4}): 1, frozenset({5}): 2, frozenset({2}): 2, frozenset({3}): 3, frozenset({1}): 2}\n",
      "\n",
      "\n",
      "tid items:  {2, 5}\n",
      "can in C_k:  frozenset({1})\n",
      "can in C_k:  frozenset({2})\n",
      "can is a subset of tid !\n",
      "can is in ssCnt\n",
      "ssCnt:  {frozenset({4}): 1, frozenset({5}): 2, frozenset({2}): 3, frozenset({3}): 3, frozenset({1}): 2}\n",
      "can in C_k:  frozenset({3})\n",
      "can in C_k:  frozenset({4})\n",
      "can in C_k:  frozenset({5})\n",
      "can is a subset of tid !\n",
      "can is in ssCnt\n",
      "ssCnt:  {frozenset({4}): 1, frozenset({5}): 3, frozenset({2}): 3, frozenset({3}): 3, frozenset({1}): 2}\n",
      "numItems, i.e. len of D:  4\n",
      "\n",
      "next form loop:\n",
      "\n",
      "for key  frozenset({4}) in ssCnt\n",
      "support:   0.25\n",
      "for key  frozenset({5}) in ssCnt\n",
      "support:   0.75\n",
      "support is greater than minSupport\n",
      "retList:  [frozenset({5})]\n",
      "for key  frozenset({2}) in ssCnt\n",
      "support:   0.75\n",
      "support is greater than minSupport\n",
      "retList:  [frozenset({2}), frozenset({5})]\n",
      "for key  frozenset({3}) in ssCnt\n",
      "support:   0.75\n",
      "support is greater than minSupport\n",
      "retList:  [frozenset({3}), frozenset({2}), frozenset({5})]\n",
      "for key  frozenset({1}) in ssCnt\n",
      "support:   0.5\n",
      "support is greater than minSupport\n",
      "retList:  [frozenset({1}), frozenset({3}), frozenset({2}), frozenset({5})]\n",
      "\n",
      "\n",
      "Final L1: \n",
      " [frozenset({1}), frozenset({3}), frozenset({2}), frozenset({5})]\n"
     ]
    }
   ],
   "source": [
    "L1,suppDat0 = scanD(D,C1,0.5)\n",
    "\n",
    "print(\"\\n\\nFinal L1: \\n\", L1)\n"
   ]
  },
  {
   "cell_type": "markdown",
   "metadata": {},
   "source": [
    "```\n",
    "\n",
    "These four items make up our L1 list, that is, the list of one-item sets that occur in at least 50% of all transactions. \n",
    "\n",
    "Item 4 didn’t make the minimum support level, so it’s not a part of L1.\n",
    "\n",
    "That’s OK. \n",
    "\n",
    "By removing it, you’ve removed more work from when you find the list of two-item sets.\n",
    "\n",
    "\n",
    "```"
   ]
  },
  {
   "cell_type": "markdown",
   "metadata": {},
   "source": [
    "* https://stackabuse.com/association-rule-mining-via-apriori-algorithm-in-python/"
   ]
  },
  {
   "cell_type": "markdown",
   "metadata": {},
   "source": [
    "```\n",
    "\n",
    "\n",
    "\n",
    "\n",
    "```"
   ]
  },
  {
   "cell_type": "markdown",
   "metadata": {},
   "source": [
    "### Pseudo-code for the whole Apriori algorithm:"
   ]
  },
  {
   "cell_type": "code",
   "execution_count": 459,
   "metadata": {},
   "outputs": [],
   "source": [
    "\n",
    "#While the number of items in the set is greater than 0:\n",
    "\n",
    "# Create a list of candidate itemsets of length k\n",
    "\n",
    "# Scan the dataset to see if each itemset is frequent\n",
    "\n",
    "# Keep frequent itemsets to create itemsets of length k+1\n",
    "\n"
   ]
  },
  {
   "cell_type": "markdown",
   "metadata": {},
   "source": [
    "```\n",
    "\n",
    "\n",
    "The main function is apriori(); it calls aprioriGen() to create candidate itemsets: Ck.\n",
    "\n",
    "The function aprioriGen() will take a list of frequent itemsets, Lk, and the size of the itemsets, k, to produce Ck.\n",
    "\n",
    "For example, it will take the itemsets {0}, {1}, {2} and so on and produce {0,1} {0,2}, and {1,2}.\n",
    "# Which technically means the C goes to the L, and thus maybe they meant k+1 ? ? ? i could be wrong...\n",
    "\n",
    "The sets are combined using the set union, which is the | symbol in Python.\n",
    "\n",
    "\n",
    "```"
   ]
  },
  {
   "cell_type": "code",
   "execution_count": 460,
   "metadata": {},
   "outputs": [],
   "source": [
    "\n",
    "def aprioriGen(Lk, k): #creates Ck\n",
    "    retList = []\n",
    "    lenLk = len(Lk)\n",
    "    for i in range(lenLk):\n",
    "        for j in range(i+1, lenLk): \n",
    "            L1 = list(Lk[i])[:k-2]; L2 = list(Lk[j])[:k-2]\n",
    "            L1.sort(); L2.sort()\n",
    "            if L1==L2: #if first k-2 elements are equal\n",
    "                retList.append(Lk[i] | Lk[j]) #set union\n",
    "    return retList\n"
   ]
  },
  {
   "cell_type": "code",
   "execution_count": 461,
   "metadata": {},
   "outputs": [],
   "source": [
    "\n",
    "def apriori(dataSet, minSupport = 0.5):\n",
    "    C1 = createC1(dataSet)\n",
    "    D = list(map(set, dataSet))\n",
    "    L1, supportData = scanD(D, C1, minSupport)\n",
    "    L = [L1]\n",
    "    k = 2\n",
    "    while (len(L[k-2]) > 0):\n",
    "        Ck = aprioriGen(L[k-2], k)\n",
    "        Lk, supK = scanD(D, Ck, minSupport)#scan DB to get Lk\n",
    "        supportData.update(supK)\n",
    "        L.append(Lk)\n",
    "        k += 1\n",
    "    return L, supportData\n"
   ]
  },
  {
   "cell_type": "code",
   "execution_count": 462,
   "metadata": {
    "scrolled": false
   },
   "outputs": [
    {
     "name": "stdout",
     "output_type": "stream",
     "text": [
      "Your inputs:\n",
      "D: [{1, 3, 4}, {2, 3, 5}, {1, 2, 3, 5}, {2, 5}]\n",
      "C_k:  [frozenset({1}), frozenset({2}), frozenset({3}), frozenset({4}), frozenset({5})]\n",
      "minSupport:   0.5\n",
      "The Empty set beginning ssCnt:  {}\n",
      "\n",
      "\n",
      "tid items:  {1, 3, 4}\n",
      "can in C_k:  frozenset({1})\n",
      "can is a subset of tid !\n",
      "can  is not in ssCnt\n",
      "ssCnt:  {frozenset({1}): 1}\n",
      "can in C_k:  frozenset({2})\n",
      "can in C_k:  frozenset({3})\n",
      "can is a subset of tid !\n",
      "can  is not in ssCnt\n",
      "ssCnt:  {frozenset({3}): 1, frozenset({1}): 1}\n",
      "can in C_k:  frozenset({4})\n",
      "can is a subset of tid !\n",
      "can  is not in ssCnt\n",
      "ssCnt:  {frozenset({4}): 1, frozenset({3}): 1, frozenset({1}): 1}\n",
      "can in C_k:  frozenset({5})\n",
      "\n",
      "\n",
      "tid items:  {2, 3, 5}\n",
      "can in C_k:  frozenset({1})\n",
      "can in C_k:  frozenset({2})\n",
      "can is a subset of tid !\n",
      "can  is not in ssCnt\n",
      "ssCnt:  {frozenset({4}): 1, frozenset({2}): 1, frozenset({3}): 1, frozenset({1}): 1}\n",
      "can in C_k:  frozenset({3})\n",
      "can is a subset of tid !\n",
      "can is in ssCnt\n",
      "ssCnt:  {frozenset({4}): 1, frozenset({2}): 1, frozenset({3}): 2, frozenset({1}): 1}\n",
      "can in C_k:  frozenset({4})\n",
      "can in C_k:  frozenset({5})\n",
      "can is a subset of tid !\n",
      "can  is not in ssCnt\n",
      "ssCnt:  {frozenset({4}): 1, frozenset({5}): 1, frozenset({2}): 1, frozenset({3}): 2, frozenset({1}): 1}\n",
      "\n",
      "\n",
      "tid items:  {1, 2, 3, 5}\n",
      "can in C_k:  frozenset({1})\n",
      "can is a subset of tid !\n",
      "can is in ssCnt\n",
      "ssCnt:  {frozenset({4}): 1, frozenset({5}): 1, frozenset({2}): 1, frozenset({3}): 2, frozenset({1}): 2}\n",
      "can in C_k:  frozenset({2})\n",
      "can is a subset of tid !\n",
      "can is in ssCnt\n",
      "ssCnt:  {frozenset({4}): 1, frozenset({5}): 1, frozenset({2}): 2, frozenset({3}): 2, frozenset({1}): 2}\n",
      "can in C_k:  frozenset({3})\n",
      "can is a subset of tid !\n",
      "can is in ssCnt\n",
      "ssCnt:  {frozenset({4}): 1, frozenset({5}): 1, frozenset({2}): 2, frozenset({3}): 3, frozenset({1}): 2}\n",
      "can in C_k:  frozenset({4})\n",
      "can in C_k:  frozenset({5})\n",
      "can is a subset of tid !\n",
      "can is in ssCnt\n",
      "ssCnt:  {frozenset({4}): 1, frozenset({5}): 2, frozenset({2}): 2, frozenset({3}): 3, frozenset({1}): 2}\n",
      "\n",
      "\n",
      "tid items:  {2, 5}\n",
      "can in C_k:  frozenset({1})\n",
      "can in C_k:  frozenset({2})\n",
      "can is a subset of tid !\n",
      "can is in ssCnt\n",
      "ssCnt:  {frozenset({4}): 1, frozenset({5}): 2, frozenset({2}): 3, frozenset({3}): 3, frozenset({1}): 2}\n",
      "can in C_k:  frozenset({3})\n",
      "can in C_k:  frozenset({4})\n",
      "can in C_k:  frozenset({5})\n",
      "can is a subset of tid !\n",
      "can is in ssCnt\n",
      "ssCnt:  {frozenset({4}): 1, frozenset({5}): 3, frozenset({2}): 3, frozenset({3}): 3, frozenset({1}): 2}\n",
      "numItems, i.e. len of D:  4\n",
      "\n",
      "next form loop:\n",
      "\n",
      "for key  frozenset({4}) in ssCnt\n",
      "support:   0.25\n",
      "for key  frozenset({5}) in ssCnt\n",
      "support:   0.75\n",
      "support is greater than minSupport\n",
      "retList:  [frozenset({5})]\n",
      "for key  frozenset({2}) in ssCnt\n",
      "support:   0.75\n",
      "support is greater than minSupport\n",
      "retList:  [frozenset({2}), frozenset({5})]\n",
      "for key  frozenset({3}) in ssCnt\n",
      "support:   0.75\n",
      "support is greater than minSupport\n",
      "retList:  [frozenset({3}), frozenset({2}), frozenset({5})]\n",
      "for key  frozenset({1}) in ssCnt\n",
      "support:   0.5\n",
      "support is greater than minSupport\n",
      "retList:  [frozenset({1}), frozenset({3}), frozenset({2}), frozenset({5})]\n",
      "Your inputs:\n",
      "D: [{1, 3, 4}, {2, 3, 5}, {1, 2, 3, 5}, {2, 5}]\n",
      "C_k:  [frozenset({1, 3}), frozenset({1, 2}), frozenset({1, 5}), frozenset({2, 3}), frozenset({3, 5}), frozenset({2, 5})]\n",
      "minSupport:   0.5\n",
      "The Empty set beginning ssCnt:  {}\n",
      "\n",
      "\n",
      "tid items:  {1, 3, 4}\n",
      "can in C_k:  frozenset({1, 3})\n",
      "can is a subset of tid !\n",
      "can  is not in ssCnt\n",
      "ssCnt:  {frozenset({1, 3}): 1}\n",
      "can in C_k:  frozenset({1, 2})\n",
      "can in C_k:  frozenset({1, 5})\n",
      "can in C_k:  frozenset({2, 3})\n",
      "can in C_k:  frozenset({3, 5})\n",
      "can in C_k:  frozenset({2, 5})\n",
      "\n",
      "\n",
      "tid items:  {2, 3, 5}\n",
      "can in C_k:  frozenset({1, 3})\n",
      "can in C_k:  frozenset({1, 2})\n",
      "can in C_k:  frozenset({1, 5})\n",
      "can in C_k:  frozenset({2, 3})\n",
      "can is a subset of tid !\n",
      "can  is not in ssCnt\n",
      "ssCnt:  {frozenset({1, 3}): 1, frozenset({2, 3}): 1}\n",
      "can in C_k:  frozenset({3, 5})\n",
      "can is a subset of tid !\n",
      "can  is not in ssCnt\n",
      "ssCnt:  {frozenset({1, 3}): 1, frozenset({2, 3}): 1, frozenset({3, 5}): 1}\n",
      "can in C_k:  frozenset({2, 5})\n",
      "can is a subset of tid !\n",
      "can  is not in ssCnt\n",
      "ssCnt:  {frozenset({1, 3}): 1, frozenset({2, 3}): 1, frozenset({3, 5}): 1, frozenset({2, 5}): 1}\n",
      "\n",
      "\n",
      "tid items:  {1, 2, 3, 5}\n",
      "can in C_k:  frozenset({1, 3})\n",
      "can is a subset of tid !\n",
      "can is in ssCnt\n",
      "ssCnt:  {frozenset({1, 3}): 2, frozenset({2, 3}): 1, frozenset({3, 5}): 1, frozenset({2, 5}): 1}\n",
      "can in C_k:  frozenset({1, 2})\n",
      "can is a subset of tid !\n",
      "can  is not in ssCnt\n",
      "ssCnt:  {frozenset({1, 3}): 2, frozenset({1, 2}): 1, frozenset({2, 3}): 1, frozenset({3, 5}): 1, frozenset({2, 5}): 1}\n",
      "can in C_k:  frozenset({1, 5})\n",
      "can is a subset of tid !\n",
      "can  is not in ssCnt\n",
      "ssCnt:  {frozenset({2, 3}): 1, frozenset({2, 5}): 1, frozenset({1, 3}): 2, frozenset({1, 2}): 1, frozenset({1, 5}): 1, frozenset({3, 5}): 1}\n",
      "can in C_k:  frozenset({2, 3})\n",
      "can is a subset of tid !\n",
      "can is in ssCnt\n",
      "ssCnt:  {frozenset({2, 3}): 2, frozenset({2, 5}): 1, frozenset({1, 3}): 2, frozenset({1, 2}): 1, frozenset({1, 5}): 1, frozenset({3, 5}): 1}\n",
      "can in C_k:  frozenset({3, 5})\n",
      "can is a subset of tid !\n",
      "can is in ssCnt\n",
      "ssCnt:  {frozenset({2, 3}): 2, frozenset({2, 5}): 1, frozenset({1, 3}): 2, frozenset({1, 2}): 1, frozenset({1, 5}): 1, frozenset({3, 5}): 2}\n",
      "can in C_k:  frozenset({2, 5})\n",
      "can is a subset of tid !\n",
      "can is in ssCnt\n",
      "ssCnt:  {frozenset({2, 3}): 2, frozenset({2, 5}): 2, frozenset({1, 3}): 2, frozenset({1, 2}): 1, frozenset({1, 5}): 1, frozenset({3, 5}): 2}\n",
      "\n",
      "\n",
      "tid items:  {2, 5}\n",
      "can in C_k:  frozenset({1, 3})\n",
      "can in C_k:  frozenset({1, 2})\n",
      "can in C_k:  frozenset({1, 5})\n",
      "can in C_k:  frozenset({2, 3})\n",
      "can in C_k:  frozenset({3, 5})\n",
      "can in C_k:  frozenset({2, 5})\n",
      "can is a subset of tid !\n",
      "can is in ssCnt\n",
      "ssCnt:  {frozenset({2, 3}): 2, frozenset({2, 5}): 3, frozenset({1, 3}): 2, frozenset({1, 2}): 1, frozenset({1, 5}): 1, frozenset({3, 5}): 2}\n",
      "numItems, i.e. len of D:  4\n",
      "\n",
      "next form loop:\n",
      "\n",
      "for key  frozenset({2, 3}) in ssCnt\n",
      "support:   0.5\n",
      "support is greater than minSupport\n",
      "retList:  [frozenset({2, 3})]\n",
      "for key  frozenset({2, 5}) in ssCnt\n",
      "support:   0.75\n",
      "support is greater than minSupport\n",
      "retList:  [frozenset({2, 5}), frozenset({2, 3})]\n",
      "for key  frozenset({1, 3}) in ssCnt\n",
      "support:   0.5\n",
      "support is greater than minSupport\n",
      "retList:  [frozenset({1, 3}), frozenset({2, 5}), frozenset({2, 3})]\n",
      "for key  frozenset({1, 2}) in ssCnt\n",
      "support:   0.25\n",
      "for key  frozenset({1, 5}) in ssCnt\n",
      "support:   0.25\n",
      "for key  frozenset({3, 5}) in ssCnt\n",
      "support:   0.5\n",
      "support is greater than minSupport\n",
      "retList:  [frozenset({3, 5}), frozenset({1, 3}), frozenset({2, 5}), frozenset({2, 3})]\n",
      "Your inputs:\n",
      "D: [{1, 3, 4}, {2, 3, 5}, {1, 2, 3, 5}, {2, 5}]\n",
      "C_k:  [frozenset({2, 3, 5})]\n",
      "minSupport:   0.5\n",
      "The Empty set beginning ssCnt:  {}\n",
      "\n",
      "\n",
      "tid items:  {1, 3, 4}\n",
      "can in C_k:  frozenset({2, 3, 5})\n",
      "\n",
      "\n",
      "tid items:  {2, 3, 5}\n",
      "can in C_k:  frozenset({2, 3, 5})\n",
      "can is a subset of tid !\n",
      "can  is not in ssCnt\n",
      "ssCnt:  {frozenset({2, 3, 5}): 1}\n",
      "\n",
      "\n",
      "tid items:  {1, 2, 3, 5}\n",
      "can in C_k:  frozenset({2, 3, 5})\n",
      "can is a subset of tid !\n",
      "can is in ssCnt\n",
      "ssCnt:  {frozenset({2, 3, 5}): 2}\n",
      "\n",
      "\n",
      "tid items:  {2, 5}\n",
      "can in C_k:  frozenset({2, 3, 5})\n",
      "numItems, i.e. len of D:  4\n",
      "\n",
      "next form loop:\n",
      "\n",
      "for key  frozenset({2, 3, 5}) in ssCnt\n",
      "support:   0.5\n",
      "support is greater than minSupport\n",
      "retList:  [frozenset({2, 3, 5})]\n",
      "Your inputs:\n",
      "D: [{1, 3, 4}, {2, 3, 5}, {1, 2, 3, 5}, {2, 5}]\n",
      "C_k:  []\n",
      "minSupport:   0.5\n",
      "The Empty set beginning ssCnt:  {}\n",
      "\n",
      "\n",
      "tid items:  {1, 3, 4}\n",
      "\n",
      "\n",
      "tid items:  {2, 3, 5}\n",
      "\n",
      "\n",
      "tid items:  {1, 2, 3, 5}\n",
      "\n",
      "\n",
      "tid items:  {2, 5}\n",
      "numItems, i.e. len of D:  4\n",
      "\n",
      "next form loop:\n",
      "\n"
     ]
    }
   ],
   "source": [
    "\n",
    "L,suppData = apriori(dataSet)\n"
   ]
  },
  {
   "cell_type": "code",
   "execution_count": 463,
   "metadata": {},
   "outputs": [
    {
     "data": {
      "text/plain": [
       "[[frozenset({1}), frozenset({3}), frozenset({2}), frozenset({5})],\n",
       " [frozenset({3, 5}), frozenset({1, 3}), frozenset({2, 5}), frozenset({2, 3})],\n",
       " [frozenset({2, 3, 5})],\n",
       " []]"
      ]
     },
     "execution_count": 463,
     "metadata": {},
     "output_type": "execute_result"
    }
   ],
   "source": [
    "L"
   ]
  },
  {
   "cell_type": "markdown",
   "metadata": {},
   "source": [
    "\n",
    "```\n",
    "\n",
    "L contains some lists of frequent itemsets that met a minimum support of 0.5. \n",
    "\n",
    "The variable suppData is a dictionary with the support values of our itemsets.\n",
    "\n",
    "```"
   ]
  },
  {
   "cell_type": "code",
   "execution_count": 464,
   "metadata": {},
   "outputs": [
    {
     "data": {
      "text/plain": [
       "[frozenset({1}), frozenset({3}), frozenset({2}), frozenset({5})]"
      ]
     },
     "execution_count": 464,
     "metadata": {},
     "output_type": "execute_result"
    }
   ],
   "source": [
    "L[0]"
   ]
  },
  {
   "cell_type": "code",
   "execution_count": 465,
   "metadata": {},
   "outputs": [
    {
     "data": {
      "text/plain": [
       "[frozenset({3, 5}), frozenset({1, 3}), frozenset({2, 5}), frozenset({2, 3})]"
      ]
     },
     "execution_count": 465,
     "metadata": {},
     "output_type": "execute_result"
    }
   ],
   "source": [
    "L[1]"
   ]
  },
  {
   "cell_type": "code",
   "execution_count": 466,
   "metadata": {},
   "outputs": [
    {
     "data": {
      "text/plain": [
       "[frozenset({2, 3, 5})]"
      ]
     },
     "execution_count": 466,
     "metadata": {},
     "output_type": "execute_result"
    }
   ],
   "source": [
    "L[2]"
   ]
  },
  {
   "cell_type": "code",
   "execution_count": 467,
   "metadata": {},
   "outputs": [
    {
     "data": {
      "text/plain": [
       "[]"
      ]
     },
     "execution_count": 467,
     "metadata": {},
     "output_type": "execute_result"
    }
   ],
   "source": [
    "L[3]"
   ]
  },
  {
   "cell_type": "code",
   "execution_count": 468,
   "metadata": {},
   "outputs": [
    {
     "data": {
      "text/plain": [
       "[frozenset({1, 3}),\n",
       " frozenset({1, 2}),\n",
       " frozenset({1, 5}),\n",
       " frozenset({2, 3}),\n",
       " frozenset({3, 5}),\n",
       " frozenset({2, 5})]"
      ]
     },
     "execution_count": 468,
     "metadata": {},
     "output_type": "execute_result"
    }
   ],
   "source": [
    "aprioriGen(L[0],2)"
   ]
  },
  {
   "cell_type": "markdown",
   "metadata": {},
   "source": [
    "### Mining association rules from frequent item sets"
   ]
  },
  {
   "cell_type": "markdown",
   "metadata": {},
   "source": [
    "\n",
    "```\n",
    "\n",
    "To find association rules, we first start with a frequent itemset.\n",
    "\n",
    "We know this set of items is unique, but we want to see if there is anything else we can get out of these items. \n",
    "\n",
    "One item or one set of items can imply another item.\n",
    "\n",
    "\n",
    "generateRules(), is the main command, which calls the other two.\n",
    "\n",
    "\n",
    "The generateRules() function takes three inputs: a list of frequent itemsets, \n",
    "a dictionary of support data for those itemsets, and a minimum confidence threshold. \n",
    "\n",
    "\n",
    "It’s going to generate a list of rules with confidence values that we can sort through later.\n",
    "    \n",
    "    \n",
    "```"
   ]
  },
  {
   "cell_type": "code",
   "execution_count": 469,
   "metadata": {},
   "outputs": [],
   "source": [
    "\n",
    "def generateRules(L, supportData, minConf=0.7):  #supportData is a dict coming from scanD\n",
    "    bigRuleList = []\n",
    "    for i in range(1, len(L)):  #only get the sets with two or more items\n",
    "        for freqSet in L[i]:\n",
    "            H1 = [frozenset([item]) for item in freqSet]\n",
    "            if (i > 1):\n",
    "                rulesFromConseq(freqSet, H1, supportData, bigRuleList, minConf)\n",
    "            else:\n",
    "                calcConf(freqSet, H1, supportData, bigRuleList, minConf)\n",
    "    return bigRuleList \n"
   ]
  },
  {
   "cell_type": "markdown",
   "metadata": {},
   "source": [
    "\n",
    "```\n",
    "calcConf() calculates the confidence of the rule and then find out the which rules meet the minimum confidence.\n",
    "```\n"
   ]
  },
  {
   "cell_type": "code",
   "execution_count": 470,
   "metadata": {},
   "outputs": [],
   "source": [
    "\n",
    "\n",
    "def calcConf(freqSet, H, supportData, brl, minConf=0.7):\n",
    "    prunedH = [] #create new list to return\n",
    "    for conseq in H:\n",
    "        conf = supportData[freqSet]/supportData[freqSet-conseq] #calc confidence\n",
    "        if conf >= minConf: \n",
    "            print (freqSet-conseq,'-->',conseq,'conf:',conf)\n",
    "            brl.append((freqSet-conseq, conseq, conf))\n",
    "            prunedH.append(conseq)\n",
    "    return prunedH\n",
    "\n"
   ]
  },
  {
   "cell_type": "markdown",
   "metadata": {},
   "source": [
    "\n",
    "```\n",
    "rulesFromConseq() generates more association rules from our initial dataset. \n",
    "\n",
    "This takes a frequent itemset and H, which is a list of items that could be on the right-hand side of a rule.\n",
    "\n",
    "```"
   ]
  },
  {
   "cell_type": "code",
   "execution_count": 471,
   "metadata": {},
   "outputs": [],
   "source": [
    "\n",
    "def rulesFromConseq(freqSet, H, supportData, brl, minConf=0.7):\n",
    "    m = len(H[0])\n",
    "    if (len(freqSet) > (m + 1)): #try further merging\n",
    "        Hmp1 = aprioriGen(H, m+1)#create Hm+1 new candidates\n",
    "        Hmp1 = calcConf(freqSet, Hmp1, supportData, brl, minConf)\n",
    "        if (len(Hmp1) > 1):    #need at least two sets to merge\n",
    "            rulesFromConseq(freqSet, Hmp1, supportData, brl, minConf)\n",
    "            "
   ]
  },
  {
   "cell_type": "code",
   "execution_count": 472,
   "metadata": {},
   "outputs": [
    {
     "name": "stdout",
     "output_type": "stream",
     "text": [
      "Your inputs:\n",
      "D: [{1, 3, 4}, {2, 3, 5}, {1, 2, 3, 5}, {2, 5}]\n",
      "C_k:  [frozenset({1}), frozenset({2}), frozenset({3}), frozenset({4}), frozenset({5})]\n",
      "minSupport:   0.5\n",
      "The Empty set beginning ssCnt:  {}\n",
      "\n",
      "\n",
      "tid items:  {1, 3, 4}\n",
      "can in C_k:  frozenset({1})\n",
      "can is a subset of tid !\n",
      "can  is not in ssCnt\n",
      "ssCnt:  {frozenset({1}): 1}\n",
      "can in C_k:  frozenset({2})\n",
      "can in C_k:  frozenset({3})\n",
      "can is a subset of tid !\n",
      "can  is not in ssCnt\n",
      "ssCnt:  {frozenset({3}): 1, frozenset({1}): 1}\n",
      "can in C_k:  frozenset({4})\n",
      "can is a subset of tid !\n",
      "can  is not in ssCnt\n",
      "ssCnt:  {frozenset({4}): 1, frozenset({3}): 1, frozenset({1}): 1}\n",
      "can in C_k:  frozenset({5})\n",
      "\n",
      "\n",
      "tid items:  {2, 3, 5}\n",
      "can in C_k:  frozenset({1})\n",
      "can in C_k:  frozenset({2})\n",
      "can is a subset of tid !\n",
      "can  is not in ssCnt\n",
      "ssCnt:  {frozenset({4}): 1, frozenset({2}): 1, frozenset({3}): 1, frozenset({1}): 1}\n",
      "can in C_k:  frozenset({3})\n",
      "can is a subset of tid !\n",
      "can is in ssCnt\n",
      "ssCnt:  {frozenset({4}): 1, frozenset({2}): 1, frozenset({3}): 2, frozenset({1}): 1}\n",
      "can in C_k:  frozenset({4})\n",
      "can in C_k:  frozenset({5})\n",
      "can is a subset of tid !\n",
      "can  is not in ssCnt\n",
      "ssCnt:  {frozenset({4}): 1, frozenset({5}): 1, frozenset({2}): 1, frozenset({3}): 2, frozenset({1}): 1}\n",
      "\n",
      "\n",
      "tid items:  {1, 2, 3, 5}\n",
      "can in C_k:  frozenset({1})\n",
      "can is a subset of tid !\n",
      "can is in ssCnt\n",
      "ssCnt:  {frozenset({4}): 1, frozenset({5}): 1, frozenset({2}): 1, frozenset({3}): 2, frozenset({1}): 2}\n",
      "can in C_k:  frozenset({2})\n",
      "can is a subset of tid !\n",
      "can is in ssCnt\n",
      "ssCnt:  {frozenset({4}): 1, frozenset({5}): 1, frozenset({2}): 2, frozenset({3}): 2, frozenset({1}): 2}\n",
      "can in C_k:  frozenset({3})\n",
      "can is a subset of tid !\n",
      "can is in ssCnt\n",
      "ssCnt:  {frozenset({4}): 1, frozenset({5}): 1, frozenset({2}): 2, frozenset({3}): 3, frozenset({1}): 2}\n",
      "can in C_k:  frozenset({4})\n",
      "can in C_k:  frozenset({5})\n",
      "can is a subset of tid !\n",
      "can is in ssCnt\n",
      "ssCnt:  {frozenset({4}): 1, frozenset({5}): 2, frozenset({2}): 2, frozenset({3}): 3, frozenset({1}): 2}\n",
      "\n",
      "\n",
      "tid items:  {2, 5}\n",
      "can in C_k:  frozenset({1})\n",
      "can in C_k:  frozenset({2})\n",
      "can is a subset of tid !\n",
      "can is in ssCnt\n",
      "ssCnt:  {frozenset({4}): 1, frozenset({5}): 2, frozenset({2}): 3, frozenset({3}): 3, frozenset({1}): 2}\n",
      "can in C_k:  frozenset({3})\n",
      "can in C_k:  frozenset({4})\n",
      "can in C_k:  frozenset({5})\n",
      "can is a subset of tid !\n",
      "can is in ssCnt\n",
      "ssCnt:  {frozenset({4}): 1, frozenset({5}): 3, frozenset({2}): 3, frozenset({3}): 3, frozenset({1}): 2}\n",
      "numItems, i.e. len of D:  4\n",
      "\n",
      "next form loop:\n",
      "\n",
      "for key  frozenset({4}) in ssCnt\n",
      "support:   0.25\n",
      "for key  frozenset({5}) in ssCnt\n",
      "support:   0.75\n",
      "support is greater than minSupport\n",
      "retList:  [frozenset({5})]\n",
      "for key  frozenset({2}) in ssCnt\n",
      "support:   0.75\n",
      "support is greater than minSupport\n",
      "retList:  [frozenset({2}), frozenset({5})]\n",
      "for key  frozenset({3}) in ssCnt\n",
      "support:   0.75\n",
      "support is greater than minSupport\n",
      "retList:  [frozenset({3}), frozenset({2}), frozenset({5})]\n",
      "for key  frozenset({1}) in ssCnt\n",
      "support:   0.5\n",
      "support is greater than minSupport\n",
      "retList:  [frozenset({1}), frozenset({3}), frozenset({2}), frozenset({5})]\n",
      "Your inputs:\n",
      "D: [{1, 3, 4}, {2, 3, 5}, {1, 2, 3, 5}, {2, 5}]\n",
      "C_k:  [frozenset({1, 3}), frozenset({1, 2}), frozenset({1, 5}), frozenset({2, 3}), frozenset({3, 5}), frozenset({2, 5})]\n",
      "minSupport:   0.5\n",
      "The Empty set beginning ssCnt:  {}\n",
      "\n",
      "\n",
      "tid items:  {1, 3, 4}\n",
      "can in C_k:  frozenset({1, 3})\n",
      "can is a subset of tid !\n",
      "can  is not in ssCnt\n",
      "ssCnt:  {frozenset({1, 3}): 1}\n",
      "can in C_k:  frozenset({1, 2})\n",
      "can in C_k:  frozenset({1, 5})\n",
      "can in C_k:  frozenset({2, 3})\n",
      "can in C_k:  frozenset({3, 5})\n",
      "can in C_k:  frozenset({2, 5})\n",
      "\n",
      "\n",
      "tid items:  {2, 3, 5}\n",
      "can in C_k:  frozenset({1, 3})\n",
      "can in C_k:  frozenset({1, 2})\n",
      "can in C_k:  frozenset({1, 5})\n",
      "can in C_k:  frozenset({2, 3})\n",
      "can is a subset of tid !\n",
      "can  is not in ssCnt\n",
      "ssCnt:  {frozenset({1, 3}): 1, frozenset({2, 3}): 1}\n",
      "can in C_k:  frozenset({3, 5})\n",
      "can is a subset of tid !\n",
      "can  is not in ssCnt\n",
      "ssCnt:  {frozenset({1, 3}): 1, frozenset({2, 3}): 1, frozenset({3, 5}): 1}\n",
      "can in C_k:  frozenset({2, 5})\n",
      "can is a subset of tid !\n",
      "can  is not in ssCnt\n",
      "ssCnt:  {frozenset({1, 3}): 1, frozenset({2, 3}): 1, frozenset({3, 5}): 1, frozenset({2, 5}): 1}\n",
      "\n",
      "\n",
      "tid items:  {1, 2, 3, 5}\n",
      "can in C_k:  frozenset({1, 3})\n",
      "can is a subset of tid !\n",
      "can is in ssCnt\n",
      "ssCnt:  {frozenset({1, 3}): 2, frozenset({2, 3}): 1, frozenset({3, 5}): 1, frozenset({2, 5}): 1}\n",
      "can in C_k:  frozenset({1, 2})\n",
      "can is a subset of tid !\n",
      "can  is not in ssCnt\n",
      "ssCnt:  {frozenset({1, 3}): 2, frozenset({1, 2}): 1, frozenset({2, 3}): 1, frozenset({3, 5}): 1, frozenset({2, 5}): 1}\n",
      "can in C_k:  frozenset({1, 5})\n",
      "can is a subset of tid !\n",
      "can  is not in ssCnt\n",
      "ssCnt:  {frozenset({2, 3}): 1, frozenset({2, 5}): 1, frozenset({1, 3}): 2, frozenset({1, 2}): 1, frozenset({1, 5}): 1, frozenset({3, 5}): 1}\n",
      "can in C_k:  frozenset({2, 3})\n",
      "can is a subset of tid !\n",
      "can is in ssCnt\n",
      "ssCnt:  {frozenset({2, 3}): 2, frozenset({2, 5}): 1, frozenset({1, 3}): 2, frozenset({1, 2}): 1, frozenset({1, 5}): 1, frozenset({3, 5}): 1}\n",
      "can in C_k:  frozenset({3, 5})\n",
      "can is a subset of tid !\n",
      "can is in ssCnt\n",
      "ssCnt:  {frozenset({2, 3}): 2, frozenset({2, 5}): 1, frozenset({1, 3}): 2, frozenset({1, 2}): 1, frozenset({1, 5}): 1, frozenset({3, 5}): 2}\n",
      "can in C_k:  frozenset({2, 5})\n",
      "can is a subset of tid !\n",
      "can is in ssCnt\n",
      "ssCnt:  {frozenset({2, 3}): 2, frozenset({2, 5}): 2, frozenset({1, 3}): 2, frozenset({1, 2}): 1, frozenset({1, 5}): 1, frozenset({3, 5}): 2}\n",
      "\n",
      "\n",
      "tid items:  {2, 5}\n",
      "can in C_k:  frozenset({1, 3})\n",
      "can in C_k:  frozenset({1, 2})\n",
      "can in C_k:  frozenset({1, 5})\n",
      "can in C_k:  frozenset({2, 3})\n",
      "can in C_k:  frozenset({3, 5})\n",
      "can in C_k:  frozenset({2, 5})\n",
      "can is a subset of tid !\n",
      "can is in ssCnt\n",
      "ssCnt:  {frozenset({2, 3}): 2, frozenset({2, 5}): 3, frozenset({1, 3}): 2, frozenset({1, 2}): 1, frozenset({1, 5}): 1, frozenset({3, 5}): 2}\n",
      "numItems, i.e. len of D:  4\n",
      "\n",
      "next form loop:\n",
      "\n",
      "for key  frozenset({2, 3}) in ssCnt\n",
      "support:   0.5\n",
      "support is greater than minSupport\n",
      "retList:  [frozenset({2, 3})]\n",
      "for key  frozenset({2, 5}) in ssCnt\n",
      "support:   0.75\n",
      "support is greater than minSupport\n",
      "retList:  [frozenset({2, 5}), frozenset({2, 3})]\n",
      "for key  frozenset({1, 3}) in ssCnt\n",
      "support:   0.5\n",
      "support is greater than minSupport\n",
      "retList:  [frozenset({1, 3}), frozenset({2, 5}), frozenset({2, 3})]\n",
      "for key  frozenset({1, 2}) in ssCnt\n",
      "support:   0.25\n",
      "for key  frozenset({1, 5}) in ssCnt\n",
      "support:   0.25\n",
      "for key  frozenset({3, 5}) in ssCnt\n",
      "support:   0.5\n",
      "support is greater than minSupport\n",
      "retList:  [frozenset({3, 5}), frozenset({1, 3}), frozenset({2, 5}), frozenset({2, 3})]\n",
      "Your inputs:\n",
      "D: [{1, 3, 4}, {2, 3, 5}, {1, 2, 3, 5}, {2, 5}]\n",
      "C_k:  [frozenset({2, 3, 5})]\n",
      "minSupport:   0.5\n",
      "The Empty set beginning ssCnt:  {}\n",
      "\n",
      "\n",
      "tid items:  {1, 3, 4}\n",
      "can in C_k:  frozenset({2, 3, 5})\n",
      "\n",
      "\n",
      "tid items:  {2, 3, 5}\n",
      "can in C_k:  frozenset({2, 3, 5})\n",
      "can is a subset of tid !\n",
      "can  is not in ssCnt\n",
      "ssCnt:  {frozenset({2, 3, 5}): 1}\n",
      "\n",
      "\n",
      "tid items:  {1, 2, 3, 5}\n",
      "can in C_k:  frozenset({2, 3, 5})\n",
      "can is a subset of tid !\n",
      "can is in ssCnt\n",
      "ssCnt:  {frozenset({2, 3, 5}): 2}\n",
      "\n",
      "\n",
      "tid items:  {2, 5}\n",
      "can in C_k:  frozenset({2, 3, 5})\n",
      "numItems, i.e. len of D:  4\n",
      "\n",
      "next form loop:\n",
      "\n",
      "for key  frozenset({2, 3, 5}) in ssCnt\n",
      "support:   0.5\n",
      "support is greater than minSupport\n",
      "retList:  [frozenset({2, 3, 5})]\n",
      "Your inputs:\n",
      "D: [{1, 3, 4}, {2, 3, 5}, {1, 2, 3, 5}, {2, 5}]\n",
      "C_k:  []\n",
      "minSupport:   0.5\n",
      "The Empty set beginning ssCnt:  {}\n",
      "\n",
      "\n",
      "tid items:  {1, 3, 4}\n",
      "\n",
      "\n",
      "tid items:  {2, 3, 5}\n",
      "\n",
      "\n",
      "tid items:  {1, 2, 3, 5}\n",
      "\n",
      "\n",
      "tid items:  {2, 5}\n",
      "numItems, i.e. len of D:  4\n",
      "\n",
      "next form loop:\n",
      "\n"
     ]
    }
   ],
   "source": [
    "\n",
    "L,suppData= apriori(dataSet,minSupport=0.5)\n"
   ]
  },
  {
   "cell_type": "code",
   "execution_count": 473,
   "metadata": {},
   "outputs": [
    {
     "name": "stdout",
     "output_type": "stream",
     "text": [
      "frozenset({1}) --> frozenset({3}) conf: 1.0\n",
      "frozenset({5}) --> frozenset({2}) conf: 1.0\n",
      "frozenset({2}) --> frozenset({5}) conf: 1.0\n"
     ]
    }
   ],
   "source": [
    "\n",
    "rules= generateRules(L,suppData, minConf=0.7)\n"
   ]
  },
  {
   "cell_type": "markdown",
   "metadata": {},
   "source": [
    "\n",
    "```\n",
    "\n",
    "This gives you three rules: {1} ➞ {3},{5} ➞ {2},and {2} ➞ {5}. \n",
    "    \n",
    "It’s interesting to see that the rule with 2 and 5 can be flipped around but not the rule with 1 and 3.\n",
    "\n",
    "\n",
    "```\n",
    "    \n",
    "    "
   ]
  },
  {
   "cell_type": "markdown",
   "metadata": {},
   "source": [
    "```\n",
    "```"
   ]
  },
  {
   "cell_type": "code",
   "execution_count": 474,
   "metadata": {},
   "outputs": [],
   "source": [
    "\n",
    "\n",
    "#poisonous work:\n",
    "\n",
    "# for item in L[1]:\n",
    "#     if item.intersection('2'):\n",
    "#         print (item)\n",
    "\n",
    "# for item in L[6]:\n",
    "#     if item.intersection('2'):\n",
    "#         print (item)\n",
    "        \n",
    "# rules= generateRules(L,suppData, minConf=0.7)\n",
    "\n"
   ]
  },
  {
   "cell_type": "markdown",
   "metadata": {},
   "source": [
    "### END:"
   ]
  },
  {
   "cell_type": "code",
   "execution_count": 475,
   "metadata": {},
   "outputs": [],
   "source": [
    "### keep as ref\n",
    "\n",
    "### mushDatSet = [line.split() for line in open('mushroom.dat').readlines()]"
   ]
  }
 ],
 "metadata": {
  "kernelspec": {
   "display_name": "Python 3",
   "language": "python",
   "name": "python3"
  },
  "language_info": {
   "codemirror_mode": {
    "name": "ipython",
    "version": 3
   },
   "file_extension": ".py",
   "mimetype": "text/x-python",
   "name": "python",
   "nbconvert_exporter": "python",
   "pygments_lexer": "ipython3",
   "version": "3.5.5"
  },
  "toc": {
   "base_numbering": 1,
   "nav_menu": {},
   "number_sections": true,
   "sideBar": true,
   "skip_h1_title": true,
   "title_cell": "Table of Contents",
   "title_sidebar": "Contents",
   "toc_cell": true,
   "toc_position": {},
   "toc_section_display": true,
   "toc_window_display": false
  }
 },
 "nbformat": 4,
 "nbformat_minor": 2
}
