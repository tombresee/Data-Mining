{
 "cells": [
  {
   "cell_type": "markdown",
   "metadata": {},
   "source": [
    "Simple Apriori Algorithm\n",
    "\n",
    "Apriori is an Algorithm to finds Frequent itemset with support > minimum support. Support = Occurences."
   ]
  },
  {
   "cell_type": "markdown",
   "metadata": {
    "toc": true
   },
   "source": [
    "<h1>Table of Contents<span class=\"tocSkip\"></span></h1>\n",
    "<div class=\"toc\"><ul class=\"toc-item\"><li><span><a href=\"#Convert-Items-to-Number\" data-toc-modified-id=\"Convert-Items-to-Number-1\"><span class=\"toc-item-num\">1&nbsp;&nbsp;</span>Convert Items to Number</a></span></li><li><span><a href=\"#Create-Dataframe-from-Numbered-Items\" data-toc-modified-id=\"Create-Dataframe-from-Numbered-Items-2\"><span class=\"toc-item-num\">2&nbsp;&nbsp;</span>Create Dataframe from Numbered Items</a></span></li><li><span><a href=\"#Creating-First-Candidate-(C1)\" data-toc-modified-id=\"Creating-First-Candidate-(C1)-3\"><span class=\"toc-item-num\">3&nbsp;&nbsp;</span>Creating First Candidate (C1)</a></span></li><li><span><a href=\"#Creating-first-Frequent-Itemset-(L1)\" data-toc-modified-id=\"Creating-first-Frequent-Itemset-(L1)-4\"><span class=\"toc-item-num\">4&nbsp;&nbsp;</span>Creating first Frequent Itemset (L1)</a></span></li><li><span><a href=\"#Create-the-Second-Candidate-(C2)\" data-toc-modified-id=\"Create-the-Second-Candidate-(C2)-5\"><span class=\"toc-item-num\">5&nbsp;&nbsp;</span>Create the Second Candidate (C2)</a></span></li><li><span><a href=\"#Creating-the-Third-Candidate-(C3)---Using-the-Candidate-Forming-Technique\" data-toc-modified-id=\"Creating-the-Third-Candidate-(C3)---Using-the-Candidate-Forming-Technique-6\"><span class=\"toc-item-num\">6&nbsp;&nbsp;</span>Creating the Third Candidate (C3) - Using the Candidate Forming Technique</a></span></li><li><span><a href=\"#Self-Join\" data-toc-modified-id=\"Self-Join-7\"><span class=\"toc-item-num\">7&nbsp;&nbsp;</span>Self Join</a></span></li><li><span><a href=\"#Pruning\" data-toc-modified-id=\"Pruning-8\"><span class=\"toc-item-num\">8&nbsp;&nbsp;</span>Pruning</a></span></li><li><span><a href=\"#Creating-the-Third-Frequent-Itemset-(L3)\" data-toc-modified-id=\"Creating-the-Third-Frequent-Itemset-(L3)-9\"><span class=\"toc-item-num\">9&nbsp;&nbsp;</span>Creating the Third Frequent Itemset (L3)</a></span></li><li><span><a href=\"#All-Frequent-Itemset\" data-toc-modified-id=\"All-Frequent-Itemset-10\"><span class=\"toc-item-num\">10&nbsp;&nbsp;</span>All Frequent Itemset</a></span></li><li><span><a href=\"#Final-Output-of-Freq.-Itemset-(L1-L3)\" data-toc-modified-id=\"Final-Output-of-Freq.-Itemset-(L1-L3)-11\"><span class=\"toc-item-num\">11&nbsp;&nbsp;</span>Final Output of Freq. Itemset (L1-L3)</a></span></li></ul></div>"
   ]
  },
  {
   "cell_type": "code",
   "execution_count": 212,
   "metadata": {},
   "outputs": [],
   "source": [
    "\n",
    "mydata = \"\"\"\n",
    "\n",
    "tid,  items\n",
    "1,   \"Handphone,Laptop\"\n",
    "2,   \"Handphone,Charger,Laptop\"\n",
    "3,   \"Powerbank,Laptop,Charger,Handphone\"\n",
    "4,   \"Tablet,Laptop,Handphone\"\n",
    "5,   \"Handphone,Charger,Tablet\"\n",
    "6,   \"Tablet,Powerbank\"\n",
    "7,   \"Handphone,Laptop,Tablet,Charger\"\n",
    "8,   \"Charger,Handphone\"\n",
    "9,   \"Handphone,Powerbank\"\n",
    "10,  \"Laptop,Charger,Powerbank\"\n",
    "\n",
    "\"\"\"\n"
   ]
  },
  {
   "cell_type": "code",
   "execution_count": 213,
   "metadata": {},
   "outputs": [],
   "source": [
    "import pandas as pd"
   ]
  },
  {
   "cell_type": "code",
   "execution_count": 214,
   "metadata": {},
   "outputs": [],
   "source": [
    "dataset = pd.read_csv('dataset_apriori.csv')"
   ]
  },
  {
   "cell_type": "code",
   "execution_count": 215,
   "metadata": {},
   "outputs": [
    {
     "data": {
      "text/html": [
       "<div>\n",
       "<style scoped>\n",
       "    .dataframe tbody tr th:only-of-type {\n",
       "        vertical-align: middle;\n",
       "    }\n",
       "\n",
       "    .dataframe tbody tr th {\n",
       "        vertical-align: top;\n",
       "    }\n",
       "\n",
       "    .dataframe thead th {\n",
       "        text-align: right;\n",
       "    }\n",
       "</style>\n",
       "<table border=\"1\" class=\"dataframe\">\n",
       "  <thead>\n",
       "    <tr style=\"text-align: right;\">\n",
       "      <th></th>\n",
       "      <th>tid</th>\n",
       "      <th>items</th>\n",
       "    </tr>\n",
       "  </thead>\n",
       "  <tbody>\n",
       "    <tr>\n",
       "      <th>0</th>\n",
       "      <td>1</td>\n",
       "      <td>Handphone,Laptop</td>\n",
       "    </tr>\n",
       "    <tr>\n",
       "      <th>1</th>\n",
       "      <td>2</td>\n",
       "      <td>Handphone,Charger,Laptop</td>\n",
       "    </tr>\n",
       "    <tr>\n",
       "      <th>2</th>\n",
       "      <td>3</td>\n",
       "      <td>Powerbank,Laptop,Charger,Handphone</td>\n",
       "    </tr>\n",
       "    <tr>\n",
       "      <th>3</th>\n",
       "      <td>4</td>\n",
       "      <td>Tablet,Laptop,Handphone</td>\n",
       "    </tr>\n",
       "    <tr>\n",
       "      <th>4</th>\n",
       "      <td>5</td>\n",
       "      <td>Handphone,Charger,Tablet</td>\n",
       "    </tr>\n",
       "    <tr>\n",
       "      <th>5</th>\n",
       "      <td>6</td>\n",
       "      <td>Tablet,Powerbank</td>\n",
       "    </tr>\n",
       "    <tr>\n",
       "      <th>6</th>\n",
       "      <td>7</td>\n",
       "      <td>Handphone,Laptop,Tablet,Charger</td>\n",
       "    </tr>\n",
       "    <tr>\n",
       "      <th>7</th>\n",
       "      <td>8</td>\n",
       "      <td>Charger,Handphone</td>\n",
       "    </tr>\n",
       "    <tr>\n",
       "      <th>8</th>\n",
       "      <td>9</td>\n",
       "      <td>Handphone,Powerbank</td>\n",
       "    </tr>\n",
       "    <tr>\n",
       "      <th>9</th>\n",
       "      <td>10</td>\n",
       "      <td>Laptop,Charger,Powerbank</td>\n",
       "    </tr>\n",
       "  </tbody>\n",
       "</table>\n",
       "</div>"
      ],
      "text/plain": [
       "   tid                               items\n",
       "0    1                    Handphone,Laptop\n",
       "1    2            Handphone,Charger,Laptop\n",
       "2    3  Powerbank,Laptop,Charger,Handphone\n",
       "3    4             Tablet,Laptop,Handphone\n",
       "4    5            Handphone,Charger,Tablet\n",
       "5    6                    Tablet,Powerbank\n",
       "6    7     Handphone,Laptop,Tablet,Charger\n",
       "7    8                   Charger,Handphone\n",
       "8    9                 Handphone,Powerbank\n",
       "9   10            Laptop,Charger,Powerbank"
      ]
     },
     "execution_count": 215,
     "metadata": {},
     "output_type": "execute_result"
    }
   ],
   "source": [
    "dataset"
   ]
  },
  {
   "cell_type": "code",
   "execution_count": 216,
   "metadata": {},
   "outputs": [
    {
     "data": {
      "text/plain": [
       "0     1\n",
       "1     2\n",
       "2     3\n",
       "3     4\n",
       "4     5\n",
       "5     6\n",
       "6     7\n",
       "7     8\n",
       "8     9\n",
       "9    10\n",
       "Name: tid, dtype: int64"
      ]
     },
     "execution_count": 216,
     "metadata": {},
     "output_type": "execute_result"
    }
   ],
   "source": [
    "dataset.tid"
   ]
  },
  {
   "cell_type": "code",
   "execution_count": 217,
   "metadata": {},
   "outputs": [
    {
     "data": {
      "text/plain": [
       "<bound method DataFrame.iteritems of    tid                               items\n",
       "0    1                    Handphone,Laptop\n",
       "1    2            Handphone,Charger,Laptop\n",
       "2    3  Powerbank,Laptop,Charger,Handphone\n",
       "3    4             Tablet,Laptop,Handphone\n",
       "4    5            Handphone,Charger,Tablet\n",
       "5    6                    Tablet,Powerbank\n",
       "6    7     Handphone,Laptop,Tablet,Charger\n",
       "7    8                   Charger,Handphone\n",
       "8    9                 Handphone,Powerbank\n",
       "9   10            Laptop,Charger,Powerbank>"
      ]
     },
     "execution_count": 217,
     "metadata": {},
     "output_type": "execute_result"
    }
   ],
   "source": [
    "dataset.items"
   ]
  },
  {
   "cell_type": "code",
   "execution_count": 218,
   "metadata": {},
   "outputs": [],
   "source": [
    "df_items = dataset['items']\n",
    "df_tid = dataset['tid']"
   ]
  },
  {
   "cell_type": "code",
   "execution_count": 219,
   "metadata": {},
   "outputs": [
    {
     "name": "stdout",
     "output_type": "stream",
     "text": [
      "<class 'pandas.core.series.Series'>\n"
     ]
    }
   ],
   "source": [
    "print(type(df_items))"
   ]
  },
  {
   "cell_type": "code",
   "execution_count": 220,
   "metadata": {},
   "outputs": [
    {
     "data": {
      "text/plain": [
       "0                      Handphone,Laptop\n",
       "1              Handphone,Charger,Laptop\n",
       "2    Powerbank,Laptop,Charger,Handphone\n",
       "3               Tablet,Laptop,Handphone\n",
       "4              Handphone,Charger,Tablet\n",
       "5                      Tablet,Powerbank\n",
       "6       Handphone,Laptop,Tablet,Charger\n",
       "7                     Charger,Handphone\n",
       "8                   Handphone,Powerbank\n",
       "9              Laptop,Charger,Powerbank\n",
       "Name: items, dtype: object"
      ]
     },
     "execution_count": 220,
     "metadata": {},
     "output_type": "execute_result"
    }
   ],
   "source": [
    "df_items"
   ]
  },
  {
   "cell_type": "code",
   "execution_count": 221,
   "metadata": {},
   "outputs": [
    {
     "data": {
      "text/plain": [
       "0     1\n",
       "1     2\n",
       "2     3\n",
       "3     4\n",
       "4     5\n",
       "5     6\n",
       "6     7\n",
       "7     8\n",
       "8     9\n",
       "9    10\n",
       "Name: tid, dtype: int64"
      ]
     },
     "execution_count": 221,
     "metadata": {},
     "output_type": "execute_result"
    }
   ],
   "source": [
    "df_tid"
   ]
  },
  {
   "cell_type": "markdown",
   "metadata": {},
   "source": [
    "<h2>Convert Items to Number</h2>"
   ]
  },
  {
   "cell_type": "code",
   "execution_count": 222,
   "metadata": {},
   "outputs": [],
   "source": [
    "dictionaries = {'Handphone': 1, 'Laptop': 2, 'Charger': 3, 'Powerbank': 4, 'Tablet': 5 }"
   ]
  },
  {
   "cell_type": "code",
   "execution_count": 223,
   "metadata": {},
   "outputs": [
    {
     "data": {
      "text/plain": [
       "pandas.core.series.Series"
      ]
     },
     "execution_count": 223,
     "metadata": {},
     "output_type": "execute_result"
    }
   ],
   "source": [
    "type(df_items)"
   ]
  },
  {
   "cell_type": "code",
   "execution_count": 224,
   "metadata": {},
   "outputs": [],
   "source": [
    "comma_splitted_df = df_items.apply(lambda x: x.split(','))"
   ]
  },
  {
   "cell_type": "code",
   "execution_count": 225,
   "metadata": {},
   "outputs": [
    {
     "data": {
      "text/plain": [
       "0                        [Handphone, Laptop]\n",
       "1               [Handphone, Charger, Laptop]\n",
       "2    [Powerbank, Laptop, Charger, Handphone]\n",
       "3                [Tablet, Laptop, Handphone]\n",
       "4               [Handphone, Charger, Tablet]\n",
       "5                        [Tablet, Powerbank]\n",
       "6       [Handphone, Laptop, Tablet, Charger]\n",
       "7                       [Charger, Handphone]\n",
       "8                     [Handphone, Powerbank]\n",
       "9               [Laptop, Charger, Powerbank]\n",
       "Name: items, dtype: object"
      ]
     },
     "execution_count": 225,
     "metadata": {},
     "output_type": "execute_result"
    }
   ],
   "source": [
    "comma_splitted_df"
   ]
  },
  {
   "cell_type": "code",
   "execution_count": 226,
   "metadata": {},
   "outputs": [
    {
     "data": {
      "text/plain": [
       "[[1, 2],\n",
       " [1, 2, 3],\n",
       " [1, 2, 3, 4],\n",
       " [1, 2, 5],\n",
       " [1, 3, 5],\n",
       " [4, 5],\n",
       " [1, 2, 3, 5],\n",
       " [1, 3],\n",
       " [1, 4],\n",
       " [2, 3, 4]]"
      ]
     },
     "execution_count": 226,
     "metadata": {},
     "output_type": "execute_result"
    }
   ],
   "source": [
    "numbered_col = []\n",
    "for i in range(len(comma_splitted_df)):\n",
    "    list_numbered = list(map(lambda x: dictionaries[x], comma_splitted_df[i]))\n",
    "    sort_numbered = sorted(list_numbered)\n",
    "    numbered_col.append(sort_numbered)\n",
    "\n",
    "numbered_col"
   ]
  },
  {
   "cell_type": "markdown",
   "metadata": {},
   "source": [
    "<h2>Create Dataframe from Numbered Items</h2>"
   ]
  },
  {
   "cell_type": "code",
   "execution_count": 227,
   "metadata": {},
   "outputs": [
    {
     "name": "stdout",
     "output_type": "stream",
     "text": [
      "{'items': [[1, 2], [1, 2, 3], [1, 2, 3, 4], [1, 2, 5], [1, 3, 5], [4, 5], [1, 2, 3, 5], [1, 3], [1, 4], [2, 3, 4]]}\n"
     ]
    }
   ],
   "source": [
    "dict_data = {'items': numbered_col}\n",
    "\n",
    "print(dict_data)\n",
    "\n"
   ]
  },
  {
   "cell_type": "code",
   "execution_count": 228,
   "metadata": {},
   "outputs": [
    {
     "data": {
      "text/html": [
       "<div>\n",
       "<style scoped>\n",
       "    .dataframe tbody tr th:only-of-type {\n",
       "        vertical-align: middle;\n",
       "    }\n",
       "\n",
       "    .dataframe tbody tr th {\n",
       "        vertical-align: top;\n",
       "    }\n",
       "\n",
       "    .dataframe thead th {\n",
       "        text-align: right;\n",
       "    }\n",
       "</style>\n",
       "<table border=\"1\" class=\"dataframe\">\n",
       "  <thead>\n",
       "    <tr style=\"text-align: right;\">\n",
       "      <th></th>\n",
       "      <th>items</th>\n",
       "    </tr>\n",
       "  </thead>\n",
       "  <tbody>\n",
       "    <tr>\n",
       "      <th>0</th>\n",
       "      <td>[1, 2]</td>\n",
       "    </tr>\n",
       "    <tr>\n",
       "      <th>1</th>\n",
       "      <td>[1, 2, 3]</td>\n",
       "    </tr>\n",
       "    <tr>\n",
       "      <th>2</th>\n",
       "      <td>[1, 2, 3, 4]</td>\n",
       "    </tr>\n",
       "    <tr>\n",
       "      <th>3</th>\n",
       "      <td>[1, 2, 5]</td>\n",
       "    </tr>\n",
       "    <tr>\n",
       "      <th>4</th>\n",
       "      <td>[1, 3, 5]</td>\n",
       "    </tr>\n",
       "    <tr>\n",
       "      <th>5</th>\n",
       "      <td>[4, 5]</td>\n",
       "    </tr>\n",
       "    <tr>\n",
       "      <th>6</th>\n",
       "      <td>[1, 2, 3, 5]</td>\n",
       "    </tr>\n",
       "    <tr>\n",
       "      <th>7</th>\n",
       "      <td>[1, 3]</td>\n",
       "    </tr>\n",
       "    <tr>\n",
       "      <th>8</th>\n",
       "      <td>[1, 4]</td>\n",
       "    </tr>\n",
       "    <tr>\n",
       "      <th>9</th>\n",
       "      <td>[2, 3, 4]</td>\n",
       "    </tr>\n",
       "  </tbody>\n",
       "</table>\n",
       "</div>"
      ],
      "text/plain": [
       "          items\n",
       "0        [1, 2]\n",
       "1     [1, 2, 3]\n",
       "2  [1, 2, 3, 4]\n",
       "3     [1, 2, 5]\n",
       "4     [1, 3, 5]\n",
       "5        [4, 5]\n",
       "6  [1, 2, 3, 5]\n",
       "7        [1, 3]\n",
       "8        [1, 4]\n",
       "9     [2, 3, 4]"
      ]
     },
     "execution_count": 228,
     "metadata": {},
     "output_type": "execute_result"
    }
   ],
   "source": [
    "df = pd.DataFrame.from_dict(dict_data)\n",
    "df"
   ]
  },
  {
   "cell_type": "code",
   "execution_count": 229,
   "metadata": {
    "scrolled": true
   },
   "outputs": [
    {
     "data": {
      "text/html": [
       "<div>\n",
       "<style scoped>\n",
       "    .dataframe tbody tr th:only-of-type {\n",
       "        vertical-align: middle;\n",
       "    }\n",
       "\n",
       "    .dataframe tbody tr th {\n",
       "        vertical-align: top;\n",
       "    }\n",
       "\n",
       "    .dataframe thead th {\n",
       "        text-align: right;\n",
       "    }\n",
       "</style>\n",
       "<table border=\"1\" class=\"dataframe\">\n",
       "  <thead>\n",
       "    <tr style=\"text-align: right;\">\n",
       "      <th></th>\n",
       "      <th>tid</th>\n",
       "      <th>items</th>\n",
       "    </tr>\n",
       "  </thead>\n",
       "  <tbody>\n",
       "    <tr>\n",
       "      <th>0</th>\n",
       "      <td>1</td>\n",
       "      <td>[1, 2]</td>\n",
       "    </tr>\n",
       "    <tr>\n",
       "      <th>1</th>\n",
       "      <td>2</td>\n",
       "      <td>[1, 2, 3]</td>\n",
       "    </tr>\n",
       "    <tr>\n",
       "      <th>2</th>\n",
       "      <td>3</td>\n",
       "      <td>[1, 2, 3, 4]</td>\n",
       "    </tr>\n",
       "    <tr>\n",
       "      <th>3</th>\n",
       "      <td>4</td>\n",
       "      <td>[1, 2, 5]</td>\n",
       "    </tr>\n",
       "    <tr>\n",
       "      <th>4</th>\n",
       "      <td>5</td>\n",
       "      <td>[1, 3, 5]</td>\n",
       "    </tr>\n",
       "    <tr>\n",
       "      <th>5</th>\n",
       "      <td>6</td>\n",
       "      <td>[4, 5]</td>\n",
       "    </tr>\n",
       "    <tr>\n",
       "      <th>6</th>\n",
       "      <td>7</td>\n",
       "      <td>[1, 2, 3, 5]</td>\n",
       "    </tr>\n",
       "    <tr>\n",
       "      <th>7</th>\n",
       "      <td>8</td>\n",
       "      <td>[1, 3]</td>\n",
       "    </tr>\n",
       "    <tr>\n",
       "      <th>8</th>\n",
       "      <td>9</td>\n",
       "      <td>[1, 4]</td>\n",
       "    </tr>\n",
       "    <tr>\n",
       "      <th>9</th>\n",
       "      <td>10</td>\n",
       "      <td>[2, 3, 4]</td>\n",
       "    </tr>\n",
       "  </tbody>\n",
       "</table>\n",
       "</div>"
      ],
      "text/plain": [
       "   tid         items\n",
       "0    1        [1, 2]\n",
       "1    2     [1, 2, 3]\n",
       "2    3  [1, 2, 3, 4]\n",
       "3    4     [1, 2, 5]\n",
       "4    5     [1, 3, 5]\n",
       "5    6        [4, 5]\n",
       "6    7  [1, 2, 3, 5]\n",
       "7    8        [1, 3]\n",
       "8    9        [1, 4]\n",
       "9   10     [2, 3, 4]"
      ]
     },
     "execution_count": 229,
     "metadata": {},
     "output_type": "execute_result"
    }
   ],
   "source": [
    "pd.concat([df_tid, df], axis=1)"
   ]
  },
  {
   "cell_type": "code",
   "execution_count": 230,
   "metadata": {
    "scrolled": false
   },
   "outputs": [
    {
     "data": {
      "text/plain": [
       "[1,\n",
       " 2,\n",
       " 1,\n",
       " 2,\n",
       " 3,\n",
       " 1,\n",
       " 2,\n",
       " 3,\n",
       " 4,\n",
       " 1,\n",
       " 2,\n",
       " 5,\n",
       " 1,\n",
       " 3,\n",
       " 5,\n",
       " 4,\n",
       " 5,\n",
       " 1,\n",
       " 2,\n",
       " 3,\n",
       " 5,\n",
       " 1,\n",
       " 3,\n",
       " 1,\n",
       " 4,\n",
       " 2,\n",
       " 3,\n",
       " 4]"
      ]
     },
     "execution_count": 230,
     "metadata": {},
     "output_type": "execute_result"
    }
   ],
   "source": [
    "items = []\n",
    "for i in range(len(df)):\n",
    "    for j in range(len(df['items'][i])):\n",
    "        items.append(df['items'][i][j])\n",
    "items"
   ]
  },
  {
   "cell_type": "markdown",
   "metadata": {},
   "source": [
    "<h2>Creating First Candidate (C1)</h2>"
   ]
  },
  {
   "cell_type": "code",
   "execution_count": 231,
   "metadata": {},
   "outputs": [
    {
     "data": {
      "text/plain": [
       "{1, 2, 3, 4, 5}"
      ]
     },
     "execution_count": 231,
     "metadata": {},
     "output_type": "execute_result"
    }
   ],
   "source": [
    "#Get unique element from list/array\n",
    "unique_item = set(items)\n",
    "unique_item"
   ]
  },
  {
   "cell_type": "code",
   "execution_count": 232,
   "metadata": {},
   "outputs": [
    {
     "data": {
      "text/plain": [
       "[1, 2, 3, 4, 5]"
      ]
     },
     "execution_count": 232,
     "metadata": {},
     "output_type": "execute_result"
    }
   ],
   "source": [
    "#Convert it to list\n",
    "list_unique_item = list(unique_item)\n",
    "list_unique_item"
   ]
  },
  {
   "cell_type": "code",
   "execution_count": 233,
   "metadata": {},
   "outputs": [
    {
     "data": {
      "text/plain": [
       "[(1, 8), (2, 6), (3, 6), (4, 4), (5, 4)]"
      ]
     },
     "execution_count": 233,
     "metadata": {},
     "output_type": "execute_result"
    }
   ],
   "source": [
    "count_unique = []\n",
    "for value in (list_unique_item):\n",
    "    count_unique.append((value, items.count(value)))\n",
    "count_unique"
   ]
  },
  {
   "cell_type": "code",
   "execution_count": 234,
   "metadata": {},
   "outputs": [],
   "source": [
    "candidate1_df = pd.DataFrame(count_unique, columns=[\"itemset\", \"sup\"])"
   ]
  },
  {
   "cell_type": "code",
   "execution_count": 235,
   "metadata": {},
   "outputs": [
    {
     "data": {
      "text/html": [
       "<div>\n",
       "<style scoped>\n",
       "    .dataframe tbody tr th:only-of-type {\n",
       "        vertical-align: middle;\n",
       "    }\n",
       "\n",
       "    .dataframe tbody tr th {\n",
       "        vertical-align: top;\n",
       "    }\n",
       "\n",
       "    .dataframe thead th {\n",
       "        text-align: right;\n",
       "    }\n",
       "</style>\n",
       "<table border=\"1\" class=\"dataframe\">\n",
       "  <thead>\n",
       "    <tr style=\"text-align: right;\">\n",
       "      <th></th>\n",
       "      <th>itemset</th>\n",
       "      <th>sup</th>\n",
       "    </tr>\n",
       "  </thead>\n",
       "  <tbody>\n",
       "    <tr>\n",
       "      <th>0</th>\n",
       "      <td>1</td>\n",
       "      <td>8</td>\n",
       "    </tr>\n",
       "    <tr>\n",
       "      <th>1</th>\n",
       "      <td>2</td>\n",
       "      <td>6</td>\n",
       "    </tr>\n",
       "    <tr>\n",
       "      <th>2</th>\n",
       "      <td>3</td>\n",
       "      <td>6</td>\n",
       "    </tr>\n",
       "    <tr>\n",
       "      <th>3</th>\n",
       "      <td>4</td>\n",
       "      <td>4</td>\n",
       "    </tr>\n",
       "    <tr>\n",
       "      <th>4</th>\n",
       "      <td>5</td>\n",
       "      <td>4</td>\n",
       "    </tr>\n",
       "  </tbody>\n",
       "</table>\n",
       "</div>"
      ],
      "text/plain": [
       "   itemset  sup\n",
       "0        1    8\n",
       "1        2    6\n",
       "2        3    6\n",
       "3        4    4\n",
       "4        5    4"
      ]
     },
     "execution_count": 235,
     "metadata": {},
     "output_type": "execute_result"
    }
   ],
   "source": [
    "candidate1_df"
   ]
  },
  {
   "cell_type": "markdown",
   "metadata": {},
   "source": [
    "<h2>Creating first Frequent Itemset (L1)</h2>"
   ]
  },
  {
   "cell_type": "code",
   "execution_count": 236,
   "metadata": {},
   "outputs": [],
   "source": [
    "def filter_sup(candidate):\n",
    "    minimum_sup = 2\n",
    "    filtering = candidate['sup'] > minimum_sup\n",
    "    freq = candidate[filtering]\n",
    "    return freq"
   ]
  },
  {
   "cell_type": "code",
   "execution_count": 237,
   "metadata": {},
   "outputs": [],
   "source": [
    "# filter_sup = candidate1_df['sup'] > minimum_sup\n",
    "freq_itemset1 = filter_sup(candidate1_df)"
   ]
  },
  {
   "cell_type": "code",
   "execution_count": 238,
   "metadata": {},
   "outputs": [
    {
     "data": {
      "text/html": [
       "<div>\n",
       "<style scoped>\n",
       "    .dataframe tbody tr th:only-of-type {\n",
       "        vertical-align: middle;\n",
       "    }\n",
       "\n",
       "    .dataframe tbody tr th {\n",
       "        vertical-align: top;\n",
       "    }\n",
       "\n",
       "    .dataframe thead th {\n",
       "        text-align: right;\n",
       "    }\n",
       "</style>\n",
       "<table border=\"1\" class=\"dataframe\">\n",
       "  <thead>\n",
       "    <tr style=\"text-align: right;\">\n",
       "      <th></th>\n",
       "      <th>itemset</th>\n",
       "      <th>sup</th>\n",
       "    </tr>\n",
       "  </thead>\n",
       "  <tbody>\n",
       "    <tr>\n",
       "      <th>0</th>\n",
       "      <td>1</td>\n",
       "      <td>8</td>\n",
       "    </tr>\n",
       "    <tr>\n",
       "      <th>1</th>\n",
       "      <td>2</td>\n",
       "      <td>6</td>\n",
       "    </tr>\n",
       "    <tr>\n",
       "      <th>2</th>\n",
       "      <td>3</td>\n",
       "      <td>6</td>\n",
       "    </tr>\n",
       "    <tr>\n",
       "      <th>3</th>\n",
       "      <td>4</td>\n",
       "      <td>4</td>\n",
       "    </tr>\n",
       "    <tr>\n",
       "      <th>4</th>\n",
       "      <td>5</td>\n",
       "      <td>4</td>\n",
       "    </tr>\n",
       "  </tbody>\n",
       "</table>\n",
       "</div>"
      ],
      "text/plain": [
       "   itemset  sup\n",
       "0        1    8\n",
       "1        2    6\n",
       "2        3    6\n",
       "3        4    4\n",
       "4        5    4"
      ]
     },
     "execution_count": 238,
     "metadata": {},
     "output_type": "execute_result"
    }
   ],
   "source": [
    "freq_itemset1"
   ]
  },
  {
   "cell_type": "markdown",
   "metadata": {},
   "source": [
    "## Create the Second Candidate (C2)\n",
    "* Self join"
   ]
  },
  {
   "cell_type": "code",
   "execution_count": 239,
   "metadata": {},
   "outputs": [],
   "source": [
    "import numpy\n",
    "def self_join(prev_freq_itemset):\n",
    "    self_join_candidate = []\n",
    "    for i in range(len(prev_freq_itemset['itemset'])):\n",
    "        for j in range((i+1), len(prev_freq_itemset['itemset'])):\n",
    "            itemset_i = prev_freq_itemset['itemset'][i]\n",
    "            itemset_j = prev_freq_itemset['itemset'][j]\n",
    "            if(type(itemset_i) == numpy.int64 and type(itemset_j) == numpy.int64):\n",
    "                itemset_i = {itemset_i}\n",
    "                itemset_j = {itemset_j}\n",
    "            union_candidate = itemset_i.union(itemset_j)\n",
    "\n",
    "            if union_candidate not in self_join_candidate:\n",
    "                self_join_candidate.append(union_candidate)\n",
    "    return self_join_candidate"
   ]
  },
  {
   "cell_type": "code",
   "execution_count": 240,
   "metadata": {
    "scrolled": true
   },
   "outputs": [],
   "source": [
    "candidate2_list = self_join(freq_itemset1)"
   ]
  },
  {
   "cell_type": "code",
   "execution_count": 241,
   "metadata": {},
   "outputs": [
    {
     "data": {
      "text/plain": [
       "[{1, 2},\n",
       " {1, 3},\n",
       " {1, 4},\n",
       " {1, 5},\n",
       " {2, 3},\n",
       " {2, 4},\n",
       " {2, 5},\n",
       " {3, 4},\n",
       " {3, 5},\n",
       " {4, 5}]"
      ]
     },
     "execution_count": 241,
     "metadata": {},
     "output_type": "execute_result"
    }
   ],
   "source": [
    "candidate2_list"
   ]
  },
  {
   "cell_type": "code",
   "execution_count": 242,
   "metadata": {},
   "outputs": [
    {
     "data": {
      "text/plain": [
       "[({1, 2}, 0),\n",
       " ({1, 3}, 0),\n",
       " ({1, 4}, 0),\n",
       " ({1, 5}, 0),\n",
       " ({2, 3}, 0),\n",
       " ({2, 4}, 0),\n",
       " ({2, 5}, 0),\n",
       " ({3, 4}, 0),\n",
       " ({3, 5}, 0),\n",
       " ({4, 5}, 0)]"
      ]
     },
     "execution_count": 242,
     "metadata": {},
     "output_type": "execute_result"
    }
   ],
   "source": [
    "count_candidate2 = []\n",
    "\n",
    "#Set the Initial value of Second Count Candidate (C2)\n",
    "for i in range(len(candidate2_list)):\n",
    "    count_candidate2.append((candidate2_list[i], 0))\n",
    "\n",
    "count_candidate2"
   ]
  },
  {
   "cell_type": "code",
   "execution_count": 243,
   "metadata": {},
   "outputs": [],
   "source": [
    "initial_df_candidate = pd.DataFrame(count_candidate2, columns=['itemset', 'sup'])"
   ]
  },
  {
   "cell_type": "code",
   "execution_count": 244,
   "metadata": {},
   "outputs": [
    {
     "data": {
      "text/html": [
       "<div>\n",
       "<style scoped>\n",
       "    .dataframe tbody tr th:only-of-type {\n",
       "        vertical-align: middle;\n",
       "    }\n",
       "\n",
       "    .dataframe tbody tr th {\n",
       "        vertical-align: top;\n",
       "    }\n",
       "\n",
       "    .dataframe thead th {\n",
       "        text-align: right;\n",
       "    }\n",
       "</style>\n",
       "<table border=\"1\" class=\"dataframe\">\n",
       "  <thead>\n",
       "    <tr style=\"text-align: right;\">\n",
       "      <th></th>\n",
       "      <th>itemset</th>\n",
       "      <th>sup</th>\n",
       "    </tr>\n",
       "  </thead>\n",
       "  <tbody>\n",
       "    <tr>\n",
       "      <th>0</th>\n",
       "      <td>{1, 2}</td>\n",
       "      <td>0</td>\n",
       "    </tr>\n",
       "    <tr>\n",
       "      <th>1</th>\n",
       "      <td>{1, 3}</td>\n",
       "      <td>0</td>\n",
       "    </tr>\n",
       "    <tr>\n",
       "      <th>2</th>\n",
       "      <td>{1, 4}</td>\n",
       "      <td>0</td>\n",
       "    </tr>\n",
       "    <tr>\n",
       "      <th>3</th>\n",
       "      <td>{1, 5}</td>\n",
       "      <td>0</td>\n",
       "    </tr>\n",
       "    <tr>\n",
       "      <th>4</th>\n",
       "      <td>{2, 3}</td>\n",
       "      <td>0</td>\n",
       "    </tr>\n",
       "    <tr>\n",
       "      <th>5</th>\n",
       "      <td>{2, 4}</td>\n",
       "      <td>0</td>\n",
       "    </tr>\n",
       "    <tr>\n",
       "      <th>6</th>\n",
       "      <td>{2, 5}</td>\n",
       "      <td>0</td>\n",
       "    </tr>\n",
       "    <tr>\n",
       "      <th>7</th>\n",
       "      <td>{3, 4}</td>\n",
       "      <td>0</td>\n",
       "    </tr>\n",
       "    <tr>\n",
       "      <th>8</th>\n",
       "      <td>{3, 5}</td>\n",
       "      <td>0</td>\n",
       "    </tr>\n",
       "    <tr>\n",
       "      <th>9</th>\n",
       "      <td>{4, 5}</td>\n",
       "      <td>0</td>\n",
       "    </tr>\n",
       "  </tbody>\n",
       "</table>\n",
       "</div>"
      ],
      "text/plain": [
       "  itemset  sup\n",
       "0  {1, 2}    0\n",
       "1  {1, 3}    0\n",
       "2  {1, 4}    0\n",
       "3  {1, 5}    0\n",
       "4  {2, 3}    0\n",
       "5  {2, 4}    0\n",
       "6  {2, 5}    0\n",
       "7  {3, 4}    0\n",
       "8  {3, 5}    0\n",
       "9  {4, 5}    0"
      ]
     },
     "execution_count": 244,
     "metadata": {},
     "output_type": "execute_result"
    }
   ],
   "source": [
    "initial_df_candidate"
   ]
  },
  {
   "cell_type": "code",
   "execution_count": 245,
   "metadata": {},
   "outputs": [
    {
     "data": {
      "text/html": [
       "<div>\n",
       "<style scoped>\n",
       "    .dataframe tbody tr th:only-of-type {\n",
       "        vertical-align: middle;\n",
       "    }\n",
       "\n",
       "    .dataframe tbody tr th {\n",
       "        vertical-align: top;\n",
       "    }\n",
       "\n",
       "    .dataframe thead th {\n",
       "        text-align: right;\n",
       "    }\n",
       "</style>\n",
       "<table border=\"1\" class=\"dataframe\">\n",
       "  <thead>\n",
       "    <tr style=\"text-align: right;\">\n",
       "      <th></th>\n",
       "      <th>items</th>\n",
       "    </tr>\n",
       "  </thead>\n",
       "  <tbody>\n",
       "    <tr>\n",
       "      <th>0</th>\n",
       "      <td>[1, 2]</td>\n",
       "    </tr>\n",
       "    <tr>\n",
       "      <th>1</th>\n",
       "      <td>[1, 2, 3]</td>\n",
       "    </tr>\n",
       "    <tr>\n",
       "      <th>2</th>\n",
       "      <td>[1, 2, 3, 4]</td>\n",
       "    </tr>\n",
       "    <tr>\n",
       "      <th>3</th>\n",
       "      <td>[1, 2, 5]</td>\n",
       "    </tr>\n",
       "    <tr>\n",
       "      <th>4</th>\n",
       "      <td>[1, 3, 5]</td>\n",
       "    </tr>\n",
       "    <tr>\n",
       "      <th>5</th>\n",
       "      <td>[4, 5]</td>\n",
       "    </tr>\n",
       "    <tr>\n",
       "      <th>6</th>\n",
       "      <td>[1, 2, 3, 5]</td>\n",
       "    </tr>\n",
       "    <tr>\n",
       "      <th>7</th>\n",
       "      <td>[1, 3]</td>\n",
       "    </tr>\n",
       "    <tr>\n",
       "      <th>8</th>\n",
       "      <td>[1, 4]</td>\n",
       "    </tr>\n",
       "    <tr>\n",
       "      <th>9</th>\n",
       "      <td>[2, 3, 4]</td>\n",
       "    </tr>\n",
       "  </tbody>\n",
       "</table>\n",
       "</div>"
      ],
      "text/plain": [
       "          items\n",
       "0        [1, 2]\n",
       "1     [1, 2, 3]\n",
       "2  [1, 2, 3, 4]\n",
       "3     [1, 2, 5]\n",
       "4     [1, 3, 5]\n",
       "5        [4, 5]\n",
       "6  [1, 2, 3, 5]\n",
       "7        [1, 3]\n",
       "8        [1, 4]\n",
       "9     [2, 3, 4]"
      ]
     },
     "execution_count": 245,
     "metadata": {},
     "output_type": "execute_result"
    }
   ],
   "source": [
    "#Let's see what's inside df\n",
    "df"
   ]
  },
  {
   "cell_type": "code",
   "execution_count": 246,
   "metadata": {},
   "outputs": [],
   "source": [
    "#Let's add it with 1 whenever we found every candidate is a subset from Database D\n",
    "\n",
    "\n",
    "def count_support(database_dataframe, prev_candidate_list):\n",
    "    initial_df_candidate['sup'] = 0 #set All value into 0 only for initial value for consistency value when running this cell everytime.\n",
    "    count_prev_candidate = []\n",
    "\n",
    "    #Set the Initial value of Previous Candidate\n",
    "    for i in range(len(prev_candidate_list)):\n",
    "        count_prev_candidate.append((prev_candidate_list[i], 0))\n",
    "    \n",
    "    df_candidate = pd.DataFrame(count_prev_candidate, columns=['itemset', 'sup'])\n",
    "    print('Database D dataframe\\n', database_dataframe)\n",
    "    print('(Initial) Dataframe from Candidate with All zeros sup\\n', df_candidate)\n",
    "    \n",
    "    for i in range(len(database_dataframe)):\n",
    "        for j in range(len(count_prev_candidate)):\n",
    "            #using issubset() function to check whether every itemset is a subset of Database or not\n",
    "            if (df_candidate['itemset'][j]).issubset(set(database_dataframe['items'][i])): \n",
    "                df_candidate.loc[j, 'sup'] += 1\n",
    "            \n",
    "    return df_candidate"
   ]
  },
  {
   "cell_type": "code",
   "execution_count": 247,
   "metadata": {},
   "outputs": [
    {
     "name": "stdout",
     "output_type": "stream",
     "text": [
      "Database D dataframe\n",
      "           items\n",
      "0        [1, 2]\n",
      "1     [1, 2, 3]\n",
      "2  [1, 2, 3, 4]\n",
      "3     [1, 2, 5]\n",
      "4     [1, 3, 5]\n",
      "5        [4, 5]\n",
      "6  [1, 2, 3, 5]\n",
      "7        [1, 3]\n",
      "8        [1, 4]\n",
      "9     [2, 3, 4]\n",
      "(Initial) Dataframe from Candidate with All zeros sup\n",
      "   itemset  sup\n",
      "0  {1, 2}    0\n",
      "1  {1, 3}    0\n",
      "2  {1, 4}    0\n",
      "3  {1, 5}    0\n",
      "4  {2, 3}    0\n",
      "5  {2, 4}    0\n",
      "6  {2, 5}    0\n",
      "7  {3, 4}    0\n",
      "8  {3, 5}    0\n",
      "9  {4, 5}    0\n"
     ]
    }
   ],
   "source": [
    "count_candidate2_df = count_support(df, candidate2_list)"
   ]
  },
  {
   "cell_type": "code",
   "execution_count": 248,
   "metadata": {},
   "outputs": [
    {
     "data": {
      "text/html": [
       "<div>\n",
       "<style scoped>\n",
       "    .dataframe tbody tr th:only-of-type {\n",
       "        vertical-align: middle;\n",
       "    }\n",
       "\n",
       "    .dataframe tbody tr th {\n",
       "        vertical-align: top;\n",
       "    }\n",
       "\n",
       "    .dataframe thead th {\n",
       "        text-align: right;\n",
       "    }\n",
       "</style>\n",
       "<table border=\"1\" class=\"dataframe\">\n",
       "  <thead>\n",
       "    <tr style=\"text-align: right;\">\n",
       "      <th></th>\n",
       "      <th>itemset</th>\n",
       "      <th>sup</th>\n",
       "    </tr>\n",
       "  </thead>\n",
       "  <tbody>\n",
       "    <tr>\n",
       "      <th>0</th>\n",
       "      <td>{1, 2}</td>\n",
       "      <td>5</td>\n",
       "    </tr>\n",
       "    <tr>\n",
       "      <th>1</th>\n",
       "      <td>{1, 3}</td>\n",
       "      <td>5</td>\n",
       "    </tr>\n",
       "    <tr>\n",
       "      <th>2</th>\n",
       "      <td>{1, 4}</td>\n",
       "      <td>2</td>\n",
       "    </tr>\n",
       "    <tr>\n",
       "      <th>3</th>\n",
       "      <td>{1, 5}</td>\n",
       "      <td>3</td>\n",
       "    </tr>\n",
       "    <tr>\n",
       "      <th>4</th>\n",
       "      <td>{2, 3}</td>\n",
       "      <td>4</td>\n",
       "    </tr>\n",
       "    <tr>\n",
       "      <th>5</th>\n",
       "      <td>{2, 4}</td>\n",
       "      <td>2</td>\n",
       "    </tr>\n",
       "    <tr>\n",
       "      <th>6</th>\n",
       "      <td>{2, 5}</td>\n",
       "      <td>2</td>\n",
       "    </tr>\n",
       "    <tr>\n",
       "      <th>7</th>\n",
       "      <td>{3, 4}</td>\n",
       "      <td>2</td>\n",
       "    </tr>\n",
       "    <tr>\n",
       "      <th>8</th>\n",
       "      <td>{3, 5}</td>\n",
       "      <td>2</td>\n",
       "    </tr>\n",
       "    <tr>\n",
       "      <th>9</th>\n",
       "      <td>{4, 5}</td>\n",
       "      <td>1</td>\n",
       "    </tr>\n",
       "  </tbody>\n",
       "</table>\n",
       "</div>"
      ],
      "text/plain": [
       "  itemset  sup\n",
       "0  {1, 2}    5\n",
       "1  {1, 3}    5\n",
       "2  {1, 4}    2\n",
       "3  {1, 5}    3\n",
       "4  {2, 3}    4\n",
       "5  {2, 4}    2\n",
       "6  {2, 5}    2\n",
       "7  {3, 4}    2\n",
       "8  {3, 5}    2\n",
       "9  {4, 5}    1"
      ]
     },
     "execution_count": 248,
     "metadata": {},
     "output_type": "execute_result"
    }
   ],
   "source": [
    "count_candidate2_df"
   ]
  },
  {
   "cell_type": "markdown",
   "metadata": {},
   "source": []
  },
  {
   "cell_type": "markdown",
   "metadata": {},
   "source": [
    "# Creating Second Frequent Itemset (L2)"
   ]
  },
  {
   "cell_type": "code",
   "execution_count": 249,
   "metadata": {},
   "outputs": [],
   "source": [
    "#Filter the itemset based on minimum support (occurences of items)\n",
    "freq_itemset2 = filter_sup(count_candidate2_df)"
   ]
  },
  {
   "cell_type": "code",
   "execution_count": 250,
   "metadata": {},
   "outputs": [
    {
     "data": {
      "text/html": [
       "<div>\n",
       "<style scoped>\n",
       "    .dataframe tbody tr th:only-of-type {\n",
       "        vertical-align: middle;\n",
       "    }\n",
       "\n",
       "    .dataframe tbody tr th {\n",
       "        vertical-align: top;\n",
       "    }\n",
       "\n",
       "    .dataframe thead th {\n",
       "        text-align: right;\n",
       "    }\n",
       "</style>\n",
       "<table border=\"1\" class=\"dataframe\">\n",
       "  <thead>\n",
       "    <tr style=\"text-align: right;\">\n",
       "      <th></th>\n",
       "      <th>itemset</th>\n",
       "      <th>sup</th>\n",
       "    </tr>\n",
       "  </thead>\n",
       "  <tbody>\n",
       "    <tr>\n",
       "      <th>0</th>\n",
       "      <td>{1, 2}</td>\n",
       "      <td>5</td>\n",
       "    </tr>\n",
       "    <tr>\n",
       "      <th>1</th>\n",
       "      <td>{1, 3}</td>\n",
       "      <td>5</td>\n",
       "    </tr>\n",
       "    <tr>\n",
       "      <th>3</th>\n",
       "      <td>{1, 5}</td>\n",
       "      <td>3</td>\n",
       "    </tr>\n",
       "    <tr>\n",
       "      <th>4</th>\n",
       "      <td>{2, 3}</td>\n",
       "      <td>4</td>\n",
       "    </tr>\n",
       "  </tbody>\n",
       "</table>\n",
       "</div>"
      ],
      "text/plain": [
       "  itemset  sup\n",
       "0  {1, 2}    5\n",
       "1  {1, 3}    5\n",
       "3  {1, 5}    3\n",
       "4  {2, 3}    4"
      ]
     },
     "execution_count": 250,
     "metadata": {},
     "output_type": "execute_result"
    }
   ],
   "source": [
    "freq_itemset2"
   ]
  },
  {
   "cell_type": "code",
   "execution_count": 251,
   "metadata": {},
   "outputs": [],
   "source": [
    "freq_itemset2_reset = freq_itemset2.reset_index(drop=True)"
   ]
  },
  {
   "cell_type": "code",
   "execution_count": 252,
   "metadata": {},
   "outputs": [
    {
     "data": {
      "text/html": [
       "<div>\n",
       "<style scoped>\n",
       "    .dataframe tbody tr th:only-of-type {\n",
       "        vertical-align: middle;\n",
       "    }\n",
       "\n",
       "    .dataframe tbody tr th {\n",
       "        vertical-align: top;\n",
       "    }\n",
       "\n",
       "    .dataframe thead th {\n",
       "        text-align: right;\n",
       "    }\n",
       "</style>\n",
       "<table border=\"1\" class=\"dataframe\">\n",
       "  <thead>\n",
       "    <tr style=\"text-align: right;\">\n",
       "      <th></th>\n",
       "      <th>itemset</th>\n",
       "      <th>sup</th>\n",
       "    </tr>\n",
       "  </thead>\n",
       "  <tbody>\n",
       "    <tr>\n",
       "      <th>0</th>\n",
       "      <td>{1, 2}</td>\n",
       "      <td>5</td>\n",
       "    </tr>\n",
       "    <tr>\n",
       "      <th>1</th>\n",
       "      <td>{1, 3}</td>\n",
       "      <td>5</td>\n",
       "    </tr>\n",
       "    <tr>\n",
       "      <th>2</th>\n",
       "      <td>{1, 5}</td>\n",
       "      <td>3</td>\n",
       "    </tr>\n",
       "    <tr>\n",
       "      <th>3</th>\n",
       "      <td>{2, 3}</td>\n",
       "      <td>4</td>\n",
       "    </tr>\n",
       "  </tbody>\n",
       "</table>\n",
       "</div>"
      ],
      "text/plain": [
       "  itemset  sup\n",
       "0  {1, 2}    5\n",
       "1  {1, 3}    5\n",
       "2  {1, 5}    3\n",
       "3  {2, 3}    4"
      ]
     },
     "execution_count": 252,
     "metadata": {},
     "output_type": "execute_result"
    }
   ],
   "source": [
    "#We need to reset the index, because need to access the index later.\n",
    "freq_itemset2_reset"
   ]
  },
  {
   "cell_type": "markdown",
   "metadata": {},
   "source": [
    "## Creating the Third Candidate (C3) - Using the Candidate Forming Technique\n",
    "* Self join\n",
    "* Pruning"
   ]
  },
  {
   "cell_type": "markdown",
   "metadata": {},
   "source": [
    "## Self Join"
   ]
  },
  {
   "cell_type": "code",
   "execution_count": 253,
   "metadata": {},
   "outputs": [
    {
     "name": "stdout",
     "output_type": "stream",
     "text": [
      "  itemset  sup\n",
      "0  {1, 2}    5\n",
      "1  {1, 3}    5\n",
      "2  {1, 5}    3\n",
      "3  {2, 3}    4\n",
      "self join result\n",
      "[{1, 2, 3}, {1, 2, 5}, {1, 3, 5}, {1, 2, 3, 5}]\n"
     ]
    }
   ],
   "source": [
    "print(freq_itemset2_reset)\n",
    "self_join_result = self_join(freq_itemset2_reset)\n",
    "print('self join result')\n",
    "print(self_join_result)"
   ]
  },
  {
   "cell_type": "markdown",
   "metadata": {},
   "source": [
    "## Pruning"
   ]
  },
  {
   "cell_type": "code",
   "execution_count": 254,
   "metadata": {},
   "outputs": [],
   "source": [
    "def get_subset(candidate):\n",
    "    temp = []\n",
    "    final = []\n",
    "    for i in range(len(candidate)):\n",
    "        for j in range(len(candidate)):\n",
    "            if i != j:\n",
    "                temp.append(candidate[j])\n",
    "        temp_set = set(temp)\n",
    "        final.append(temp_set)\n",
    "        temp.clear()\n",
    "    print('Subset from {} : {}'.format(candidate, final))\n",
    "    return final\n",
    "\n",
    "def pruning(candidate_set, prev_freq_itemset):\n",
    "    print('Candidate set', candidate_set)\n",
    "    temp = []\n",
    "    \n",
    "    for idx, value in enumerate(candidate_set):\n",
    "        list_candidate = list(value)\n",
    "        temp_candidate = (get_subset(list_candidate))\n",
    "        \n",
    "        for temp_item in temp_candidate:\n",
    "            print('Temp item', temp_item)\n",
    "            check = temp_item == prev_freq_itemset['itemset']\n",
    "            print('\\nCheck candidate from Previous Frequent Itemset\\n', check)\n",
    "            \n",
    "            if any(check) == False:\n",
    "                print(any(check))\n",
    "                print('Val', value)\n",
    "            else:\n",
    "                print('\\nAll of {} subset contained in \\n{}'.format(candidate_set, prev_freq_itemset))\n",
    "                if value not in temp:\n",
    "                    temp.append(value)\n",
    "                \n",
    "    return temp"
   ]
  },
  {
   "cell_type": "code",
   "execution_count": 255,
   "metadata": {},
   "outputs": [
    {
     "data": {
      "text/html": [
       "<div>\n",
       "<style scoped>\n",
       "    .dataframe tbody tr th:only-of-type {\n",
       "        vertical-align: middle;\n",
       "    }\n",
       "\n",
       "    .dataframe tbody tr th {\n",
       "        vertical-align: top;\n",
       "    }\n",
       "\n",
       "    .dataframe thead th {\n",
       "        text-align: right;\n",
       "    }\n",
       "</style>\n",
       "<table border=\"1\" class=\"dataframe\">\n",
       "  <thead>\n",
       "    <tr style=\"text-align: right;\">\n",
       "      <th></th>\n",
       "      <th>itemset</th>\n",
       "      <th>sup</th>\n",
       "    </tr>\n",
       "  </thead>\n",
       "  <tbody>\n",
       "    <tr>\n",
       "      <th>0</th>\n",
       "      <td>{1, 2}</td>\n",
       "      <td>5</td>\n",
       "    </tr>\n",
       "    <tr>\n",
       "      <th>1</th>\n",
       "      <td>{1, 3}</td>\n",
       "      <td>5</td>\n",
       "    </tr>\n",
       "    <tr>\n",
       "      <th>2</th>\n",
       "      <td>{1, 5}</td>\n",
       "      <td>3</td>\n",
       "    </tr>\n",
       "    <tr>\n",
       "      <th>3</th>\n",
       "      <td>{2, 3}</td>\n",
       "      <td>4</td>\n",
       "    </tr>\n",
       "  </tbody>\n",
       "</table>\n",
       "</div>"
      ],
      "text/plain": [
       "  itemset  sup\n",
       "0  {1, 2}    5\n",
       "1  {1, 3}    5\n",
       "2  {1, 5}    3\n",
       "3  {2, 3}    4"
      ]
     },
     "execution_count": 255,
     "metadata": {},
     "output_type": "execute_result"
    }
   ],
   "source": [
    "freq_itemset2_reset"
   ]
  },
  {
   "cell_type": "code",
   "execution_count": 256,
   "metadata": {},
   "outputs": [],
   "source": [
    "subset = [{2, 3}, {1, 3}, {1, 2}]"
   ]
  },
  {
   "cell_type": "code",
   "execution_count": 257,
   "metadata": {},
   "outputs": [
    {
     "data": {
      "text/plain": [
       "[{1, 2, 3}, {1, 2, 5}, {1, 3, 5}, {1, 2, 3, 5}]"
      ]
     },
     "execution_count": 257,
     "metadata": {},
     "output_type": "execute_result"
    }
   ],
   "source": [
    "self_join_result"
   ]
  },
  {
   "cell_type": "code",
   "execution_count": 258,
   "metadata": {},
   "outputs": [
    {
     "name": "stdout",
     "output_type": "stream",
     "text": [
      "Subset from [1, 2, 3] : [{2, 3}, {1, 3}, {1, 2}]\n",
      "Subset from [1, 2, 5] : [{2, 5}, {1, 5}, {1, 2}]\n",
      "Subset from [1, 3, 5] : [{3, 5}, {1, 5}, {1, 3}]\n",
      "Subset from [1, 2, 3, 5] : [{2, 3, 5}, {1, 3, 5}, {1, 2, 5}, {1, 2, 3}]\n"
     ]
    }
   ],
   "source": [
    "for i in range(len(self_join_result)):\n",
    "    get_subset(list(self_join_result[i]))"
   ]
  },
  {
   "cell_type": "code",
   "execution_count": 259,
   "metadata": {},
   "outputs": [
    {
     "data": {
      "text/html": [
       "<div>\n",
       "<style scoped>\n",
       "    .dataframe tbody tr th:only-of-type {\n",
       "        vertical-align: middle;\n",
       "    }\n",
       "\n",
       "    .dataframe tbody tr th {\n",
       "        vertical-align: top;\n",
       "    }\n",
       "\n",
       "    .dataframe thead th {\n",
       "        text-align: right;\n",
       "    }\n",
       "</style>\n",
       "<table border=\"1\" class=\"dataframe\">\n",
       "  <thead>\n",
       "    <tr style=\"text-align: right;\">\n",
       "      <th></th>\n",
       "      <th>itemset</th>\n",
       "      <th>sup</th>\n",
       "    </tr>\n",
       "  </thead>\n",
       "  <tbody>\n",
       "    <tr>\n",
       "      <th>0</th>\n",
       "      <td>{1, 2}</td>\n",
       "      <td>5</td>\n",
       "    </tr>\n",
       "    <tr>\n",
       "      <th>1</th>\n",
       "      <td>{1, 3}</td>\n",
       "      <td>5</td>\n",
       "    </tr>\n",
       "    <tr>\n",
       "      <th>2</th>\n",
       "      <td>{1, 5}</td>\n",
       "      <td>3</td>\n",
       "    </tr>\n",
       "    <tr>\n",
       "      <th>3</th>\n",
       "      <td>{2, 3}</td>\n",
       "      <td>4</td>\n",
       "    </tr>\n",
       "  </tbody>\n",
       "</table>\n",
       "</div>"
      ],
      "text/plain": [
       "  itemset  sup\n",
       "0  {1, 2}    5\n",
       "1  {1, 3}    5\n",
       "2  {1, 5}    3\n",
       "3  {2, 3}    4"
      ]
     },
     "execution_count": 259,
     "metadata": {},
     "output_type": "execute_result"
    }
   ],
   "source": [
    "freq_itemset2_reset"
   ]
  },
  {
   "cell_type": "code",
   "execution_count": 260,
   "metadata": {},
   "outputs": [
    {
     "name": "stdout",
     "output_type": "stream",
     "text": [
      "{2, 3}\n",
      "Check True\n",
      "{1, 3}\n",
      "Check True\n",
      "{1, 2}\n",
      "Check True\n"
     ]
    }
   ],
   "source": [
    "for item in subset:\n",
    "    print(item)\n",
    "    check = item == freq_itemset2_reset['itemset']\n",
    "    print('Check', any(check))"
   ]
  },
  {
   "cell_type": "code",
   "execution_count": 261,
   "metadata": {},
   "outputs": [
    {
     "data": {
      "text/plain": [
       "[{1, 2, 3}, {1, 2, 5}, {1, 3, 5}, {1, 2, 3, 5}]"
      ]
     },
     "execution_count": 261,
     "metadata": {},
     "output_type": "execute_result"
    }
   ],
   "source": [
    "self_join_result"
   ]
  },
  {
   "cell_type": "code",
   "execution_count": 262,
   "metadata": {
    "scrolled": false
   },
   "outputs": [
    {
     "name": "stdout",
     "output_type": "stream",
     "text": [
      "Candidate set [{1, 2, 3}, {1, 2, 5}, {1, 3, 5}, {1, 2, 3, 5}]\n",
      "Subset from [1, 2, 3] : [{2, 3}, {1, 3}, {1, 2}]\n",
      "Temp item {2, 3}\n",
      "\n",
      "Check candidate from Previous Frequent Itemset\n",
      " 0    False\n",
      "1    False\n",
      "2    False\n",
      "3     True\n",
      "Name: itemset, dtype: bool\n",
      "\n",
      "All of [{1, 2, 3}, {1, 2, 5}, {1, 3, 5}, {1, 2, 3, 5}] subset contained in \n",
      "  itemset  sup\n",
      "0  {1, 2}    5\n",
      "1  {1, 3}    5\n",
      "2  {1, 5}    3\n",
      "3  {2, 3}    4\n",
      "Temp item {1, 3}\n",
      "\n",
      "Check candidate from Previous Frequent Itemset\n",
      " 0    False\n",
      "1     True\n",
      "2    False\n",
      "3    False\n",
      "Name: itemset, dtype: bool\n",
      "\n",
      "All of [{1, 2, 3}, {1, 2, 5}, {1, 3, 5}, {1, 2, 3, 5}] subset contained in \n",
      "  itemset  sup\n",
      "0  {1, 2}    5\n",
      "1  {1, 3}    5\n",
      "2  {1, 5}    3\n",
      "3  {2, 3}    4\n",
      "Temp item {1, 2}\n",
      "\n",
      "Check candidate from Previous Frequent Itemset\n",
      " 0     True\n",
      "1    False\n",
      "2    False\n",
      "3    False\n",
      "Name: itemset, dtype: bool\n",
      "\n",
      "All of [{1, 2, 3}, {1, 2, 5}, {1, 3, 5}, {1, 2, 3, 5}] subset contained in \n",
      "  itemset  sup\n",
      "0  {1, 2}    5\n",
      "1  {1, 3}    5\n",
      "2  {1, 5}    3\n",
      "3  {2, 3}    4\n",
      "Subset from [1, 2, 5] : [{2, 5}, {1, 5}, {1, 2}]\n",
      "Temp item {2, 5}\n",
      "\n",
      "Check candidate from Previous Frequent Itemset\n",
      " 0    False\n",
      "1    False\n",
      "2    False\n",
      "3    False\n",
      "Name: itemset, dtype: bool\n",
      "False\n",
      "Val {1, 2, 5}\n",
      "Temp item {1, 5}\n",
      "\n",
      "Check candidate from Previous Frequent Itemset\n",
      " 0    False\n",
      "1    False\n",
      "2     True\n",
      "3    False\n",
      "Name: itemset, dtype: bool\n",
      "\n",
      "All of [{1, 2, 3}, {1, 2, 5}, {1, 3, 5}, {1, 2, 3, 5}] subset contained in \n",
      "  itemset  sup\n",
      "0  {1, 2}    5\n",
      "1  {1, 3}    5\n",
      "2  {1, 5}    3\n",
      "3  {2, 3}    4\n",
      "Temp item {1, 2}\n",
      "\n",
      "Check candidate from Previous Frequent Itemset\n",
      " 0     True\n",
      "1    False\n",
      "2    False\n",
      "3    False\n",
      "Name: itemset, dtype: bool\n",
      "\n",
      "All of [{1, 2, 3}, {1, 2, 5}, {1, 3, 5}, {1, 2, 3, 5}] subset contained in \n",
      "  itemset  sup\n",
      "0  {1, 2}    5\n",
      "1  {1, 3}    5\n",
      "2  {1, 5}    3\n",
      "3  {2, 3}    4\n",
      "Subset from [1, 3, 5] : [{3, 5}, {1, 5}, {1, 3}]\n",
      "Temp item {3, 5}\n",
      "\n",
      "Check candidate from Previous Frequent Itemset\n",
      " 0    False\n",
      "1    False\n",
      "2    False\n",
      "3    False\n",
      "Name: itemset, dtype: bool\n",
      "False\n",
      "Val {1, 3, 5}\n",
      "Temp item {1, 5}\n",
      "\n",
      "Check candidate from Previous Frequent Itemset\n",
      " 0    False\n",
      "1    False\n",
      "2     True\n",
      "3    False\n",
      "Name: itemset, dtype: bool\n",
      "\n",
      "All of [{1, 2, 3}, {1, 2, 5}, {1, 3, 5}, {1, 2, 3, 5}] subset contained in \n",
      "  itemset  sup\n",
      "0  {1, 2}    5\n",
      "1  {1, 3}    5\n",
      "2  {1, 5}    3\n",
      "3  {2, 3}    4\n",
      "Temp item {1, 3}\n",
      "\n",
      "Check candidate from Previous Frequent Itemset\n",
      " 0    False\n",
      "1     True\n",
      "2    False\n",
      "3    False\n",
      "Name: itemset, dtype: bool\n",
      "\n",
      "All of [{1, 2, 3}, {1, 2, 5}, {1, 3, 5}, {1, 2, 3, 5}] subset contained in \n",
      "  itemset  sup\n",
      "0  {1, 2}    5\n",
      "1  {1, 3}    5\n",
      "2  {1, 5}    3\n",
      "3  {2, 3}    4\n",
      "Subset from [1, 2, 3, 5] : [{2, 3, 5}, {1, 3, 5}, {1, 2, 5}, {1, 2, 3}]\n",
      "Temp item {2, 3, 5}\n",
      "\n",
      "Check candidate from Previous Frequent Itemset\n",
      " 0    False\n",
      "1    False\n",
      "2    False\n",
      "3    False\n",
      "Name: itemset, dtype: bool\n",
      "False\n",
      "Val {1, 2, 3, 5}\n",
      "Temp item {1, 3, 5}\n",
      "\n",
      "Check candidate from Previous Frequent Itemset\n",
      " 0    False\n",
      "1    False\n",
      "2    False\n",
      "3    False\n",
      "Name: itemset, dtype: bool\n",
      "False\n",
      "Val {1, 2, 3, 5}\n",
      "Temp item {1, 2, 5}\n",
      "\n",
      "Check candidate from Previous Frequent Itemset\n",
      " 0    False\n",
      "1    False\n",
      "2    False\n",
      "3    False\n",
      "Name: itemset, dtype: bool\n",
      "False\n",
      "Val {1, 2, 3, 5}\n",
      "Temp item {1, 2, 3}\n",
      "\n",
      "Check candidate from Previous Frequent Itemset\n",
      " 0    False\n",
      "1    False\n",
      "2    False\n",
      "3    False\n",
      "Name: itemset, dtype: bool\n",
      "False\n",
      "Val {1, 2, 3, 5}\n"
     ]
    }
   ],
   "source": [
    "candidate3_list = pruning(self_join_result, freq_itemset2_reset)"
   ]
  },
  {
   "cell_type": "code",
   "execution_count": 263,
   "metadata": {},
   "outputs": [
    {
     "data": {
      "text/plain": [
       "[{1, 2, 3}, {1, 2, 5}, {1, 3, 5}]"
      ]
     },
     "execution_count": 263,
     "metadata": {},
     "output_type": "execute_result"
    }
   ],
   "source": [
    "candidate3_list"
   ]
  },
  {
   "cell_type": "markdown",
   "metadata": {},
   "source": [
    "<h2>Creating the Third Frequent Itemset (L3)</h2>"
   ]
  },
  {
   "cell_type": "code",
   "execution_count": 264,
   "metadata": {},
   "outputs": [
    {
     "data": {
      "text/html": [
       "<div>\n",
       "<style scoped>\n",
       "    .dataframe tbody tr th:only-of-type {\n",
       "        vertical-align: middle;\n",
       "    }\n",
       "\n",
       "    .dataframe tbody tr th {\n",
       "        vertical-align: top;\n",
       "    }\n",
       "\n",
       "    .dataframe thead th {\n",
       "        text-align: right;\n",
       "    }\n",
       "</style>\n",
       "<table border=\"1\" class=\"dataframe\">\n",
       "  <thead>\n",
       "    <tr style=\"text-align: right;\">\n",
       "      <th></th>\n",
       "      <th>items</th>\n",
       "    </tr>\n",
       "  </thead>\n",
       "  <tbody>\n",
       "    <tr>\n",
       "      <th>0</th>\n",
       "      <td>[1, 2]</td>\n",
       "    </tr>\n",
       "    <tr>\n",
       "      <th>1</th>\n",
       "      <td>[1, 2, 3]</td>\n",
       "    </tr>\n",
       "    <tr>\n",
       "      <th>2</th>\n",
       "      <td>[1, 2, 3, 4]</td>\n",
       "    </tr>\n",
       "    <tr>\n",
       "      <th>3</th>\n",
       "      <td>[1, 2, 5]</td>\n",
       "    </tr>\n",
       "    <tr>\n",
       "      <th>4</th>\n",
       "      <td>[1, 3, 5]</td>\n",
       "    </tr>\n",
       "    <tr>\n",
       "      <th>5</th>\n",
       "      <td>[4, 5]</td>\n",
       "    </tr>\n",
       "    <tr>\n",
       "      <th>6</th>\n",
       "      <td>[1, 2, 3, 5]</td>\n",
       "    </tr>\n",
       "    <tr>\n",
       "      <th>7</th>\n",
       "      <td>[1, 3]</td>\n",
       "    </tr>\n",
       "    <tr>\n",
       "      <th>8</th>\n",
       "      <td>[1, 4]</td>\n",
       "    </tr>\n",
       "    <tr>\n",
       "      <th>9</th>\n",
       "      <td>[2, 3, 4]</td>\n",
       "    </tr>\n",
       "  </tbody>\n",
       "</table>\n",
       "</div>"
      ],
      "text/plain": [
       "          items\n",
       "0        [1, 2]\n",
       "1     [1, 2, 3]\n",
       "2  [1, 2, 3, 4]\n",
       "3     [1, 2, 5]\n",
       "4     [1, 3, 5]\n",
       "5        [4, 5]\n",
       "6  [1, 2, 3, 5]\n",
       "7        [1, 3]\n",
       "8        [1, 4]\n",
       "9     [2, 3, 4]"
      ]
     },
     "execution_count": 264,
     "metadata": {},
     "output_type": "execute_result"
    }
   ],
   "source": [
    "#Let's see the database again\n",
    "df"
   ]
  },
  {
   "cell_type": "code",
   "execution_count": 265,
   "metadata": {},
   "outputs": [
    {
     "data": {
      "text/plain": [
       "[{1, 2, 3}, {1, 2, 5}, {1, 3, 5}]"
      ]
     },
     "execution_count": 265,
     "metadata": {},
     "output_type": "execute_result"
    }
   ],
   "source": [
    "#Then check the newest candidate value\n",
    "candidate3_list"
   ]
  },
  {
   "cell_type": "code",
   "execution_count": 266,
   "metadata": {
    "scrolled": false
   },
   "outputs": [
    {
     "name": "stdout",
     "output_type": "stream",
     "text": [
      "Database D dataframe\n",
      "           items\n",
      "0        [1, 2]\n",
      "1     [1, 2, 3]\n",
      "2  [1, 2, 3, 4]\n",
      "3     [1, 2, 5]\n",
      "4     [1, 3, 5]\n",
      "5        [4, 5]\n",
      "6  [1, 2, 3, 5]\n",
      "7        [1, 3]\n",
      "8        [1, 4]\n",
      "9     [2, 3, 4]\n",
      "(Initial) Dataframe from Candidate with All zeros sup\n",
      "      itemset  sup\n",
      "0  {1, 2, 3}    0\n",
      "1  {1, 2, 5}    0\n",
      "2  {1, 3, 5}    0\n"
     ]
    }
   ],
   "source": [
    "count_candidate3_df = count_support(df, candidate3_list)"
   ]
  },
  {
   "cell_type": "code",
   "execution_count": 267,
   "metadata": {},
   "outputs": [
    {
     "data": {
      "text/html": [
       "<div>\n",
       "<style scoped>\n",
       "    .dataframe tbody tr th:only-of-type {\n",
       "        vertical-align: middle;\n",
       "    }\n",
       "\n",
       "    .dataframe tbody tr th {\n",
       "        vertical-align: top;\n",
       "    }\n",
       "\n",
       "    .dataframe thead th {\n",
       "        text-align: right;\n",
       "    }\n",
       "</style>\n",
       "<table border=\"1\" class=\"dataframe\">\n",
       "  <thead>\n",
       "    <tr style=\"text-align: right;\">\n",
       "      <th></th>\n",
       "      <th>itemset</th>\n",
       "      <th>sup</th>\n",
       "    </tr>\n",
       "  </thead>\n",
       "  <tbody>\n",
       "    <tr>\n",
       "      <th>0</th>\n",
       "      <td>{1, 2, 3}</td>\n",
       "      <td>3</td>\n",
       "    </tr>\n",
       "    <tr>\n",
       "      <th>1</th>\n",
       "      <td>{1, 2, 5}</td>\n",
       "      <td>2</td>\n",
       "    </tr>\n",
       "    <tr>\n",
       "      <th>2</th>\n",
       "      <td>{1, 3, 5}</td>\n",
       "      <td>2</td>\n",
       "    </tr>\n",
       "  </tbody>\n",
       "</table>\n",
       "</div>"
      ],
      "text/plain": [
       "     itemset  sup\n",
       "0  {1, 2, 3}    3\n",
       "1  {1, 2, 5}    2\n",
       "2  {1, 3, 5}    2"
      ]
     },
     "execution_count": 267,
     "metadata": {},
     "output_type": "execute_result"
    }
   ],
   "source": [
    "count_candidate3_df"
   ]
  },
  {
   "cell_type": "code",
   "execution_count": 268,
   "metadata": {},
   "outputs": [],
   "source": [
    "freq_itemset3 = filter_sup(count_candidate3_df)"
   ]
  },
  {
   "cell_type": "code",
   "execution_count": 269,
   "metadata": {
    "scrolled": true
   },
   "outputs": [
    {
     "data": {
      "text/html": [
       "<div>\n",
       "<style scoped>\n",
       "    .dataframe tbody tr th:only-of-type {\n",
       "        vertical-align: middle;\n",
       "    }\n",
       "\n",
       "    .dataframe tbody tr th {\n",
       "        vertical-align: top;\n",
       "    }\n",
       "\n",
       "    .dataframe thead th {\n",
       "        text-align: right;\n",
       "    }\n",
       "</style>\n",
       "<table border=\"1\" class=\"dataframe\">\n",
       "  <thead>\n",
       "    <tr style=\"text-align: right;\">\n",
       "      <th></th>\n",
       "      <th>itemset</th>\n",
       "      <th>sup</th>\n",
       "    </tr>\n",
       "  </thead>\n",
       "  <tbody>\n",
       "    <tr>\n",
       "      <th>0</th>\n",
       "      <td>{1, 2, 3}</td>\n",
       "      <td>3</td>\n",
       "    </tr>\n",
       "  </tbody>\n",
       "</table>\n",
       "</div>"
      ],
      "text/plain": [
       "     itemset  sup\n",
       "0  {1, 2, 3}    3"
      ]
     },
     "execution_count": 269,
     "metadata": {},
     "output_type": "execute_result"
    }
   ],
   "source": [
    "freq_itemset3"
   ]
  },
  {
   "cell_type": "markdown",
   "metadata": {},
   "source": [
    "## All Frequent Itemset"
   ]
  },
  {
   "cell_type": "code",
   "execution_count": 270,
   "metadata": {
    "scrolled": true
   },
   "outputs": [
    {
     "data": {
      "text/html": [
       "<div>\n",
       "<style scoped>\n",
       "    .dataframe tbody tr th:only-of-type {\n",
       "        vertical-align: middle;\n",
       "    }\n",
       "\n",
       "    .dataframe tbody tr th {\n",
       "        vertical-align: top;\n",
       "    }\n",
       "\n",
       "    .dataframe thead th {\n",
       "        text-align: right;\n",
       "    }\n",
       "</style>\n",
       "<table border=\"1\" class=\"dataframe\">\n",
       "  <thead>\n",
       "    <tr style=\"text-align: right;\">\n",
       "      <th></th>\n",
       "      <th>itemset</th>\n",
       "      <th>sup</th>\n",
       "    </tr>\n",
       "  </thead>\n",
       "  <tbody>\n",
       "    <tr>\n",
       "      <th>0</th>\n",
       "      <td>1</td>\n",
       "      <td>8</td>\n",
       "    </tr>\n",
       "    <tr>\n",
       "      <th>1</th>\n",
       "      <td>2</td>\n",
       "      <td>6</td>\n",
       "    </tr>\n",
       "    <tr>\n",
       "      <th>2</th>\n",
       "      <td>3</td>\n",
       "      <td>6</td>\n",
       "    </tr>\n",
       "    <tr>\n",
       "      <th>3</th>\n",
       "      <td>4</td>\n",
       "      <td>4</td>\n",
       "    </tr>\n",
       "    <tr>\n",
       "      <th>4</th>\n",
       "      <td>5</td>\n",
       "      <td>4</td>\n",
       "    </tr>\n",
       "  </tbody>\n",
       "</table>\n",
       "</div>"
      ],
      "text/plain": [
       "   itemset  sup\n",
       "0        1    8\n",
       "1        2    6\n",
       "2        3    6\n",
       "3        4    4\n",
       "4        5    4"
      ]
     },
     "execution_count": 270,
     "metadata": {},
     "output_type": "execute_result"
    }
   ],
   "source": [
    "#Let'see each frequent itemset (L)\n",
    "freq_itemset1"
   ]
  },
  {
   "cell_type": "code",
   "execution_count": 271,
   "metadata": {
    "scrolled": true
   },
   "outputs": [
    {
     "data": {
      "text/html": [
       "<div>\n",
       "<style scoped>\n",
       "    .dataframe tbody tr th:only-of-type {\n",
       "        vertical-align: middle;\n",
       "    }\n",
       "\n",
       "    .dataframe tbody tr th {\n",
       "        vertical-align: top;\n",
       "    }\n",
       "\n",
       "    .dataframe thead th {\n",
       "        text-align: right;\n",
       "    }\n",
       "</style>\n",
       "<table border=\"1\" class=\"dataframe\">\n",
       "  <thead>\n",
       "    <tr style=\"text-align: right;\">\n",
       "      <th></th>\n",
       "      <th>itemset</th>\n",
       "      <th>sup</th>\n",
       "    </tr>\n",
       "  </thead>\n",
       "  <tbody>\n",
       "    <tr>\n",
       "      <th>0</th>\n",
       "      <td>{1, 2}</td>\n",
       "      <td>5</td>\n",
       "    </tr>\n",
       "    <tr>\n",
       "      <th>1</th>\n",
       "      <td>{1, 3}</td>\n",
       "      <td>5</td>\n",
       "    </tr>\n",
       "    <tr>\n",
       "      <th>3</th>\n",
       "      <td>{1, 5}</td>\n",
       "      <td>3</td>\n",
       "    </tr>\n",
       "    <tr>\n",
       "      <th>4</th>\n",
       "      <td>{2, 3}</td>\n",
       "      <td>4</td>\n",
       "    </tr>\n",
       "  </tbody>\n",
       "</table>\n",
       "</div>"
      ],
      "text/plain": [
       "  itemset  sup\n",
       "0  {1, 2}    5\n",
       "1  {1, 3}    5\n",
       "3  {1, 5}    3\n",
       "4  {2, 3}    4"
      ]
     },
     "execution_count": 271,
     "metadata": {},
     "output_type": "execute_result"
    }
   ],
   "source": [
    "freq_itemset2"
   ]
  },
  {
   "cell_type": "code",
   "execution_count": 272,
   "metadata": {
    "scrolled": true
   },
   "outputs": [
    {
     "data": {
      "text/html": [
       "<div>\n",
       "<style scoped>\n",
       "    .dataframe tbody tr th:only-of-type {\n",
       "        vertical-align: middle;\n",
       "    }\n",
       "\n",
       "    .dataframe tbody tr th {\n",
       "        vertical-align: top;\n",
       "    }\n",
       "\n",
       "    .dataframe thead th {\n",
       "        text-align: right;\n",
       "    }\n",
       "</style>\n",
       "<table border=\"1\" class=\"dataframe\">\n",
       "  <thead>\n",
       "    <tr style=\"text-align: right;\">\n",
       "      <th></th>\n",
       "      <th>itemset</th>\n",
       "      <th>sup</th>\n",
       "    </tr>\n",
       "  </thead>\n",
       "  <tbody>\n",
       "    <tr>\n",
       "      <th>0</th>\n",
       "      <td>{1, 2, 3}</td>\n",
       "      <td>3</td>\n",
       "    </tr>\n",
       "  </tbody>\n",
       "</table>\n",
       "</div>"
      ],
      "text/plain": [
       "     itemset  sup\n",
       "0  {1, 2, 3}    3"
      ]
     },
     "execution_count": 272,
     "metadata": {},
     "output_type": "execute_result"
    }
   ],
   "source": [
    "freq_itemset3"
   ]
  },
  {
   "cell_type": "code",
   "execution_count": 273,
   "metadata": {},
   "outputs": [],
   "source": [
    "frequent_itemset = pd.concat([freq_itemset1, freq_itemset2, freq_itemset3], axis=0)"
   ]
  },
  {
   "cell_type": "code",
   "execution_count": 274,
   "metadata": {},
   "outputs": [
    {
     "data": {
      "text/html": [
       "<div>\n",
       "<style scoped>\n",
       "    .dataframe tbody tr th:only-of-type {\n",
       "        vertical-align: middle;\n",
       "    }\n",
       "\n",
       "    .dataframe tbody tr th {\n",
       "        vertical-align: top;\n",
       "    }\n",
       "\n",
       "    .dataframe thead th {\n",
       "        text-align: right;\n",
       "    }\n",
       "</style>\n",
       "<table border=\"1\" class=\"dataframe\">\n",
       "  <thead>\n",
       "    <tr style=\"text-align: right;\">\n",
       "      <th></th>\n",
       "      <th>itemset</th>\n",
       "      <th>sup</th>\n",
       "    </tr>\n",
       "  </thead>\n",
       "  <tbody>\n",
       "    <tr>\n",
       "      <th>0</th>\n",
       "      <td>1</td>\n",
       "      <td>8</td>\n",
       "    </tr>\n",
       "    <tr>\n",
       "      <th>1</th>\n",
       "      <td>2</td>\n",
       "      <td>6</td>\n",
       "    </tr>\n",
       "    <tr>\n",
       "      <th>2</th>\n",
       "      <td>3</td>\n",
       "      <td>6</td>\n",
       "    </tr>\n",
       "    <tr>\n",
       "      <th>3</th>\n",
       "      <td>4</td>\n",
       "      <td>4</td>\n",
       "    </tr>\n",
       "    <tr>\n",
       "      <th>4</th>\n",
       "      <td>5</td>\n",
       "      <td>4</td>\n",
       "    </tr>\n",
       "    <tr>\n",
       "      <th>0</th>\n",
       "      <td>{1, 2}</td>\n",
       "      <td>5</td>\n",
       "    </tr>\n",
       "    <tr>\n",
       "      <th>1</th>\n",
       "      <td>{1, 3}</td>\n",
       "      <td>5</td>\n",
       "    </tr>\n",
       "    <tr>\n",
       "      <th>3</th>\n",
       "      <td>{1, 5}</td>\n",
       "      <td>3</td>\n",
       "    </tr>\n",
       "    <tr>\n",
       "      <th>4</th>\n",
       "      <td>{2, 3}</td>\n",
       "      <td>4</td>\n",
       "    </tr>\n",
       "    <tr>\n",
       "      <th>0</th>\n",
       "      <td>{1, 2, 3}</td>\n",
       "      <td>3</td>\n",
       "    </tr>\n",
       "  </tbody>\n",
       "</table>\n",
       "</div>"
      ],
      "text/plain": [
       "     itemset  sup\n",
       "0          1    8\n",
       "1          2    6\n",
       "2          3    6\n",
       "3          4    4\n",
       "4          5    4\n",
       "0     {1, 2}    5\n",
       "1     {1, 3}    5\n",
       "3     {1, 5}    3\n",
       "4     {2, 3}    4\n",
       "0  {1, 2, 3}    3"
      ]
     },
     "execution_count": 274,
     "metadata": {},
     "output_type": "execute_result"
    }
   ],
   "source": [
    "frequent_itemset"
   ]
  },
  {
   "cell_type": "code",
   "execution_count": 275,
   "metadata": {},
   "outputs": [],
   "source": [
    "#Reset the index\n",
    "frequent_itemset_final = frequent_itemset.reset_index(drop=True)"
   ]
  },
  {
   "cell_type": "markdown",
   "metadata": {},
   "source": [
    "## Final Output of Freq. Itemset (L1-L3)"
   ]
  },
  {
   "cell_type": "code",
   "execution_count": 276,
   "metadata": {},
   "outputs": [
    {
     "data": {
      "text/html": [
       "<div>\n",
       "<style scoped>\n",
       "    .dataframe tbody tr th:only-of-type {\n",
       "        vertical-align: middle;\n",
       "    }\n",
       "\n",
       "    .dataframe tbody tr th {\n",
       "        vertical-align: top;\n",
       "    }\n",
       "\n",
       "    .dataframe thead th {\n",
       "        text-align: right;\n",
       "    }\n",
       "</style>\n",
       "<table border=\"1\" class=\"dataframe\">\n",
       "  <thead>\n",
       "    <tr style=\"text-align: right;\">\n",
       "      <th></th>\n",
       "      <th>itemset</th>\n",
       "      <th>sup</th>\n",
       "    </tr>\n",
       "  </thead>\n",
       "  <tbody>\n",
       "    <tr>\n",
       "      <th>0</th>\n",
       "      <td>1</td>\n",
       "      <td>8</td>\n",
       "    </tr>\n",
       "    <tr>\n",
       "      <th>1</th>\n",
       "      <td>2</td>\n",
       "      <td>6</td>\n",
       "    </tr>\n",
       "    <tr>\n",
       "      <th>2</th>\n",
       "      <td>3</td>\n",
       "      <td>6</td>\n",
       "    </tr>\n",
       "    <tr>\n",
       "      <th>3</th>\n",
       "      <td>4</td>\n",
       "      <td>4</td>\n",
       "    </tr>\n",
       "    <tr>\n",
       "      <th>4</th>\n",
       "      <td>5</td>\n",
       "      <td>4</td>\n",
       "    </tr>\n",
       "    <tr>\n",
       "      <th>5</th>\n",
       "      <td>{1, 2}</td>\n",
       "      <td>5</td>\n",
       "    </tr>\n",
       "    <tr>\n",
       "      <th>6</th>\n",
       "      <td>{1, 3}</td>\n",
       "      <td>5</td>\n",
       "    </tr>\n",
       "    <tr>\n",
       "      <th>7</th>\n",
       "      <td>{1, 5}</td>\n",
       "      <td>3</td>\n",
       "    </tr>\n",
       "    <tr>\n",
       "      <th>8</th>\n",
       "      <td>{2, 3}</td>\n",
       "      <td>4</td>\n",
       "    </tr>\n",
       "    <tr>\n",
       "      <th>9</th>\n",
       "      <td>{1, 2, 3}</td>\n",
       "      <td>3</td>\n",
       "    </tr>\n",
       "  </tbody>\n",
       "</table>\n",
       "</div>"
      ],
      "text/plain": [
       "     itemset  sup\n",
       "0          1    8\n",
       "1          2    6\n",
       "2          3    6\n",
       "3          4    4\n",
       "4          5    4\n",
       "5     {1, 2}    5\n",
       "6     {1, 3}    5\n",
       "7     {1, 5}    3\n",
       "8     {2, 3}    4\n",
       "9  {1, 2, 3}    3"
      ]
     },
     "execution_count": 276,
     "metadata": {},
     "output_type": "execute_result"
    }
   ],
   "source": [
    "frequent_itemset_final"
   ]
  }
 ],
 "metadata": {
  "kernelspec": {
   "display_name": "Python 3",
   "language": "python",
   "name": "python3"
  },
  "language_info": {
   "codemirror_mode": {
    "name": "ipython",
    "version": 3
   },
   "file_extension": ".py",
   "mimetype": "text/x-python",
   "name": "python",
   "nbconvert_exporter": "python",
   "pygments_lexer": "ipython3",
   "version": "3.5.5"
  },
  "toc": {
   "base_numbering": 1,
   "nav_menu": {},
   "number_sections": true,
   "sideBar": true,
   "skip_h1_title": true,
   "title_cell": "Table of Contents",
   "title_sidebar": "Contents",
   "toc_cell": true,
   "toc_position": {},
   "toc_section_display": true,
   "toc_window_display": false
  }
 },
 "nbformat": 4,
 "nbformat_minor": 2
}
